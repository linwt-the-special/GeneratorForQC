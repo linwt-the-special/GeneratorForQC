{
 "cells": [
  {
   "cell_type": "markdown",
   "id": "ca8283df-e353-4e58-a726-8e75ae1007e9",
   "metadata": {},
   "source": [
    "# Util"
   ]
  },
  {
   "cell_type": "markdown",
   "id": "d5b61c95-b4b1-4c6a-b345-4a91f1feb32c",
   "metadata": {},
   "source": [
    "Miscellaneous util code."
   ]
  },
  {
   "cell_type": "code",
   "execution_count": 5,
   "id": "1ad65227-3d39-4f9c-832a-2d4555aeb399",
   "metadata": {},
   "outputs": [],
   "source": [
    "#| default_exp util"
   ]
  },
  {
   "cell_type": "code",
   "execution_count": 6,
   "id": "5b3271aa-6684-40ab-8c73-b8f9210ab423",
   "metadata": {},
   "outputs": [],
   "source": [
    "#| export\n",
    "from generator.imports import *\n",
    "import gc, sys, traceback"
   ]
  },
  {
   "cell_type": "markdown",
   "id": "97eb37f5-8fb3-4299-b790-c7b478ed78b1",
   "metadata": {},
   "source": [
    "## Memory utils"
   ]
  },
  {
   "cell_type": "code",
   "execution_count": 7,
   "id": "a5f68941-9951-42de-a3d6-7c0399281ac3",
   "metadata": {},
   "outputs": [],
   "source": [
    "#|export\n",
    "class MemoryCleaner():\n",
    "    \"\"\"CLass with static methods to clean (gpu) memory.\"\"\"\n",
    "    \n",
    "    @staticmethod\n",
    "    def _clean_ipython_hist():\n",
    "        # Code in this function mainly copied from IPython source\n",
    "        if not 'get_ipython' in globals(): return\n",
    "        ip = get_ipython()\n",
    "        user_ns = ip.user_ns\n",
    "        ip.displayhook.flush()\n",
    "        pc = ip.displayhook.prompt_count + 1\n",
    "        for n in range(1, pc): user_ns.pop('_i'+repr(n),None)\n",
    "        user_ns.update(dict(_i='',_ii='',_iii=''))\n",
    "        hm = ip.history_manager\n",
    "        hm.input_hist_parsed[:] = [''] * pc\n",
    "        hm.input_hist_raw[:] = [''] * pc\n",
    "        hm._i = hm._ii = hm._iii = hm._i00 =  ''\n",
    "\n",
    "    @staticmethod\n",
    "    def _clean_tb():\n",
    "        if hasattr(sys, 'last_traceback'):\n",
    "            traceback.clear_frames(sys.last_traceback)\n",
    "            delattr(sys, 'last_traceback')\n",
    "        if hasattr(sys, 'last_type'): delattr(sys, 'last_type')\n",
    "        if hasattr(sys, 'last_value'): delattr(sys, 'last_value')\n",
    "        \n",
    "    @staticmethod\n",
    "    def purge_mem():\n",
    "        \"\"\"Clear all. Purge all memory.\"\"\"\n",
    "        MemoryCleaner._clean_tb()\n",
    "        MemoryCleaner._clean_ipython_hist()\n",
    "        gc.collect()\n",
    "        torch.cuda.empty_cache()    "
   ]
  },
  {
   "cell_type": "markdown",
   "id": "f910a356-b685-44fb-98ea-4c03ab6969fb",
   "metadata": {},
   "source": [
    "## Python utils"
   ]
  },
  {
   "cell_type": "code",
   "execution_count": 8,
   "id": "ca1fa9d4-aea9-4c72-a72b-bc187db868d6",
   "metadata": {},
   "outputs": [],
   "source": [
    "#| export\n",
    "def virtual(f: callable) -> callable:\n",
    "    '''Decorator to enfore subclass method implementations and raises error at method calls.'''\n",
    "    @functools.wraps(f)\n",
    "    def inner(self, *args, **kwargs): raise NotImplementedError(f\"Virtual method {f.__name__} needs to be implemented by subclass {self.__class__.__name__}.\")      \n",
    "    return inner"
   ]
  },
  {
   "cell_type": "code",
   "execution_count": 9,
   "id": "59dc4c68-4a11-4b0e-9486-3faf2d1acbbc",
   "metadata": {},
   "outputs": [
    {
     "name": "stdout",
     "output_type": "stream",
     "text": [
      "A p1 1\n",
      "Exception that would be raised:  Virtual method p2 needs to be implemented by subclass B.\n"
     ]
    }
   ],
   "source": [
    "class A():\n",
    "    def p1(self, x): print(\"A p1\", x)\n",
    "    \n",
    "    @virtual\n",
    "    def p2(self, x): pass\n",
    " \n",
    "class B(A):\n",
    "    def p3(self, x): print(\"B p2\", x)\n",
    "    \n",
    "b = B()\n",
    "b.p1(1)\n",
    "try:\n",
    "    b.p2(1)\n",
    "except BaseException as e:\n",
    "    print(\"Exception that would be raised: \", e)"
   ]
  },
  {
   "cell_type": "markdown",
   "id": "2086a56a-b142-41c2-8b67-716d6afbc574",
   "metadata": {},
   "source": [
    "## Torch utils"
   ]
  },
  {
   "cell_type": "code",
   "execution_count": 10,
   "id": "1f4e15ca-cbab-4ee0-bf9a-fabe0a687c9b",
   "metadata": {},
   "outputs": [],
   "source": [
    "#|export\n",
    "class DataLoaders:\n",
    "    \"\"\"Combines train and valid `DataLoader`.\"\"\"\n",
    "    def __init__(self, *dls: list[DataLoader]): self.train, self.valid = dls[:2]"
   ]
  },
  {
   "cell_type": "code",
   "execution_count": 11,
   "id": "61e428d1-3482-412c-8286-011a979a7fae",
   "metadata": {},
   "outputs": [],
   "source": [
    "#| export\n",
    "def infer_torch_device(): \n",
    "    if torch.cuda.is_available():   \n",
    "        torch.backends.cudnn.benchmark = True\n",
    "\n",
    "        dev_cap = torch.cuda.get_device_capability()\n",
    "        \n",
    "        if dev_cap[0] >= 8: # AMPERE\n",
    "            print(f\"[INFO]: Cuda device has a capability of {dev_cap[0]}.{dev_cap[1]} (>= 8), allowing tf32 matmul.\")\n",
    "            torch.backends.cuda.matmul.allow_tf32 = True\n",
    "        \n",
    "        return torch.device(\"cuda\")\n",
    "    return torch.device(\"cpu\")"
   ]
  },
  {
   "cell_type": "code",
   "execution_count": 12,
   "id": "84ba05ff-9d30-4c43-9b15-187c219b385d",
   "metadata": {},
   "outputs": [
    {
     "name": "stdout",
     "output_type": "stream",
     "text": [
      "[INFO]: Cuda device has a capability of 8.6 (>= 8), allowing tf32 matmul.\n"
     ]
    },
    {
     "data": {
      "text/plain": [
       "device(type='cuda')"
      ]
     },
     "execution_count": 12,
     "metadata": {},
     "output_type": "execute_result"
    }
   ],
   "source": [
    "infer_torch_device()"
   ]
  },
  {
   "cell_type": "code",
   "execution_count": 13,
   "id": "e05ec728-70a3-402f-80cc-c58a18394710",
   "metadata": {},
   "outputs": [],
   "source": [
    "#| export\n",
    "def number_of_paramters(model: nn.Module): return sum([p.flatten().shape[0] for p in model.parameters()])"
   ]
  },
  {
   "cell_type": "code",
   "execution_count": 14,
   "id": "e7122570-f02a-4fc2-b9db-8d65a72ceb94",
   "metadata": {},
   "outputs": [],
   "source": [
    "#| export\n",
    "def normalize_tensor(t: torch.Tensor):\n",
    "    \"\"\"[0,1] to [-1,1]\"\"\"\n",
    "    return t * 2.0 - 1.0\n",
    "\n",
    "def scale_tensor(t: torch.Tensor):\n",
    "    \"\"\"[-1,1] to [0,1]\"\"\"\n",
    "    return (t / 2.0 + 0.5).clamp(0.0, 1.0)"
   ]
  },
  {
   "cell_type": "markdown",
   "id": "058de092-2f9e-4d4e-b321-c4539f618a1d",
   "metadata": {},
   "source": [
    "## Plot utils"
   ]
  },
  {
   "cell_type": "code",
   "execution_count": 15,
   "id": "34d371d4-9fee-4544-81e5-4d82f6e720cd",
   "metadata": {},
   "outputs": [],
   "source": [
    "#| export\n",
    "def savePdf(filename): plt.savefig(filename + '.pdf', bbox_inches='tight')\n",
    "def savePng(filename): plt.savefig(filename + '.png', bbox_inches='tight')\n",
    "def saveSvg(filename): plt.savefig(filename + '.svg', bbox_inches='tight')"
   ]
  },
  {
   "cell_type": "code",
   "execution_count": 16,
   "id": "276a1ac5-ff77-47e2-9530-faa152e2a120",
   "metadata": {},
   "outputs": [],
   "source": [
    "#| export\n",
    "def plot_image_grid(imgs: Union[list, np.array, torch.Tensor], labels: list=None, labels_fs=\"medium\", \n",
    "                    figsize=(16, 4), cols=8, cmap=\"Greys\", show_colorbar=False, **imshow_kwargs):  \n",
    "    if type(imgs) is list: n = len(imgs)\n",
    "    elif type(imgs) is np.ndarray: n = imgs.shape[0]\n",
    "    elif type(imgs) is torch.Tensor: n = imgs.shape[0]\n",
    "    else: raise NotImplementedError(\"err type:\", type(imgs))\n",
    "\n",
    "    if n == 0: return\n",
    "\n",
    "    cols = min(n, cols)\n",
    "    rows = math.ceil(n/cols)\n",
    "\n",
    "    fig, axs = plt.subplots(rows, cols, figsize=figsize, squeeze=False, constrained_layout=True)   \n",
    "    for i, (r, c) in enumerate(itertools.product(range(rows), range(cols))):\n",
    "        plt.sca(axs[r,c])\n",
    "        plt.axis('off')\n",
    "         \n",
    "        if i >= n: continue\n",
    "\n",
    "        if labels is not None: plt.title(labels[i], fontsize=labels_fs)\n",
    "        p = plt.imshow(imgs[i], cmap=cmap, **imshow_kwargs) #cmap ignored for RGB   \n",
    "        if show_colorbar: plt.colorbar(p)\n",
    "        \n",
    "    plt.show()"
   ]
  },
  {
   "cell_type": "code",
   "execution_count": 17,
   "id": "46b4389e-3f3b-40ce-8360-d32fe2350a9e",
   "metadata": {},
   "outputs": [
    {
     "data": {
      "image/png": "[encoded data removed]",
      "text/plain": [
       "<Figure size 1600x400 with 6 Axes>"
      ]
     },
     "metadata": {},
     "output_type": "display_data"
    }
   ],
   "source": [
    "n = 6\n",
    "plot_image_grid(torch.randn((n,28,28,1)), [f\"label {i}\" for i in range(n)])"
   ]
  },
  {
   "cell_type": "code",
   "execution_count": 18,
   "id": "a9d2dca8-d73f-49fc-a56c-1c148b1abeab",
   "metadata": {},
   "outputs": [],
   "source": [
    "#| export\n",
    "def latents_to_pil(latents:torch.Tensor, channels=None):\n",
    "    if channels is None:        \n",
    "        channels = latents.shape[1] if len(latents.shape) > 3 else 1\n",
    "            \n",
    "    images = scale_tensor(latents)\n",
    "    images = images.detach().cpu().permute(0, 2, 3, 1).numpy()\n",
    "    \n",
    "    if channels == 1: images = images[:, :, :, 0]\n",
    "\n",
    "    images = (images * 255).round().astype(np.uint8)\n",
    "  \n",
    "    pil_images = [Image.fromarray(image) for image in images]\n",
    "    return pil_images   "
   ]
  },
  {
   "cell_type": "markdown",
   "id": "82152d0d-bfac-4196-ba10-3dfe21fc705f",
   "metadata": {},
   "source": [
    "# Export -"
   ]
  },
  {
   "cell_type": "code",
   "execution_count": 19,
   "id": "11d3d56b-0aba-4ccc-9299-86bf132fcc99",
   "metadata": {},
   "outputs": [],
   "source": [
    "#| hide\n",
    "import nbdev; nbdev.nbdev_export()"
   ]
  }
 ],
 "metadata": {
  "kernelspec": {
   "display_name": "vit",
   "language": "python",
   "name": "python3"
  },
  "language_info": {
   "codemirror_mode": {
    "name": "ipython",
    "version": 3
   },
   "file_extension": ".py",
   "mimetype": "text/x-python",
   "name": "python",
   "nbconvert_exporter": "python",
   "pygments_lexer": "ipython3",
   "version": "3.10.16"
  },
  "widgets": {
   "application/vnd.jupyter.widget-state+json": {
    "state": {},
    "version_major": 2,
    "version_minor": 0
   }
  }
 },
 "nbformat": 4,
 "nbformat_minor": 5
}
