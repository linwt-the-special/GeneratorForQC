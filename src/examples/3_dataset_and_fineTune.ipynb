{
 "cells": [
  {
   "cell_type": "markdown",
   "id": "69a855f1-55dd-482e-94f2-9ad02804be4d",
   "metadata": {},
   "source": [
    "# SRV demo-dataset and fine-tune"
   ]
  },
  {
   "cell_type": "markdown",
   "id": "e41e2465-49d8-46b8-b046-6ae1becfb268",
   "metadata": {},
   "source": [
    "In this notebook we create a (demo) 9-qubit dataset and fine-tune the model with it. Note, we use direct fine-tuning similar as you would train the model from scratch (with a higher learn-rate and larger dataset)."
   ]
  },
  {
   "cell_type": "code",
   "execution_count": 1,
   "id": "436ca6a7",
   "metadata": {},
   "outputs": [],
   "source": [
    "import os\n",
    "\n",
    "# 获取当前工作目录\n",
    "current_dir = os.getcwd()\n",
    "\n",
    "# # 改变工作目录到上一级目录\n",
    "# os.chdir(os.path.join(current_dir, '..'))\n",
    "\n",
    "# 切换到上上级目录\n",
    "os.chdir(os.path.join(current_dir, \"..\", \"..\"))"
   ]
  },
  {
   "cell_type": "code",
   "execution_count": 2,
   "id": "3bde494e-9091-41a4-a601-bbcf9712c564",
   "metadata": {},
   "outputs": [
    {
     "name": "stdout",
     "output_type": "stream",
     "text": [
      "Please install quict_sim first, you can use 'pip install quict_sim' to install. \n"
     ]
    }
   ],
   "source": [
    "from generator.imports import *\n",
    "import generator.util as util\n",
    "import generator.platform.qcircuit_dataset_construction as data_const\n",
    "import generator.inference.infer_srv as infer_srv\n",
    "import generator.dataset.dataset_helper as dahe\n",
    "from generator.platform.simulation.qcircuit_sim import instruction_name_to_gate\n",
    "from generator.pipeline.diffusion_pipeline import DiffusionPipeline\n",
    "from generator.dataset.qc_dataset import Qc_Config_Dataset\n",
    "from generator.dataset.mixed_cached_qc_dataset import Mixed_Cached_OpenClip_Dataset"
   ]
  },
  {
   "cell_type": "code",
   "execution_count": 3,
   "id": "029be4f3-0d9a-4d0a-93d9-2338fda7a983",
   "metadata": {},
   "outputs": [
    {
     "name": "stdout",
     "output_type": "stream",
     "text": [
      "[INFO]: Cuda device has a capability of 8.6 (>= 8), allowing tf32 matmul.\n"
     ]
    }
   ],
   "source": [
    "device = util.infer_torch_device()  # use cuda if we can, cpu is much slower\n",
    "util.MemoryCleaner.purge_mem()      # clean existing memory alloc"
   ]
  },
  {
   "cell_type": "markdown",
   "id": "f77a3020-247c-4ac0-aaf1-ee5c371b5f06",
   "metadata": {},
   "source": [
    "## Setup and load"
   ]
  },
  {
   "cell_type": "code",
   "execution_count": 4,
   "id": "e5d60c23-9514-4432-bc82-622c088fced6",
   "metadata": {},
   "outputs": [],
   "source": [
    "def get_pretrained_pipeline():\n",
    "    # pipeline = DiffusionPipeline.from_pretrained(\"Floki00/qc_srv_3to8qubit\", device)\n",
    "    \n",
    "    # -- use this for local files\n",
    "    model_path = \"saves/qc_unet_config_SRV_3to8_qubit/\"\n",
    "    pipeline   = DiffusionPipeline.from_config_file(model_path, device)  \n",
    "   \n",
    "    return pipeline"
   ]
  },
  {
   "cell_type": "markdown",
   "id": "742ae430-46f2-4099-ac8f-f422a4ddc1dc",
   "metadata": {},
   "source": [
    "Load the pre-trained model directly from [Hugging Face: Floki00/qc_srv_3to8qubit](https://huggingface.co/Floki00/qc_srv_3to8qubit) or from local files. Set 20 sample steps and use rescaled guidance-formula."
   ]
  },
  {
   "cell_type": "code",
   "execution_count": 5,
   "id": "655756d0-1619-4e8e-acc1-3f76a507a73b",
   "metadata": {},
   "outputs": [
    {
     "name": "stdout",
     "output_type": "stream",
     "text": [
      "[INFO]: `generator.models.unet_qc.QC_Cond_UNet` instantiated from given config on cuda.\n",
      "[INFO]: `generator.models.frozen_open_clip.CachedFrozenOpenCLIPEmbedder` instantiated from given config on cuda.\n",
      "[INFO]: `generator.models.frozen_open_clip.CachedFrozenOpenCLIPEmbedder`. No save_path` provided. No state dict loaded.\n",
      "Trained with gates: ['h', 'cx']\n"
     ]
    }
   ],
   "source": [
    "pipeline = get_pretrained_pipeline()\n",
    "\n",
    "pipeline.guidance_sample_mode = \"rescaled\"\n",
    "pipeline.scheduler.set_timesteps(20) \n",
    "\n",
    "print(\"Trained with gates:\", pipeline.gate_pool)"
   ]
  },
  {
   "cell_type": "markdown",
   "id": "11fd1a13-512f-49d8-8b48-7c4298cd1c3c",
   "metadata": {},
   "source": [
    "## Generate 9 qubit circuits without fine-tune"
   ]
  },
  {
   "cell_type": "markdown",
   "id": "7ed21393-a99d-4fb2-aef6-0cebd85ae14f",
   "metadata": {},
   "source": [
    "Generate circuits as explained in the `0_hello_circuit` [[doc]](https://florianfuerrutter.github.io/genQC/examples/hello_circuit.html) [[notebook]](https://github.com/FlorianFuerrutter/genQC/blob/main/src/examples/0_hello_circuit.ipynb) example."
   ]
  },
  {
   "cell_type": "code",
   "execution_count": 6,
   "id": "9ff69bfb-6053-4b88-9123-cc6ba93419d2",
   "metadata": {},
   "outputs": [
    {
     "data": {
      "text/plain": [
       "'Generate SRV: [2, 2, 2, 1, 1, 1, 1, 1, 2]'"
      ]
     },
     "execution_count": 6,
     "metadata": {},
     "output_type": "execute_result"
    }
   ],
   "source": [
    "srv           = [2, 2, 2, 1, 1, 1, 1, 1, 2]  # set your target SRV\n",
    "num_of_qubits = len(srv)          \n",
    "assert num_of_qubits == 9\n",
    "\n",
    "prompt = f\"Generate SRV: {srv}\"  # model was trained with this phrase\n",
    "prompt"
   ]
  },
  {
   "cell_type": "code",
   "execution_count": 7,
   "id": "72ec293e-5b3c-4f3d-a478-2389d6477c57",
   "metadata": {},
   "outputs": [
    {
     "data": {
      "application/vnd.jupyter.widget-view+json": {
       "model_id": "f5660d7486f247689dc1afeab3be1515",
       "version_major": 2,
       "version_minor": 0
      },
      "text/plain": [
       "  0%|          | 0/20 [00:00<?, ?it/s]"
      ]
     },
     "metadata": {},
     "output_type": "display_data"
    },
    {
     "name": "stderr",
     "output_type": "stream",
     "text": [
      "DEBUG:Circuit:Initial Quantum Circuit None with 9 qubits.\n",
      "DEBUG:Circuit:Initial Quantum Circuit None with 9 qubits.\n",
      "DEBUG:Circuit:Initial Quantum Circuit None with 9 qubits.\n",
      "DEBUG:Circuit:Initial Quantum Circuit None with 9 qubits.\n",
      "DEBUG:Circuit:Initial Quantum Circuit None with 9 qubits.\n",
      "DEBUG:Circuit:Initial Quantum Circuit None with 9 qubits.\n",
      "DEBUG:Circuit:Initial Quantum Circuit None with 9 qubits.\n",
      "DEBUG:Circuit:Initial Quantum Circuit None with 9 qubits.\n",
      "DEBUG:Circuit:Initial Quantum Circuit None with 9 qubits.\n",
      "DEBUG:Circuit:Initial Quantum Circuit None with 9 qubits.\n",
      "DEBUG:Circuit:Initial Quantum Circuit None with 9 qubits.\n",
      "DEBUG:Circuit:Initial Quantum Circuit None with 9 qubits.\n",
      "DEBUG:Circuit:Initial Quantum Circuit None with 9 qubits.\n",
      "DEBUG:Circuit:Initial Quantum Circuit None with 9 qubits.\n",
      "DEBUG:Circuit:Initial Quantum Circuit None with 9 qubits.\n",
      "DEBUG:Circuit:Initial Quantum Circuit None with 9 qubits.\n",
      "DEBUG:Circuit:Initial Quantum Circuit None with 9 qubits.\n",
      "DEBUG:Circuit:Initial Quantum Circuit None with 9 qubits.\n",
      "DEBUG:Circuit:Initial Quantum Circuit None with 9 qubits.\n",
      "DEBUG:Circuit:Initial Quantum Circuit None with 9 qubits.\n",
      "DEBUG:Circuit:Initial Quantum Circuit None with 9 qubits.\n",
      "DEBUG:Circuit:Initial Quantum Circuit None with 9 qubits.\n",
      "DEBUG:Circuit:Initial Quantum Circuit None with 9 qubits.\n",
      "DEBUG:Circuit:Initial Quantum Circuit None with 9 qubits.\n",
      "DEBUG:Circuit:Initial Quantum Circuit None with 9 qubits.\n",
      "DEBUG:Circuit:Initial Quantum Circuit None with 9 qubits.\n",
      "DEBUG:Circuit:Initial Quantum Circuit None with 9 qubits.\n",
      "DEBUG:Circuit:Initial Quantum Circuit None with 9 qubits.\n",
      "DEBUG:Circuit:Initial Quantum Circuit None with 9 qubits.\n",
      "DEBUG:Circuit:Initial Quantum Circuit None with 9 qubits.\n",
      "DEBUG:Circuit:Initial Quantum Circuit None with 9 qubits.\n",
      "DEBUG:Circuit:Initial Quantum Circuit None with 9 qubits.\n",
      "DEBUG:Circuit:Initial Quantum Circuit None with 9 qubits.\n",
      "DEBUG:Circuit:Initial Quantum Circuit None with 9 qubits.\n",
      "DEBUG:Circuit:Initial Quantum Circuit None with 9 qubits.\n",
      "DEBUG:Circuit:Initial Quantum Circuit None with 9 qubits.\n",
      "DEBUG:Circuit:Initial Quantum Circuit None with 9 qubits.\n",
      "DEBUG:Circuit:Initial Quantum Circuit None with 9 qubits.\n",
      "DEBUG:Circuit:Initial Quantum Circuit None with 9 qubits.\n",
      "DEBUG:Circuit:Initial Quantum Circuit None with 9 qubits.\n",
      "DEBUG:Circuit:Initial Quantum Circuit None with 9 qubits.\n",
      "DEBUG:Circuit:Initial Quantum Circuit None with 9 qubits.\n",
      "DEBUG:Circuit:Initial Quantum Circuit None with 9 qubits.\n",
      "DEBUG:Circuit:Initial Quantum Circuit None with 9 qubits.\n",
      "DEBUG:Circuit:Initial Quantum Circuit None with 9 qubits.\n",
      "DEBUG:Circuit:Initial Quantum Circuit None with 9 qubits.\n",
      "DEBUG:Circuit:Initial Quantum Circuit None with 9 qubits.\n",
      "DEBUG:Circuit:Initial Quantum Circuit None with 9 qubits.\n",
      "DEBUG:Circuit:Initial Quantum Circuit None with 9 qubits.\n",
      "DEBUG:Circuit:Initial Quantum Circuit None with 9 qubits.\n",
      "DEBUG:Circuit:Initial Quantum Circuit None with 9 qubits.\n",
      "DEBUG:Circuit:Initial Quantum Circuit None with 9 qubits.\n",
      "DEBUG:Circuit:Initial Quantum Circuit None with 9 qubits.\n",
      "DEBUG:Circuit:Initial Quantum Circuit None with 9 qubits.\n",
      "DEBUG:Circuit:Initial Quantum Circuit None with 9 qubits.\n",
      "DEBUG:Circuit:Initial Quantum Circuit None with 9 qubits.\n",
      "DEBUG:Circuit:Initial Quantum Circuit None with 9 qubits.\n",
      "DEBUG:Circuit:Initial Quantum Circuit None with 9 qubits.\n",
      "DEBUG:Circuit:Initial Quantum Circuit None with 9 qubits.\n",
      "DEBUG:Circuit:Initial Quantum Circuit None with 9 qubits.\n",
      "DEBUG:Circuit:Initial Quantum Circuit None with 9 qubits.\n",
      "DEBUG:Circuit:Initial Quantum Circuit None with 9 qubits.\n",
      "DEBUG:Circuit:Initial Quantum Circuit None with 9 qubits.\n",
      "DEBUG:Circuit:Initial Quantum Circuit None with 9 qubits.\n",
      "DEBUG:Circuit:Initial Quantum Circuit None with 9 qubits.\n",
      "DEBUG:Circuit:Initial Quantum Circuit None with 9 qubits.\n",
      "DEBUG:Circuit:Initial Quantum Circuit None with 9 qubits.\n",
      "DEBUG:Circuit:Initial Quantum Circuit None with 9 qubits.\n",
      "DEBUG:Circuit:Initial Quantum Circuit None with 9 qubits.\n",
      "DEBUG:Circuit:Initial Quantum Circuit None with 9 qubits.\n",
      "DEBUG:Circuit:Initial Quantum Circuit None with 9 qubits.\n",
      "DEBUG:Circuit:Initial Quantum Circuit None with 9 qubits.\n",
      "DEBUG:Circuit:Initial Quantum Circuit None with 9 qubits.\n",
      "DEBUG:Circuit:Initial Quantum Circuit None with 9 qubits.\n",
      "DEBUG:Circuit:Initial Quantum Circuit None with 9 qubits.\n",
      "DEBUG:Circuit:Initial Quantum Circuit None with 9 qubits.\n",
      "DEBUG:Circuit:Initial Quantum Circuit None with 9 qubits.\n",
      "DEBUG:Circuit:Initial Quantum Circuit None with 9 qubits.\n",
      "DEBUG:Circuit:Initial Quantum Circuit None with 9 qubits.\n",
      "DEBUG:Circuit:Initial Quantum Circuit None with 9 qubits.\n",
      "DEBUG:Circuit:Initial Quantum Circuit None with 9 qubits.\n",
      "DEBUG:Circuit:Initial Quantum Circuit None with 9 qubits.\n",
      "DEBUG:Circuit:Initial Quantum Circuit None with 9 qubits.\n"
     ]
    },
    {
     "name": "stdout",
     "output_type": "stream",
     "text": [
      "[INFO]: (generate_srv_tensors) Generated 512 tensors\n"
     ]
    },
    {
     "name": "stderr",
     "output_type": "stream",
     "text": [
      "DEBUG:Circuit:Initial Quantum Circuit None with 9 qubits.\n",
      "DEBUG:Circuit:Initial Quantum Circuit None with 9 qubits.\n",
      "DEBUG:Circuit:Initial Quantum Circuit None with 9 qubits.\n",
      "DEBUG:Circuit:Initial Quantum Circuit None with 9 qubits.\n",
      "DEBUG:Circuit:Initial Quantum Circuit None with 9 qubits.\n",
      "DEBUG:Circuit:Initial Quantum Circuit None with 9 qubits.\n",
      "DEBUG:Circuit:Initial Quantum Circuit None with 9 qubits.\n",
      "DEBUG:Circuit:Initial Quantum Circuit None with 9 qubits.\n",
      "DEBUG:Circuit:Initial Quantum Circuit None with 9 qubits.\n",
      "DEBUG:Circuit:Initial Quantum Circuit None with 9 qubits.\n",
      "DEBUG:Circuit:Initial Quantum Circuit None with 9 qubits.\n",
      "DEBUG:Circuit:Initial Quantum Circuit None with 9 qubits.\n",
      "DEBUG:Circuit:Initial Quantum Circuit None with 9 qubits.\n",
      "DEBUG:Circuit:Initial Quantum Circuit None with 9 qubits.\n",
      "DEBUG:Circuit:Initial Quantum Circuit None with 9 qubits.\n",
      "DEBUG:Circuit:Initial Quantum Circuit None with 9 qubits.\n",
      "DEBUG:Circuit:Initial Quantum Circuit None with 9 qubits.\n",
      "DEBUG:Circuit:Initial Quantum Circuit None with 9 qubits.\n",
      "DEBUG:Circuit:Initial Quantum Circuit None with 9 qubits.\n",
      "DEBUG:Circuit:Initial Quantum Circuit None with 9 qubits.\n",
      "DEBUG:Circuit:Initial Quantum Circuit None with 9 qubits.\n",
      "DEBUG:Circuit:Initial Quantum Circuit None with 9 qubits.\n",
      "DEBUG:Circuit:Initial Quantum Circuit None with 9 qubits.\n",
      "DEBUG:Circuit:Initial Quantum Circuit None with 9 qubits.\n",
      "DEBUG:Circuit:Initial Quantum Circuit None with 9 qubits.\n",
      "DEBUG:Circuit:Initial Quantum Circuit None with 9 qubits.\n",
      "DEBUG:Circuit:Initial Quantum Circuit None with 9 qubits.\n",
      "DEBUG:Circuit:Initial Quantum Circuit None with 9 qubits.\n",
      "DEBUG:Circuit:Initial Quantum Circuit None with 9 qubits.\n",
      "DEBUG:Circuit:Initial Quantum Circuit None with 9 qubits.\n",
      "DEBUG:Circuit:Initial Quantum Circuit None with 9 qubits.\n",
      "DEBUG:Circuit:Initial Quantum Circuit None with 9 qubits.\n",
      "DEBUG:Circuit:Initial Quantum Circuit None with 9 qubits.\n",
      "DEBUG:Circuit:Initial Quantum Circuit None with 9 qubits.\n",
      "DEBUG:Circuit:Initial Quantum Circuit None with 9 qubits.\n",
      "DEBUG:Circuit:Initial Quantum Circuit None with 9 qubits.\n",
      "DEBUG:Circuit:Initial Quantum Circuit None with 9 qubits.\n",
      "DEBUG:Circuit:Initial Quantum Circuit None with 9 qubits.\n",
      "DEBUG:Circuit:Initial Quantum Circuit None with 9 qubits.\n",
      "DEBUG:Circuit:Initial Quantum Circuit None with 9 qubits.\n",
      "DEBUG:Circuit:Initial Quantum Circuit None with 9 qubits.\n",
      "DEBUG:Circuit:Initial Quantum Circuit None with 9 qubits.\n",
      "DEBUG:Circuit:Initial Quantum Circuit None with 9 qubits.\n",
      "DEBUG:Circuit:Initial Quantum Circuit None with 9 qubits.\n",
      "DEBUG:Circuit:Initial Quantum Circuit None with 9 qubits.\n",
      "DEBUG:Circuit:Initial Quantum Circuit None with 9 qubits.\n",
      "DEBUG:Circuit:Initial Quantum Circuit None with 9 qubits.\n",
      "DEBUG:Circuit:Initial Quantum Circuit None with 9 qubits.\n",
      "DEBUG:Circuit:Initial Quantum Circuit None with 9 qubits.\n",
      "DEBUG:Circuit:Initial Quantum Circuit None with 9 qubits.\n",
      "DEBUG:Circuit:Initial Quantum Circuit None with 9 qubits.\n",
      "DEBUG:Circuit:Initial Quantum Circuit None with 9 qubits.\n",
      "DEBUG:Circuit:Initial Quantum Circuit None with 9 qubits.\n",
      "DEBUG:Circuit:Initial Quantum Circuit None with 9 qubits.\n",
      "DEBUG:Circuit:Initial Quantum Circuit None with 9 qubits.\n",
      "DEBUG:Circuit:Initial Quantum Circuit None with 9 qubits.\n",
      "DEBUG:Circuit:Initial Quantum Circuit None with 9 qubits.\n",
      "DEBUG:Circuit:Initial Quantum Circuit None with 9 qubits.\n",
      "DEBUG:Circuit:Initial Quantum Circuit None with 9 qubits.\n",
      "DEBUG:Circuit:Initial Quantum Circuit None with 9 qubits.\n",
      "DEBUG:Circuit:Initial Quantum Circuit None with 9 qubits.\n",
      "DEBUG:Circuit:Initial Quantum Circuit None with 9 qubits.\n",
      "DEBUG:Circuit:Initial Quantum Circuit None with 9 qubits.\n",
      "DEBUG:Circuit:Initial Quantum Circuit None with 9 qubits.\n",
      "DEBUG:Circuit:Initial Quantum Circuit None with 9 qubits.\n",
      "DEBUG:Circuit:Initial Quantum Circuit None with 9 qubits.\n",
      "DEBUG:Circuit:Initial Quantum Circuit None with 9 qubits.\n",
      "DEBUG:Circuit:Initial Quantum Circuit None with 9 qubits.\n",
      "DEBUG:Circuit:Initial Quantum Circuit None with 9 qubits.\n",
      "DEBUG:Circuit:Initial Quantum Circuit None with 9 qubits.\n",
      "DEBUG:Circuit:Initial Quantum Circuit None with 9 qubits.\n",
      "DEBUG:Circuit:Initial Quantum Circuit None with 9 qubits.\n",
      "DEBUG:Circuit:Initial Quantum Circuit None with 9 qubits.\n",
      "DEBUG:Circuit:Initial Quantum Circuit None with 9 qubits.\n",
      "DEBUG:Circuit:Initial Quantum Circuit None with 9 qubits.\n",
      "DEBUG:Circuit:Initial Quantum Circuit None with 9 qubits.\n",
      "DEBUG:Circuit:Initial Quantum Circuit None with 9 qubits.\n",
      "DEBUG:Circuit:Initial Quantum Circuit None with 9 qubits.\n",
      "DEBUG:Circuit:Initial Quantum Circuit None with 9 qubits.\n",
      "DEBUG:Circuit:Initial Quantum Circuit None with 9 qubits.\n",
      "DEBUG:Circuit:Initial Quantum Circuit None with 9 qubits.\n",
      "DEBUG:Circuit:Initial Quantum Circuit None with 9 qubits.\n",
      "DEBUG:Circuit:Initial Quantum Circuit None with 9 qubits.\n",
      "DEBUG:Circuit:Initial Quantum Circuit None with 9 qubits.\n",
      "DEBUG:Circuit:Initial Quantum Circuit None with 9 qubits.\n",
      "DEBUG:Circuit:Initial Quantum Circuit None with 9 qubits.\n",
      "DEBUG:Circuit:Initial Quantum Circuit None with 9 qubits.\n",
      "DEBUG:Circuit:Initial Quantum Circuit None with 9 qubits.\n",
      "DEBUG:Circuit:Initial Quantum Circuit None with 9 qubits.\n",
      "DEBUG:Circuit:Initial Quantum Circuit None with 9 qubits.\n",
      "DEBUG:Circuit:Initial Quantum Circuit None with 9 qubits.\n",
      "DEBUG:Circuit:Initial Quantum Circuit None with 9 qubits.\n",
      "DEBUG:Circuit:Initial Quantum Circuit None with 9 qubits.\n",
      "DEBUG:Circuit:Initial Quantum Circuit None with 9 qubits.\n",
      "DEBUG:Circuit:Initial Quantum Circuit None with 9 qubits.\n",
      "DEBUG:Circuit:Initial Quantum Circuit None with 9 qubits.\n",
      "DEBUG:Circuit:Initial Quantum Circuit None with 9 qubits.\n",
      "DEBUG:Circuit:Initial Quantum Circuit None with 9 qubits.\n",
      "DEBUG:Circuit:Initial Quantum Circuit None with 9 qubits.\n",
      "DEBUG:Circuit:Initial Quantum Circuit None with 9 qubits.\n",
      "DEBUG:Circuit:Initial Quantum Circuit None with 9 qubits.\n",
      "DEBUG:Circuit:Initial Quantum Circuit None with 9 qubits.\n",
      "DEBUG:Circuit:Initial Quantum Circuit None with 9 qubits.\n",
      "DEBUG:Circuit:Initial Quantum Circuit None with 9 qubits.\n",
      "DEBUG:Circuit:Initial Quantum Circuit None with 9 qubits.\n",
      "DEBUG:Circuit:Initial Quantum Circuit None with 9 qubits.\n",
      "DEBUG:Circuit:Initial Quantum Circuit None with 9 qubits.\n",
      "DEBUG:Circuit:Initial Quantum Circuit None with 9 qubits.\n",
      "DEBUG:Circuit:Initial Quantum Circuit None with 9 qubits.\n",
      "DEBUG:Circuit:Initial Quantum Circuit None with 9 qubits.\n",
      "DEBUG:Circuit:Initial Quantum Circuit None with 9 qubits.\n",
      "DEBUG:Circuit:Initial Quantum Circuit None with 9 qubits.\n",
      "DEBUG:Circuit:Initial Quantum Circuit None with 9 qubits.\n",
      "DEBUG:Circuit:Initial Quantum Circuit None with 9 qubits.\n",
      "DEBUG:Circuit:Initial Quantum Circuit None with 9 qubits.\n",
      "DEBUG:Circuit:Initial Quantum Circuit None with 9 qubits.\n",
      "DEBUG:Circuit:Initial Quantum Circuit None with 9 qubits.\n",
      "DEBUG:Circuit:Initial Quantum Circuit None with 9 qubits.\n",
      "DEBUG:Circuit:Initial Quantum Circuit None with 9 qubits.\n",
      "DEBUG:Circuit:Initial Quantum Circuit None with 9 qubits.\n",
      "DEBUG:Circuit:Initial Quantum Circuit None with 9 qubits.\n",
      "DEBUG:Circuit:Initial Quantum Circuit None with 9 qubits.\n",
      "DEBUG:Circuit:Initial Quantum Circuit None with 9 qubits.\n",
      "DEBUG:Circuit:Initial Quantum Circuit None with 9 qubits.\n",
      "DEBUG:Circuit:Initial Quantum Circuit None with 9 qubits.\n",
      "DEBUG:Circuit:Initial Quantum Circuit None with 9 qubits.\n",
      "DEBUG:Circuit:Initial Quantum Circuit None with 9 qubits.\n",
      "DEBUG:Circuit:Initial Quantum Circuit None with 9 qubits.\n",
      "DEBUG:Circuit:Initial Quantum Circuit None with 9 qubits.\n",
      "DEBUG:Circuit:Initial Quantum Circuit None with 9 qubits.\n",
      "DEBUG:Circuit:Initial Quantum Circuit None with 9 qubits.\n",
      "DEBUG:Circuit:Initial Quantum Circuit None with 9 qubits.\n",
      "DEBUG:Circuit:Initial Quantum Circuit None with 9 qubits.\n",
      "DEBUG:Circuit:Initial Quantum Circuit None with 9 qubits.\n",
      "DEBUG:Circuit:Initial Quantum Circuit None with 9 qubits.\n",
      "DEBUG:Circuit:Initial Quantum Circuit None with 9 qubits.\n",
      "DEBUG:Circuit:Initial Quantum Circuit None with 9 qubits.\n",
      "DEBUG:Circuit:Initial Quantum Circuit None with 9 qubits.\n",
      "DEBUG:Circuit:Initial Quantum Circuit None with 9 qubits.\n",
      "DEBUG:Circuit:Initial Quantum Circuit None with 9 qubits.\n",
      "DEBUG:Circuit:Initial Quantum Circuit None with 9 qubits.\n",
      "DEBUG:Circuit:Initial Quantum Circuit None with 9 qubits.\n",
      "DEBUG:Circuit:Initial Quantum Circuit None with 9 qubits.\n",
      "DEBUG:Circuit:Initial Quantum Circuit None with 9 qubits.\n",
      "DEBUG:Circuit:Initial Quantum Circuit None with 9 qubits.\n",
      "DEBUG:Circuit:Initial Quantum Circuit None with 9 qubits.\n",
      "DEBUG:Circuit:Initial Quantum Circuit None with 9 qubits.\n",
      "DEBUG:Circuit:Initial Quantum Circuit None with 9 qubits.\n",
      "DEBUG:Circuit:Initial Quantum Circuit None with 9 qubits.\n",
      "DEBUG:Circuit:Initial Quantum Circuit None with 9 qubits.\n",
      "DEBUG:Circuit:Initial Quantum Circuit None with 9 qubits.\n",
      "DEBUG:Circuit:Initial Quantum Circuit None with 9 qubits.\n",
      "DEBUG:Circuit:Initial Quantum Circuit None with 9 qubits.\n",
      "DEBUG:Circuit:Initial Quantum Circuit None with 9 qubits.\n",
      "DEBUG:Circuit:Initial Quantum Circuit None with 9 qubits.\n",
      "DEBUG:Circuit:Initial Quantum Circuit None with 9 qubits.\n",
      "DEBUG:Circuit:Initial Quantum Circuit None with 9 qubits.\n",
      "DEBUG:Circuit:Initial Quantum Circuit None with 9 qubits.\n",
      "DEBUG:Circuit:Initial Quantum Circuit None with 9 qubits.\n",
      "DEBUG:Circuit:Initial Quantum Circuit None with 9 qubits.\n",
      "DEBUG:Circuit:Initial Quantum Circuit None with 9 qubits.\n",
      "DEBUG:Circuit:Initial Quantum Circuit None with 9 qubits.\n",
      "DEBUG:Circuit:Initial Quantum Circuit None with 9 qubits.\n",
      "DEBUG:Circuit:Initial Quantum Circuit None with 9 qubits.\n",
      "DEBUG:Circuit:Initial Quantum Circuit None with 9 qubits.\n",
      "DEBUG:Circuit:Initial Quantum Circuit None with 9 qubits.\n",
      "DEBUG:Circuit:Initial Quantum Circuit None with 9 qubits.\n",
      "DEBUG:Circuit:Initial Quantum Circuit None with 9 qubits.\n",
      "DEBUG:Circuit:Initial Quantum Circuit None with 9 qubits.\n",
      "DEBUG:Circuit:Initial Quantum Circuit None with 9 qubits.\n",
      "DEBUG:Circuit:Initial Quantum Circuit None with 9 qubits.\n",
      "DEBUG:Circuit:Initial Quantum Circuit None with 9 qubits.\n",
      "DEBUG:Circuit:Initial Quantum Circuit None with 9 qubits.\n",
      "DEBUG:Circuit:Initial Quantum Circuit None with 9 qubits.\n",
      "DEBUG:Circuit:Initial Quantum Circuit None with 9 qubits.\n",
      "DEBUG:Circuit:Initial Quantum Circuit None with 9 qubits.\n",
      "DEBUG:Circuit:Initial Quantum Circuit None with 9 qubits.\n",
      "DEBUG:Circuit:Initial Quantum Circuit None with 9 qubits.\n",
      "DEBUG:Circuit:Initial Quantum Circuit None with 9 qubits.\n",
      "DEBUG:Circuit:Initial Quantum Circuit None with 9 qubits.\n",
      "DEBUG:Circuit:Initial Quantum Circuit None with 9 qubits.\n",
      "DEBUG:Circuit:Initial Quantum Circuit None with 9 qubits.\n",
      "DEBUG:Circuit:Initial Quantum Circuit None with 9 qubits.\n",
      "DEBUG:Circuit:Initial Quantum Circuit None with 9 qubits.\n",
      "DEBUG:Circuit:Initial Quantum Circuit None with 9 qubits.\n",
      "DEBUG:Circuit:Initial Quantum Circuit None with 9 qubits.\n",
      "DEBUG:Circuit:Initial Quantum Circuit None with 9 qubits.\n",
      "DEBUG:Circuit:Initial Quantum Circuit None with 9 qubits.\n",
      "DEBUG:Circuit:Initial Quantum Circuit None with 9 qubits.\n",
      "DEBUG:Circuit:Initial Quantum Circuit None with 9 qubits.\n",
      "DEBUG:Circuit:Initial Quantum Circuit None with 9 qubits.\n",
      "DEBUG:Circuit:Initial Quantum Circuit None with 9 qubits.\n",
      "DEBUG:Circuit:Initial Quantum Circuit None with 9 qubits.\n",
      "DEBUG:Circuit:Initial Quantum Circuit None with 9 qubits.\n",
      "DEBUG:Circuit:Initial Quantum Circuit None with 9 qubits.\n",
      "DEBUG:Circuit:Initial Quantum Circuit None with 9 qubits.\n",
      "DEBUG:Circuit:Initial Quantum Circuit None with 9 qubits.\n",
      "DEBUG:Circuit:Initial Quantum Circuit None with 9 qubits.\n",
      "DEBUG:Circuit:Initial Quantum Circuit None with 9 qubits.\n",
      "DEBUG:Circuit:Initial Quantum Circuit None with 9 qubits.\n",
      "DEBUG:Circuit:Initial Quantum Circuit None with 9 qubits.\n",
      "DEBUG:Circuit:Initial Quantum Circuit None with 9 qubits.\n",
      "DEBUG:Circuit:Initial Quantum Circuit None with 9 qubits.\n",
      "DEBUG:Circuit:Initial Quantum Circuit None with 9 qubits.\n",
      "DEBUG:Circuit:Initial Quantum Circuit None with 9 qubits.\n",
      "DEBUG:Circuit:Initial Quantum Circuit None with 9 qubits.\n",
      "DEBUG:Circuit:Initial Quantum Circuit None with 9 qubits.\n",
      "DEBUG:Circuit:Initial Quantum Circuit None with 9 qubits.\n",
      "DEBUG:Circuit:Initial Quantum Circuit None with 9 qubits.\n",
      "DEBUG:Circuit:Initial Quantum Circuit None with 9 qubits.\n",
      "DEBUG:Circuit:Initial Quantum Circuit None with 9 qubits.\n",
      "DEBUG:Circuit:Initial Quantum Circuit None with 9 qubits.\n",
      "DEBUG:Circuit:Initial Quantum Circuit None with 9 qubits.\n",
      "DEBUG:Circuit:Initial Quantum Circuit None with 9 qubits.\n",
      "DEBUG:Circuit:Initial Quantum Circuit None with 9 qubits.\n",
      "DEBUG:Circuit:Initial Quantum Circuit None with 9 qubits.\n",
      "DEBUG:Circuit:Initial Quantum Circuit None with 9 qubits.\n",
      "DEBUG:Circuit:Initial Quantum Circuit None with 9 qubits.\n",
      "DEBUG:Circuit:Initial Quantum Circuit None with 9 qubits.\n",
      "DEBUG:Circuit:Initial Quantum Circuit None with 9 qubits.\n",
      "DEBUG:Circuit:Initial Quantum Circuit None with 9 qubits.\n",
      "DEBUG:Circuit:Initial Quantum Circuit None with 9 qubits.\n",
      "DEBUG:Circuit:Initial Quantum Circuit None with 9 qubits.\n",
      "DEBUG:Circuit:Initial Quantum Circuit None with 9 qubits.\n",
      "DEBUG:Circuit:Initial Quantum Circuit None with 9 qubits.\n",
      "DEBUG:Circuit:Initial Quantum Circuit None with 9 qubits.\n",
      "DEBUG:Circuit:Initial Quantum Circuit None with 9 qubits.\n",
      "DEBUG:Circuit:Initial Quantum Circuit None with 9 qubits.\n",
      "DEBUG:Circuit:Initial Quantum Circuit None with 9 qubits.\n",
      "DEBUG:Circuit:Initial Quantum Circuit None with 9 qubits.\n",
      "DEBUG:Circuit:Initial Quantum Circuit None with 9 qubits.\n",
      "DEBUG:Circuit:Initial Quantum Circuit None with 9 qubits.\n",
      "DEBUG:Circuit:Initial Quantum Circuit None with 9 qubits.\n",
      "DEBUG:Circuit:Initial Quantum Circuit None with 9 qubits.\n",
      "DEBUG:Circuit:Initial Quantum Circuit None with 9 qubits.\n",
      "DEBUG:Circuit:Initial Quantum Circuit None with 9 qubits.\n",
      "DEBUG:Circuit:Initial Quantum Circuit None with 9 qubits.\n",
      "DEBUG:Circuit:Initial Quantum Circuit None with 9 qubits.\n",
      "DEBUG:Circuit:Initial Quantum Circuit None with 9 qubits.\n",
      "DEBUG:Circuit:Initial Quantum Circuit None with 9 qubits.\n",
      "DEBUG:Circuit:Initial Quantum Circuit None with 9 qubits.\n",
      "DEBUG:Circuit:Initial Quantum Circuit None with 9 qubits.\n",
      "DEBUG:Circuit:Initial Quantum Circuit None with 9 qubits.\n",
      "DEBUG:Circuit:Initial Quantum Circuit None with 9 qubits.\n",
      "DEBUG:Circuit:Initial Quantum Circuit None with 9 qubits.\n",
      "DEBUG:Circuit:Initial Quantum Circuit None with 9 qubits.\n",
      "DEBUG:Circuit:Initial Quantum Circuit None with 9 qubits.\n",
      "DEBUG:Circuit:Initial Quantum Circuit None with 9 qubits.\n",
      "DEBUG:Circuit:Initial Quantum Circuit None with 9 qubits.\n",
      "DEBUG:Circuit:Initial Quantum Circuit None with 9 qubits.\n",
      "DEBUG:Circuit:Initial Quantum Circuit None with 9 qubits.\n",
      "DEBUG:Circuit:Initial Quantum Circuit None with 9 qubits.\n",
      "DEBUG:Circuit:Initial Quantum Circuit None with 9 qubits.\n",
      "DEBUG:Circuit:Initial Quantum Circuit None with 9 qubits.\n",
      "DEBUG:Circuit:Initial Quantum Circuit None with 9 qubits.\n",
      "DEBUG:Circuit:Initial Quantum Circuit None with 9 qubits.\n",
      "DEBUG:Circuit:Initial Quantum Circuit None with 9 qubits.\n",
      "DEBUG:Circuit:Initial Quantum Circuit None with 9 qubits.\n",
      "DEBUG:Circuit:Initial Quantum Circuit None with 9 qubits.\n",
      "DEBUG:Circuit:Initial Quantum Circuit None with 9 qubits.\n",
      "DEBUG:Circuit:Initial Quantum Circuit None with 9 qubits.\n",
      "DEBUG:Circuit:Initial Quantum Circuit None with 9 qubits.\n",
      "DEBUG:Circuit:Initial Quantum Circuit None with 9 qubits.\n",
      "DEBUG:Circuit:Initial Quantum Circuit None with 9 qubits.\n",
      "DEBUG:Circuit:Initial Quantum Circuit None with 9 qubits.\n",
      "DEBUG:Circuit:Initial Quantum Circuit None with 9 qubits.\n",
      "DEBUG:Circuit:Initial Quantum Circuit None with 9 qubits.\n",
      "DEBUG:Circuit:Initial Quantum Circuit None with 9 qubits.\n",
      "DEBUG:Circuit:Initial Quantum Circuit None with 9 qubits.\n",
      "DEBUG:Circuit:Initial Quantum Circuit None with 9 qubits.\n",
      "DEBUG:Circuit:Initial Quantum Circuit None with 9 qubits.\n",
      "DEBUG:Circuit:Initial Quantum Circuit None with 9 qubits.\n",
      "DEBUG:Circuit:Initial Quantum Circuit None with 9 qubits.\n",
      "DEBUG:Circuit:Initial Quantum Circuit None with 9 qubits.\n",
      "DEBUG:Circuit:Initial Quantum Circuit None with 9 qubits.\n",
      "DEBUG:Circuit:Initial Quantum Circuit None with 9 qubits.\n",
      "DEBUG:Circuit:Initial Quantum Circuit None with 9 qubits.\n",
      "DEBUG:Circuit:Initial Quantum Circuit None with 9 qubits.\n",
      "DEBUG:Circuit:Initial Quantum Circuit None with 9 qubits.\n",
      "DEBUG:Circuit:Initial Quantum Circuit None with 9 qubits.\n",
      "DEBUG:Circuit:Initial Quantum Circuit None with 9 qubits.\n",
      "DEBUG:Circuit:Initial Quantum Circuit None with 9 qubits.\n",
      "DEBUG:Circuit:Initial Quantum Circuit None with 9 qubits.\n",
      "DEBUG:Circuit:Initial Quantum Circuit None with 9 qubits.\n",
      "DEBUG:Circuit:Initial Quantum Circuit None with 9 qubits.\n",
      "DEBUG:Circuit:Initial Quantum Circuit None with 9 qubits.\n",
      "DEBUG:Circuit:Initial Quantum Circuit None with 9 qubits.\n",
      "DEBUG:Circuit:Initial Quantum Circuit None with 9 qubits.\n",
      "DEBUG:Circuit:Initial Quantum Circuit None with 9 qubits.\n",
      "DEBUG:Circuit:Initial Quantum Circuit None with 9 qubits.\n",
      "DEBUG:Circuit:Initial Quantum Circuit None with 9 qubits.\n",
      "DEBUG:Circuit:Initial Quantum Circuit None with 9 qubits.\n",
      "DEBUG:Circuit:Initial Quantum Circuit None with 9 qubits.\n",
      "DEBUG:Circuit:Initial Quantum Circuit None with 9 qubits.\n",
      "DEBUG:Circuit:Initial Quantum Circuit None with 9 qubits.\n",
      "DEBUG:Circuit:Initial Quantum Circuit None with 9 qubits.\n",
      "DEBUG:Circuit:Initial Quantum Circuit None with 9 qubits.\n",
      "DEBUG:Circuit:Initial Quantum Circuit None with 9 qubits.\n",
      "DEBUG:Circuit:Initial Quantum Circuit None with 9 qubits.\n",
      "DEBUG:Circuit:Initial Quantum Circuit None with 9 qubits.\n",
      "DEBUG:Circuit:Initial Quantum Circuit None with 9 qubits.\n",
      "DEBUG:Circuit:Initial Quantum Circuit None with 9 qubits.\n",
      "DEBUG:Circuit:Initial Quantum Circuit None with 9 qubits.\n",
      "DEBUG:Circuit:Initial Quantum Circuit None with 9 qubits.\n",
      "DEBUG:Circuit:Initial Quantum Circuit None with 9 qubits.\n",
      "DEBUG:Circuit:Initial Quantum Circuit None with 9 qubits.\n",
      "DEBUG:Circuit:Initial Quantum Circuit None with 9 qubits.\n",
      "DEBUG:Circuit:Initial Quantum Circuit None with 9 qubits.\n",
      "DEBUG:Circuit:Initial Quantum Circuit None with 9 qubits.\n",
      "DEBUG:Circuit:Initial Quantum Circuit None with 9 qubits.\n",
      "DEBUG:Circuit:Initial Quantum Circuit None with 9 qubits.\n",
      "DEBUG:Circuit:Initial Quantum Circuit None with 9 qubits.\n",
      "DEBUG:Circuit:Initial Quantum Circuit None with 9 qubits.\n",
      "DEBUG:Circuit:Initial Quantum Circuit None with 9 qubits.\n",
      "DEBUG:Circuit:Initial Quantum Circuit None with 9 qubits.\n",
      "DEBUG:Circuit:Initial Quantum Circuit None with 9 qubits.\n",
      "DEBUG:Circuit:Initial Quantum Circuit None with 9 qubits.\n",
      "DEBUG:Circuit:Initial Quantum Circuit None with 9 qubits.\n",
      "DEBUG:Circuit:Initial Quantum Circuit None with 9 qubits.\n",
      "DEBUG:Circuit:Initial Quantum Circuit None with 9 qubits.\n",
      "DEBUG:Circuit:Initial Quantum Circuit None with 9 qubits.\n",
      "DEBUG:Circuit:Initial Quantum Circuit None with 9 qubits.\n",
      "DEBUG:Circuit:Initial Quantum Circuit None with 9 qubits.\n",
      "DEBUG:Circuit:Initial Quantum Circuit None with 9 qubits.\n",
      "DEBUG:Circuit:Initial Quantum Circuit None with 9 qubits.\n",
      "DEBUG:Circuit:Initial Quantum Circuit None with 9 qubits.\n",
      "DEBUG:Circuit:Initial Quantum Circuit None with 9 qubits.\n",
      "DEBUG:Circuit:Initial Quantum Circuit None with 9 qubits.\n",
      "DEBUG:Circuit:Initial Quantum Circuit None with 9 qubits.\n",
      "DEBUG:Circuit:Initial Quantum Circuit None with 9 qubits.\n",
      "DEBUG:Circuit:Initial Quantum Circuit None with 9 qubits.\n",
      "DEBUG:Circuit:Initial Quantum Circuit None with 9 qubits.\n",
      "DEBUG:Circuit:Initial Quantum Circuit None with 9 qubits.\n",
      "DEBUG:Circuit:Initial Quantum Circuit None with 9 qubits.\n",
      "DEBUG:Circuit:Initial Quantum Circuit None with 9 qubits.\n",
      "DEBUG:Circuit:Initial Quantum Circuit None with 9 qubits.\n",
      "DEBUG:Circuit:Initial Quantum Circuit None with 9 qubits.\n",
      "DEBUG:Circuit:Initial Quantum Circuit None with 9 qubits.\n",
      "DEBUG:Circuit:Initial Quantum Circuit None with 9 qubits.\n",
      "DEBUG:Circuit:Initial Quantum Circuit None with 9 qubits.\n",
      "DEBUG:Circuit:Initial Quantum Circuit None with 9 qubits.\n",
      "DEBUG:Circuit:Initial Quantum Circuit None with 9 qubits.\n",
      "DEBUG:Circuit:Initial Quantum Circuit None with 9 qubits.\n",
      "DEBUG:Circuit:Initial Quantum Circuit None with 9 qubits.\n",
      "DEBUG:Circuit:Initial Quantum Circuit None with 9 qubits.\n",
      "DEBUG:Circuit:Initial Quantum Circuit None with 9 qubits.\n",
      "DEBUG:Circuit:Initial Quantum Circuit None with 9 qubits.\n",
      "DEBUG:Circuit:Initial Quantum Circuit None with 9 qubits.\n",
      "DEBUG:Circuit:Initial Quantum Circuit None with 9 qubits.\n",
      "DEBUG:Circuit:Initial Quantum Circuit None with 9 qubits.\n",
      "DEBUG:Circuit:Initial Quantum Circuit None with 9 qubits.\n",
      "DEBUG:Circuit:Initial Quantum Circuit None with 9 qubits.\n",
      "DEBUG:Circuit:Initial Quantum Circuit None with 9 qubits.\n",
      "DEBUG:Circuit:Initial Quantum Circuit None with 9 qubits.\n",
      "DEBUG:Circuit:Initial Quantum Circuit None with 9 qubits.\n",
      "DEBUG:Circuit:Initial Quantum Circuit None with 9 qubits.\n",
      "DEBUG:Circuit:Initial Quantum Circuit None with 9 qubits.\n",
      "DEBUG:Circuit:Initial Quantum Circuit None with 9 qubits.\n",
      "DEBUG:Circuit:Initial Quantum Circuit None with 9 qubits.\n",
      "DEBUG:Circuit:Initial Quantum Circuit None with 9 qubits.\n",
      "DEBUG:Circuit:Initial Quantum Circuit None with 9 qubits.\n",
      "DEBUG:Circuit:Initial Quantum Circuit None with 9 qubits.\n",
      "DEBUG:Circuit:Initial Quantum Circuit None with 9 qubits.\n",
      "DEBUG:Circuit:Initial Quantum Circuit None with 9 qubits.\n",
      "DEBUG:Circuit:Initial Quantum Circuit None with 9 qubits.\n",
      "DEBUG:Circuit:Initial Quantum Circuit None with 9 qubits.\n",
      "DEBUG:Circuit:Initial Quantum Circuit None with 9 qubits.\n",
      "DEBUG:Circuit:Initial Quantum Circuit None with 9 qubits.\n",
      "DEBUG:Circuit:Initial Quantum Circuit None with 9 qubits.\n",
      "DEBUG:Circuit:Initial Quantum Circuit None with 9 qubits.\n",
      "DEBUG:Circuit:Initial Quantum Circuit None with 9 qubits.\n",
      "DEBUG:Circuit:Initial Quantum Circuit None with 9 qubits.\n",
      "DEBUG:Circuit:Initial Quantum Circuit None with 9 qubits.\n",
      "DEBUG:Circuit:Initial Quantum Circuit None with 9 qubits.\n",
      "DEBUG:Circuit:Initial Quantum Circuit None with 9 qubits.\n",
      "DEBUG:Circuit:Initial Quantum Circuit None with 9 qubits.\n",
      "DEBUG:Circuit:Initial Quantum Circuit None with 9 qubits.\n",
      "DEBUG:Circuit:Initial Quantum Circuit None with 9 qubits.\n",
      "DEBUG:Circuit:Initial Quantum Circuit None with 9 qubits.\n",
      "DEBUG:Circuit:Initial Quantum Circuit None with 9 qubits.\n",
      "DEBUG:Circuit:Initial Quantum Circuit None with 9 qubits.\n",
      "DEBUG:Circuit:Initial Quantum Circuit None with 9 qubits.\n",
      "DEBUG:Circuit:Initial Quantum Circuit None with 9 qubits.\n",
      "DEBUG:Circuit:Initial Quantum Circuit None with 9 qubits.\n",
      "DEBUG:Circuit:Initial Quantum Circuit None with 9 qubits.\n",
      "DEBUG:Circuit:Initial Quantum Circuit None with 9 qubits.\n",
      "DEBUG:Circuit:Initial Quantum Circuit None with 9 qubits.\n",
      "DEBUG:Circuit:Initial Quantum Circuit None with 9 qubits.\n",
      "DEBUG:Circuit:Initial Quantum Circuit None with 9 qubits.\n",
      "DEBUG:Circuit:Initial Quantum Circuit None with 9 qubits.\n",
      "DEBUG:Circuit:Initial Quantum Circuit None with 9 qubits.\n",
      "DEBUG:Circuit:Initial Quantum Circuit None with 9 qubits.\n",
      "DEBUG:Circuit:Initial Quantum Circuit None with 9 qubits.\n",
      "DEBUG:Circuit:Initial Quantum Circuit None with 9 qubits.\n",
      "DEBUG:Circuit:Initial Quantum Circuit None with 9 qubits.\n",
      "DEBUG:Circuit:Initial Quantum Circuit None with 9 qubits.\n",
      "DEBUG:Circuit:Initial Quantum Circuit None with 9 qubits.\n",
      "DEBUG:Circuit:Initial Quantum Circuit None with 9 qubits.\n",
      "DEBUG:Circuit:Initial Quantum Circuit None with 9 qubits.\n",
      "DEBUG:Circuit:Initial Quantum Circuit None with 9 qubits.\n",
      "DEBUG:Circuit:Initial Quantum Circuit None with 9 qubits.\n",
      "DEBUG:Circuit:Initial Quantum Circuit None with 9 qubits.\n",
      "DEBUG:Circuit:Initial Quantum Circuit None with 9 qubits.\n",
      "DEBUG:Circuit:Initial Quantum Circuit None with 9 qubits.\n",
      "DEBUG:Circuit:Initial Quantum Circuit None with 9 qubits.\n",
      "DEBUG:Circuit:Initial Quantum Circuit None with 9 qubits.\n",
      "DEBUG:Circuit:Initial Quantum Circuit None with 9 qubits.\n",
      "DEBUG:Circuit:Initial Quantum Circuit None with 9 qubits.\n",
      "DEBUG:Circuit:Initial Quantum Circuit None with 9 qubits.\n",
      "DEBUG:Circuit:Initial Quantum Circuit None with 9 qubits.\n",
      "DEBUG:Circuit:Initial Quantum Circuit None with 9 qubits.\n",
      "DEBUG:Circuit:Initial Quantum Circuit None with 9 qubits.\n",
      "DEBUG:Circuit:Initial Quantum Circuit None with 9 qubits.\n",
      "DEBUG:Circuit:Initial Quantum Circuit None with 9 qubits.\n",
      "DEBUG:Circuit:Initial Quantum Circuit None with 9 qubits.\n",
      "DEBUG:Circuit:Initial Quantum Circuit None with 9 qubits.\n",
      "DEBUG:Circuit:Initial Quantum Circuit None with 9 qubits.\n",
      "DEBUG:Circuit:Initial Quantum Circuit None with 9 qubits.\n",
      "DEBUG:Circuit:Initial Quantum Circuit None with 9 qubits.\n",
      "DEBUG:Circuit:Initial Quantum Circuit None with 9 qubits.\n",
      "DEBUG:Circuit:Initial Quantum Circuit None with 9 qubits.\n",
      "DEBUG:Circuit:Initial Quantum Circuit None with 9 qubits.\n",
      "DEBUG:Circuit:Initial Quantum Circuit None with 9 qubits.\n",
      "DEBUG:Circuit:Initial Quantum Circuit None with 9 qubits.\n",
      "DEBUG:Circuit:Initial Quantum Circuit None with 9 qubits.\n",
      "DEBUG:Circuit:Initial Quantum Circuit None with 9 qubits.\n",
      "DEBUG:Circuit:Initial Quantum Circuit None with 9 qubits.\n",
      "DEBUG:Circuit:Initial Quantum Circuit None with 9 qubits.\n",
      "DEBUG:Circuit:Initial Quantum Circuit None with 9 qubits.\n"
     ]
    },
    {
     "name": "stdout",
     "output_type": "stream",
     "text": [
      "Not valid error circuits: 13 out of 512\n"
     ]
    }
   ],
   "source": [
    "g         = 10      # guidance scale\n",
    "max_gates = 16      # how many time steps the tensor encoding has\n",
    "samples   = 512     # how many circuits to generate\n",
    "\n",
    "out_tensor                   = infer_srv.generate_srv_tensors(pipeline, prompt, samples, num_of_qubits, num_of_qubits, max_gates, g, no_bar=False) \n",
    "qc_list, error_cnt, srv_list = infer_srv.convert_tensors_to_srvs(out_tensor, pipeline.gate_pool)  # may take a moment, has to compute partial traces over (2^9)x(2^9) density matrices\n",
    "print(f\"Not valid error circuits: {error_cnt} out of {samples}\")"
   ]
  },
  {
   "cell_type": "code",
   "execution_count": 8,
   "id": "96bdfbee-8cfd-4870-9c7b-43af3626ad1d",
   "metadata": {},
   "outputs": [
    {
     "name": "stdout",
     "output_type": "stream",
     "text": [
      "Accuracy on requested 9 qubit SRV=[2, 2, 2, 1, 1, 1, 1, 1, 2], with a model trained on 3 to 8 qubits circuits: 0.03\n"
     ]
    }
   ],
   "source": [
    "acc = infer_srv.get_srv_accuracy(srv_list, srv)\n",
    "print(f\"Accuracy on requested {len(srv)} qubit SRV={srv}, with a model trained on 3 to 8 qubits circuits: {acc:.2f}\")  "
   ]
  },
  {
   "cell_type": "markdown",
   "id": "555ab75b-848c-496c-8f61-dc73c294d838",
   "metadata": {},
   "source": [
    "## Fine-tune dataset"
   ]
  },
  {
   "cell_type": "markdown",
   "id": "3df8732e-885e-4544-a324-92d27c80a06e",
   "metadata": {},
   "source": [
    "Let's create a 9 qubit fine-tune training dataset."
   ]
  },
  {
   "cell_type": "markdown",
   "id": "486d8b1f-f078-4e27-b030-9cdb4cd09be9",
   "metadata": {},
   "source": [
    "### Sampling random circuits"
   ]
  },
  {
   "cell_type": "markdown",
   "id": "ed1c580e-9a8e-4ead-b36c-ab9ddd330880",
   "metadata": {},
   "source": [
    "We sample random 9 qubit circuits on which we fine-tune on. Note, there is no balancing over what SRVs are created! The initial model was only trained on 3 to 8 qubit circuits."
   ]
  },
  {
   "cell_type": "code",
   "execution_count": null,
   "id": "9f8423f3-7d0c-4f9d-be6c-617b9bf4e575",
   "metadata": {},
   "outputs": [
    {
     "data": {
      "application/vnd.jupyter.widget-view+json": {
       "model_id": "fef22cb0385942acad8dc983d52213ed",
       "version_major": 2,
       "version_minor": 0
      },
      "text/plain": [
       "  0%|          | 0/100 [00:00<?, ?it/s]"
      ]
     },
     "metadata": {},
     "output_type": "display_data"
    },
    {
     "name": "stderr",
     "output_type": "stream",
     "text": [
      "DEBUG:Circuit:Initial Quantum Circuit None with 9 qubits.\n"
     ]
    },
    {
     "ename": "KeyboardInterrupt",
     "evalue": "",
     "output_type": "error",
     "traceback": [
      "\u001b[0;31m---------------------------------------------------------------------------\u001b[0m",
      "\u001b[0;31mKeyboardInterrupt\u001b[0m                         Traceback (most recent call last)",
      "Cell \u001b[0;32mIn[7], line 9\u001b[0m\n\u001b[1;32m      6\u001b[0m gate_pool      \u001b[38;5;241m=\u001b[39m [instruction_name_to_gate(gate) \u001b[38;5;28;01mfor\u001b[39;00m gate \u001b[38;5;129;01min\u001b[39;00m pipeline\u001b[38;5;241m.\u001b[39mgate_pool] \n\u001b[1;32m      7\u001b[0m optimized      \u001b[38;5;241m=\u001b[39m \u001b[38;5;28;01mTrue\u001b[39;00m                     \u001b[38;5;66;03m# if qiskit optimizer is used\u001b[39;00m\n\u001b[0;32m----> 9\u001b[0m x, y \u001b[38;5;241m=\u001b[39m \u001b[43mdata_const\u001b[49m\u001b[38;5;241;43m.\u001b[39;49m\u001b[43mgen_qc_dataset\u001b[49m\u001b[43m(\u001b[49m\u001b[43msamples\u001b[49m\u001b[38;5;241;43m=\u001b[39;49m\u001b[43mrandom_samples\u001b[49m\u001b[43m,\u001b[49m\u001b[43m \u001b[49m\u001b[43mnum_of_qubits\u001b[49m\u001b[38;5;241;43m=\u001b[39;49m\u001b[43mnum_of_qubits\u001b[49m\u001b[43m,\u001b[49m\u001b[43m \u001b[49m\u001b[43mmin_gates\u001b[49m\u001b[38;5;241;43m=\u001b[39;49m\u001b[43mmin_gates\u001b[49m\u001b[43m,\u001b[49m\u001b[43m \u001b[49m\u001b[43mmax_gates\u001b[49m\u001b[38;5;241;43m=\u001b[39;49m\u001b[43mmax_gates\u001b[49m\u001b[43m,\u001b[49m\u001b[43m \u001b[49m\n\u001b[1;32m     10\u001b[0m \u001b[43m                                \u001b[49m\u001b[43mgate_pool\u001b[49m\u001b[38;5;241;43m=\u001b[39;49m\u001b[43mgate_pool\u001b[49m\u001b[43m,\u001b[49m\u001b[43m \u001b[49m\u001b[43moptimized\u001b[49m\u001b[38;5;241;43m=\u001b[39;49m\u001b[43moptimized\u001b[49m\u001b[43m,\u001b[49m\u001b[43m \u001b[49m\u001b[43msilent\u001b[49m\u001b[38;5;241;43m=\u001b[39;49m\u001b[38;5;28;43;01mFalse\u001b[39;49;00m\u001b[43m)\u001b[49m\n",
      "File \u001b[0;32m~/GeneratorForQC/generator/platform/qcircuit_dataset_construction.py:140\u001b[0m, in \u001b[0;36mgen_qc_dataset\u001b[0;34m(samples, num_of_qubits, min_gates, max_gates, gate_pool, optimized, silent)\u001b[0m\n\u001b[1;32m    139\u001b[0m \u001b[38;5;28;01mdef\u001b[39;00m \u001b[38;5;21mgen_qc_dataset\u001b[39m(samples, num_of_qubits, min_gates, max_gates, gate_pool, optimized, silent\u001b[38;5;241m=\u001b[39m\u001b[38;5;28;01mFalse\u001b[39;00m):\n\u001b[0;32m--> 140\u001b[0m     tensor, srv \u001b[38;5;241m=\u001b[39m \u001b[43mget_rnd_encoded_circuits\u001b[49m\u001b[43m(\u001b[49m\u001b[43msamples\u001b[49m\u001b[43m,\u001b[49m\u001b[43m \u001b[49m\u001b[43mnum_of_qubits\u001b[49m\u001b[43m,\u001b[49m\u001b[43m \u001b[49m\u001b[43mmin_gates\u001b[49m\u001b[43m,\u001b[49m\u001b[43m \u001b[49m\u001b[43mmax_gates\u001b[49m\u001b[43m,\u001b[49m\u001b[43m \u001b[49m\u001b[43mgate_pool\u001b[49m\u001b[43m,\u001b[49m\u001b[43m \u001b[49m\u001b[43moptimized\u001b[49m\u001b[43m,\u001b[49m\u001b[43m \u001b[49m\u001b[43msilent\u001b[49m\u001b[43m)\u001b[49m\n\u001b[1;32m    142\u001b[0m     \u001b[38;5;66;03m# make sure we have unique circuits\u001b[39;00m\n\u001b[1;32m    143\u001b[0m     tensor \u001b[38;5;241m=\u001b[39m torch\u001b[38;5;241m.\u001b[39mstack(tensor, dim\u001b[38;5;241m=\u001b[39m\u001b[38;5;241m0\u001b[39m)\n",
      "File \u001b[0;32m~/GeneratorForQC/generator/platform/qcircuit_dataset_construction.py:130\u001b[0m, in \u001b[0;36mget_rnd_encoded_circuits\u001b[0;34m(samples, num_of_qubits, min_gates, max_gates, gate_pool, optimized, silent, return_params)\u001b[0m\n\u001b[1;32m    127\u001b[0m     params\u001b[38;5;241m.\u001b[39mappend(params_tensor)\n\u001b[1;32m    129\u001b[0m \u001b[38;5;28;01melse\u001b[39;00m:\n\u001b[0;32m--> 130\u001b[0m      qc, qc_tensor, svr \u001b[38;5;241m=\u001b[39m \u001b[43mget_rnd_encoded_circuit\u001b[49m\u001b[43m(\u001b[49m\u001b[43mnum_of_qubits\u001b[49m\u001b[43m,\u001b[49m\u001b[43m \u001b[49m\u001b[43mmin_gates\u001b[49m\u001b[43m,\u001b[49m\u001b[43m \u001b[49m\u001b[43mmax_gates\u001b[49m\u001b[43m,\u001b[49m\u001b[43m \u001b[49m\u001b[43mgate_pool\u001b[49m\u001b[43m,\u001b[49m\u001b[43m \u001b[49m\u001b[43mgate_classes\u001b[49m\u001b[43m,\u001b[49m\u001b[43m \u001b[49m\u001b[43mrng\u001b[49m\u001b[43m,\u001b[49m\u001b[43m \u001b[49m\u001b[43moptimized\u001b[49m\u001b[43m,\u001b[49m\u001b[43m \u001b[49m\u001b[43mreturn_params\u001b[49m\u001b[38;5;241;43m=\u001b[39;49m\u001b[43mreturn_params\u001b[49m\u001b[43m)\u001b[49m  \n\u001b[1;32m    132\u001b[0m data\u001b[38;5;241m.\u001b[39mappend(qc_tensor)\n\u001b[1;32m    133\u001b[0m label\u001b[38;5;241m.\u001b[39mappend(svr)\n",
      "File \u001b[0;32m~/GeneratorForQC/generator/platform/qcircuit_dataset_construction.py:105\u001b[0m, in \u001b[0;36mget_rnd_encoded_circuit\u001b[0;34m(num_of_qubits, min_gates, max_gates, gate_pool, gate_classes, rng, optimized, return_params)\u001b[0m\n\u001b[1;32m    100\u001b[0m \u001b[38;5;28;01mif\u001b[39;00m optimized: qc \u001b[38;5;241m=\u001b[39m optimize_circuit(qc, gate_pool)     \n\u001b[1;32m    101\u001b[0m simulator \u001b[38;5;241m=\u001b[39m DensityMatrixSimulator(\n\u001b[1;32m    102\u001b[0m device\u001b[38;5;241m=\u001b[39m\u001b[38;5;124m\"\u001b[39m\u001b[38;5;124mCPU\u001b[39m\u001b[38;5;124m\"\u001b[39m,\n\u001b[1;32m    103\u001b[0m precision\u001b[38;5;241m=\u001b[39m\u001b[38;5;124m\"\u001b[39m\u001b[38;5;124mdouble\u001b[39m\u001b[38;5;124m\"\u001b[39m\n\u001b[1;32m    104\u001b[0m )   \n\u001b[0;32m--> 105\u001b[0m svr \u001b[38;5;241m=\u001b[39m schmidt_rank_vector(\u001b[43msimulator\u001b[49m\u001b[38;5;241;43m.\u001b[39;49m\u001b[43mrun\u001b[49m\u001b[43m(\u001b[49m\u001b[43mqc\u001b[49m\u001b[43m)\u001b[49m)\n\u001b[1;32m    107\u001b[0m \u001b[38;5;28;01mif\u001b[39;00m return_params:\n\u001b[1;32m    108\u001b[0m     qc_tensor, params_tensor \u001b[38;5;241m=\u001b[39m encode_circuit(qc, num_of_qubits, gate_classes, max_gates, return_params\u001b[38;5;241m=\u001b[39mreturn_params)  \n",
      "File \u001b[0;32m~/anaconda3/envs/vit/lib/python3.10/site-packages/quict-1.0.0-py3.10.egg/QuICT/simulation/density_matrix/density_matrix_simulator.py:99\u001b[0m, in \u001b[0;36mDensityMatrixSimulator.run\u001b[0;34m(self, circuit, quantum_state, quantum_machine_model, use_previous)\u001b[0m\n\u001b[1;32m     96\u001b[0m \u001b[38;5;28;01melif\u001b[39;00m (\u001b[38;5;28mself\u001b[39m\u001b[38;5;241m.\u001b[39m_density_matrix \u001b[38;5;129;01mis\u001b[39;00m \u001b[38;5;28;01mNone\u001b[39;00m \u001b[38;5;129;01mor\u001b[39;00m \u001b[38;5;129;01mnot\u001b[39;00m use_previous):\n\u001b[1;32m     97\u001b[0m     \u001b[38;5;28mself\u001b[39m\u001b[38;5;241m.\u001b[39m_density_matrix \u001b[38;5;241m=\u001b[39m \u001b[38;5;28mself\u001b[39m\u001b[38;5;241m.\u001b[39m_gate_calculator\u001b[38;5;241m.\u001b[39mget_allzero_density_matrix(\u001b[38;5;28mself\u001b[39m\u001b[38;5;241m.\u001b[39m_qubits)\n\u001b[0;32m---> 99\u001b[0m \u001b[38;5;28;43mself\u001b[39;49m\u001b[38;5;241;43m.\u001b[39;49m\u001b[43m_run\u001b[49m\u001b[43m(\u001b[49m\u001b[38;5;28;43mself\u001b[39;49m\u001b[38;5;241;43m.\u001b[39;49m\u001b[43m_circuit\u001b[49m\u001b[43m)\u001b[49m\n\u001b[1;32m    100\u001b[0m \u001b[38;5;28;01mreturn\u001b[39;00m \u001b[38;5;28mself\u001b[39m\u001b[38;5;241m.\u001b[39m_density_matrix\n",
      "File \u001b[0;32m~/anaconda3/envs/vit/lib/python3.10/site-packages/quict-1.0.0-py3.10.egg/QuICT/simulation/density_matrix/density_matrix_simulator.py:123\u001b[0m, in \u001b[0;36mDensityMatrixSimulator._run\u001b[0;34m(self, noised_circuit)\u001b[0m\n\u001b[1;32m    120\u001b[0m     \u001b[38;5;28;01melse\u001b[39;00m:\n\u001b[1;32m    121\u001b[0m         \u001b[38;5;28;01mraise\u001b[39;00m \u001b[38;5;167;01mTypeError\u001b[39;00m(\u001b[38;5;124m\"\u001b[39m\u001b[38;5;124mDensityMatrixSimulator.run.circuit\u001b[39m\u001b[38;5;124m\"\u001b[39m, \u001b[38;5;124m\"\u001b[39m\u001b[38;5;124m[BasicGate, NoiseGate]\u001b[39m\u001b[38;5;124m\"\u001b[39m, \u001b[38;5;28mtype\u001b[39m(gate))\n\u001b[0;32m--> 123\u001b[0m \u001b[38;5;28;43mself\u001b[39;49m\u001b[38;5;241;43m.\u001b[39;49m\u001b[43mapply_gates\u001b[49m\u001b[43m(\u001b[49m\u001b[43mcombined_gates\u001b[49m\u001b[43m)\u001b[49m\n",
      "File \u001b[0;32m~/anaconda3/envs/vit/lib/python3.10/site-packages/quict-1.0.0-py3.10.egg/QuICT/simulation/density_matrix/density_matrix_simulator.py:138\u001b[0m, in \u001b[0;36mDensityMatrixSimulator.apply_gates\u001b[0;34m(self, combined_gates)\u001b[0m\n\u001b[1;32m    135\u001b[0m \u001b[38;5;28;01mif\u001b[39;00m \u001b[38;5;28mlen\u001b[39m(combined_gates) \u001b[38;5;241m==\u001b[39m \u001b[38;5;241m0\u001b[39m:\n\u001b[1;32m    136\u001b[0m     \u001b[38;5;28;01mreturn\u001b[39;00m\n\u001b[0;32m--> 138\u001b[0m cir_matrix \u001b[38;5;241m=\u001b[39m \u001b[38;5;28;43mself\u001b[39;49m\u001b[38;5;241;43m.\u001b[39;49m\u001b[43m_circuit_matrix_helper\u001b[49m\u001b[38;5;241;43m.\u001b[39;49m\u001b[43mget_unitary_matrix\u001b[49m\u001b[43m(\u001b[49m\u001b[43mcombined_gates\u001b[49m\u001b[43m,\u001b[49m\u001b[43m \u001b[49m\u001b[38;5;28;43mself\u001b[39;49m\u001b[38;5;241;43m.\u001b[39;49m\u001b[43m_qubits\u001b[49m\u001b[43m)\u001b[49m\n\u001b[1;32m    139\u001b[0m \u001b[38;5;28mself\u001b[39m\u001b[38;5;241m.\u001b[39m_density_matrix \u001b[38;5;241m=\u001b[39m \u001b[38;5;28mself\u001b[39m\u001b[38;5;241m.\u001b[39m_gate_calculator\u001b[38;5;241m.\u001b[39mdot(\n\u001b[1;32m    140\u001b[0m     \u001b[38;5;28mself\u001b[39m\u001b[38;5;241m.\u001b[39m_gate_calculator\u001b[38;5;241m.\u001b[39mdot(cir_matrix, \u001b[38;5;28mself\u001b[39m\u001b[38;5;241m.\u001b[39m_density_matrix),\n\u001b[1;32m    141\u001b[0m     cir_matrix\u001b[38;5;241m.\u001b[39mconj()\u001b[38;5;241m.\u001b[39mT\n\u001b[1;32m    142\u001b[0m )\n",
      "File \u001b[0;32m~/anaconda3/envs/vit/lib/python3.10/site-packages/quict-1.0.0-py3.10.egg/QuICT/core/utils/circuit_matrix.py:137\u001b[0m, in \u001b[0;36mCircuitMatrix.get_unitary_matrix\u001b[0;34m(self, gates, qubits_num)\u001b[0m\n\u001b[1;32m    135\u001b[0m \u001b[38;5;28;01mfor\u001b[39;00m layer \u001b[38;5;129;01min\u001b[39;00m matrix_groups:\n\u001b[1;32m    136\u001b[0m     \u001b[38;5;28;01mfor\u001b[39;00m mg \u001b[38;5;129;01min\u001b[39;00m layer:\n\u001b[0;32m--> 137\u001b[0m         combined_matries\u001b[38;5;241m.\u001b[39mappend(\u001b[38;5;28;43mself\u001b[39;49m\u001b[38;5;241;43m.\u001b[39;49m\u001b[43m_combined_gates\u001b[49m\u001b[43m(\u001b[49m\u001b[43mmg\u001b[49m\u001b[38;5;241;43m.\u001b[39;49m\u001b[43mvalue\u001b[49m\u001b[43m)\u001b[49m)\n\u001b[1;32m    139\u001b[0m \u001b[38;5;66;03m# Combined all matries from the combined MatrixGroup\u001b[39;00m\n\u001b[1;32m    140\u001b[0m circuit_matrix, circuit_matrix_args \u001b[38;5;241m=\u001b[39m \u001b[38;5;28mself\u001b[39m\u001b[38;5;241m.\u001b[39m_combined_gates(combined_matries)\n",
      "File \u001b[0;32m~/anaconda3/envs/vit/lib/python3.10/site-packages/quict-1.0.0-py3.10.egg/QuICT/core/utils/circuit_matrix.py:239\u001b[0m, in \u001b[0;36mCircuitMatrix._combined_gates\u001b[0;34m(self, gates)\u001b[0m\n\u001b[1;32m    237\u001b[0m left, right \u001b[38;5;241m=\u001b[39m \u001b[38;5;28mself\u001b[39m\u001b[38;5;241m.\u001b[39m_find_mini_args_num(args_num)\n\u001b[1;32m    238\u001b[0m lg, rg \u001b[38;5;241m=\u001b[39m gates[left], gates[right]\n\u001b[0;32m--> 239\u001b[0m combined_matrix, combined_matrix_args \u001b[38;5;241m=\u001b[39m \u001b[38;5;28;43mself\u001b[39;49m\u001b[38;5;241;43m.\u001b[39;49m\u001b[43mmerge_gates\u001b[49m\u001b[43m(\u001b[49m\n\u001b[1;32m    240\u001b[0m \u001b[43m    \u001b[49m\u001b[43mlg\u001b[49m\u001b[43m[\u001b[49m\u001b[38;5;241;43m0\u001b[39;49m\u001b[43m]\u001b[49m\u001b[43m,\u001b[49m\u001b[43m \u001b[49m\u001b[43mlg\u001b[49m\u001b[43m[\u001b[49m\u001b[38;5;241;43m1\u001b[39;49m\u001b[43m]\u001b[49m\u001b[43m,\u001b[49m\n\u001b[1;32m    241\u001b[0m \u001b[43m    \u001b[49m\u001b[43mrg\u001b[49m\u001b[43m[\u001b[49m\u001b[38;5;241;43m0\u001b[39;49m\u001b[43m]\u001b[49m\u001b[43m,\u001b[49m\u001b[43m \u001b[49m\u001b[43mrg\u001b[49m\u001b[43m[\u001b[49m\u001b[38;5;241;43m1\u001b[39;49m\u001b[43m]\u001b[49m\n\u001b[1;32m    242\u001b[0m \u001b[43m\u001b[49m\u001b[43m)\u001b[49m\n\u001b[1;32m    243\u001b[0m gates[left] \u001b[38;5;241m=\u001b[39m (combined_matrix, combined_matrix_args)\n\u001b[1;32m    244\u001b[0m \u001b[38;5;28;01mdel\u001b[39;00m gates[right]\n",
      "File \u001b[0;32m~/anaconda3/envs/vit/lib/python3.10/site-packages/quict-1.0.0-py3.10.egg/QuICT/core/utils/circuit_matrix.py:200\u001b[0m, in \u001b[0;36mCircuitMatrix.merge_gates\u001b[0;34m(self, u1, u1_args, u2, u2_args)\u001b[0m\n\u001b[1;32m    197\u001b[0m union_args \u001b[38;5;241m=\u001b[39m u1_args \u001b[38;5;241m+\u001b[39m [i \u001b[38;5;28;01mfor\u001b[39;00m i \u001b[38;5;129;01min\u001b[39;00m u2_args \u001b[38;5;28;01mif\u001b[39;00m i \u001b[38;5;129;01mnot\u001b[39;00m \u001b[38;5;129;01min\u001b[39;00m u1_args] \u001b[38;5;28;01mif\u001b[39;00m \u001b[38;5;28mlen\u001b[39m(u1_args) \u001b[38;5;241m>\u001b[39m\u001b[38;5;241m=\u001b[39m \u001b[38;5;28mlen\u001b[39m(u2_args) \u001b[38;5;28;01melse\u001b[39;00m \\\n\u001b[1;32m    198\u001b[0m     u2_args \u001b[38;5;241m+\u001b[39m [i \u001b[38;5;28;01mfor\u001b[39;00m i \u001b[38;5;129;01min\u001b[39;00m u1_args \u001b[38;5;28;01mif\u001b[39;00m i \u001b[38;5;129;01mnot\u001b[39;00m \u001b[38;5;129;01min\u001b[39;00m u2_args]\n\u001b[1;32m    199\u001b[0m \u001b[38;5;28;01mif\u001b[39;00m \u001b[38;5;28mlen\u001b[39m(union_args) \u001b[38;5;241m!=\u001b[39m \u001b[38;5;28mlen\u001b[39m(u1_args_set):\n\u001b[0;32m--> 200\u001b[0m     u1 \u001b[38;5;241m=\u001b[39m \u001b[38;5;28;43mself\u001b[39;49m\u001b[38;5;241;43m.\u001b[39;49m\u001b[43m_tensor_unitary\u001b[49m\u001b[43m(\u001b[49m\u001b[43mu1\u001b[49m\u001b[43m,\u001b[49m\u001b[43m \u001b[49m\u001b[43mu1_args\u001b[49m\u001b[43m,\u001b[49m\u001b[43m \u001b[49m\u001b[43munion_args\u001b[49m\u001b[43m)\u001b[49m\n\u001b[1;32m    202\u001b[0m \u001b[38;5;28;01mif\u001b[39;00m \u001b[38;5;28mlen\u001b[39m(union_args) \u001b[38;5;241m!=\u001b[39m \u001b[38;5;28mlen\u001b[39m(u2_args_set):\n\u001b[1;32m    203\u001b[0m     u2 \u001b[38;5;241m=\u001b[39m \u001b[38;5;28mself\u001b[39m\u001b[38;5;241m.\u001b[39m_tensor_unitary(u2, u2_args, union_args)\n",
      "File \u001b[0;32m~/anaconda3/envs/vit/lib/python3.10/site-packages/quict-1.0.0-py3.10.egg/QuICT/core/utils/circuit_matrix.py:218\u001b[0m, in \u001b[0;36mCircuitMatrix._tensor_unitary\u001b[0;34m(self, unitary, unitary_args, extend_args)\u001b[0m\n\u001b[1;32m    211\u001b[0m     \u001b[38;5;28;01mif\u001b[39;00m np\u001b[38;5;241m.\u001b[39mallclose(mono_diff, \u001b[38;5;241m-\u001b[39m\u001b[38;5;241m1\u001b[39m):\n\u001b[1;32m    212\u001b[0m         unitary \u001b[38;5;241m=\u001b[39m \u001b[38;5;28mself\u001b[39m\u001b[38;5;241m.\u001b[39m_computer\u001b[38;5;241m.\u001b[39mMatrixPermutation(\n\u001b[1;32m    213\u001b[0m             unitary,\n\u001b[1;32m    214\u001b[0m             \u001b[38;5;28mself\u001b[39m\u001b[38;5;241m.\u001b[39m_array_helper\u001b[38;5;241m.\u001b[39marange(\u001b[38;5;28mlen\u001b[39m(unitary_args) \u001b[38;5;241m-\u001b[39m \u001b[38;5;241m1\u001b[39m, \u001b[38;5;241m-\u001b[39m\u001b[38;5;241m1\u001b[39m, \u001b[38;5;241m-\u001b[39m\u001b[38;5;241m1\u001b[39m),\n\u001b[1;32m    215\u001b[0m             \u001b[38;5;28;01mFalse\u001b[39;00m\n\u001b[1;32m    216\u001b[0m         )\n\u001b[0;32m--> 218\u001b[0m     \u001b[38;5;28;01mreturn\u001b[39;00m \u001b[38;5;28;43mself\u001b[39;49m\u001b[38;5;241;43m.\u001b[39;49m\u001b[43m_computer\u001b[49m\u001b[38;5;241;43m.\u001b[39;49m\u001b[43mMatrixTensorI\u001b[49m\u001b[43m(\u001b[49m\n\u001b[1;32m    219\u001b[0m \u001b[43m        \u001b[49m\u001b[43munitary\u001b[49m\u001b[43m,\u001b[49m\n\u001b[1;32m    220\u001b[0m \u001b[43m        \u001b[49m\u001b[38;5;241;43m1\u001b[39;49m\u001b[43m \u001b[49m\u001b[38;5;241;43m<<\u001b[39;49m\u001b[43m \u001b[49m\u001b[43m(\u001b[49m\u001b[38;5;28;43mmin\u001b[39;49m\u001b[43m(\u001b[49m\u001b[43muargs_idx\u001b[49m\u001b[43m)\u001b[49m\u001b[43m \u001b[49m\u001b[38;5;241;43m-\u001b[39;49m\u001b[43m \u001b[49m\u001b[38;5;241;43m0\u001b[39;49m\u001b[43m)\u001b[49m\u001b[43m,\u001b[49m\n\u001b[1;32m    221\u001b[0m \u001b[43m        \u001b[49m\u001b[38;5;241;43m1\u001b[39;49m\u001b[43m \u001b[49m\u001b[38;5;241;43m<<\u001b[39;49m\u001b[43m \u001b[49m\u001b[43m(\u001b[49m\u001b[38;5;28;43mlen\u001b[39;49m\u001b[43m(\u001b[49m\u001b[43mextend_args\u001b[49m\u001b[43m)\u001b[49m\u001b[43m \u001b[49m\u001b[38;5;241;43m-\u001b[39;49m\u001b[43m \u001b[49m\u001b[38;5;241;43m1\u001b[39;49m\u001b[43m \u001b[49m\u001b[38;5;241;43m-\u001b[39;49m\u001b[43m \u001b[49m\u001b[38;5;28;43mmax\u001b[39;49m\u001b[43m(\u001b[49m\u001b[43muargs_idx\u001b[49m\u001b[43m)\u001b[49m\u001b[43m)\u001b[49m\n\u001b[1;32m    222\u001b[0m \u001b[43m    \u001b[49m\u001b[43m)\u001b[49m\n\u001b[1;32m    224\u001b[0m tensor_matrix \u001b[38;5;241m=\u001b[39m \u001b[38;5;28mself\u001b[39m\u001b[38;5;241m.\u001b[39m_computer\u001b[38;5;241m.\u001b[39mMatrixTensorI(\n\u001b[1;32m    225\u001b[0m     unitary,\n\u001b[1;32m    226\u001b[0m     \u001b[38;5;241m1\u001b[39m,\n\u001b[1;32m    227\u001b[0m     \u001b[38;5;241m1\u001b[39m \u001b[38;5;241m<<\u001b[39m (\u001b[38;5;28mlen\u001b[39m(extend_args) \u001b[38;5;241m-\u001b[39m \u001b[38;5;28mlen\u001b[39m(unitary_args))\n\u001b[1;32m    228\u001b[0m )\n\u001b[1;32m    229\u001b[0m tmatrix_args \u001b[38;5;241m=\u001b[39m unitary_args \u001b[38;5;241m+\u001b[39m [earg \u001b[38;5;28;01mfor\u001b[39;00m earg \u001b[38;5;129;01min\u001b[39;00m extend_args \u001b[38;5;28;01mif\u001b[39;00m earg \u001b[38;5;129;01mnot\u001b[39;00m \u001b[38;5;129;01min\u001b[39;00m unitary_args]\n",
      "File \u001b[0;32m~/anaconda3/envs/vit/lib/python3.10/site-packages/numba-0.61.0rc1-py3.10-linux-x86_64.egg/numba/core/dispatcher.py:376\u001b[0m, in \u001b[0;36m_DispatcherBase._compile_for_args\u001b[0;34m(self, *args, **kws)\u001b[0m\n\u001b[1;32m    374\u001b[0m return_val \u001b[38;5;241m=\u001b[39m \u001b[38;5;28;01mNone\u001b[39;00m\n\u001b[1;32m    375\u001b[0m \u001b[38;5;28;01mtry\u001b[39;00m:\n\u001b[0;32m--> 376\u001b[0m     return_val \u001b[38;5;241m=\u001b[39m \u001b[38;5;28;43mself\u001b[39;49m\u001b[38;5;241;43m.\u001b[39;49m\u001b[43mcompile\u001b[49m\u001b[43m(\u001b[49m\u001b[38;5;28;43mtuple\u001b[39;49m\u001b[43m(\u001b[49m\u001b[43margtypes\u001b[49m\u001b[43m)\u001b[49m\u001b[43m)\u001b[49m\n\u001b[1;32m    377\u001b[0m \u001b[38;5;28;01mexcept\u001b[39;00m errors\u001b[38;5;241m.\u001b[39mForceLiteralArg \u001b[38;5;28;01mas\u001b[39;00m e:\n\u001b[1;32m    378\u001b[0m     \u001b[38;5;66;03m# Received request for compiler re-entry with the list of arguments\u001b[39;00m\n\u001b[1;32m    379\u001b[0m     \u001b[38;5;66;03m# indicated by e.requested_args.\u001b[39;00m\n\u001b[1;32m    380\u001b[0m     \u001b[38;5;66;03m# First, check if any of these args are already Literal-ized\u001b[39;00m\n\u001b[1;32m    381\u001b[0m     already_lit_pos \u001b[38;5;241m=\u001b[39m [i \u001b[38;5;28;01mfor\u001b[39;00m i \u001b[38;5;129;01min\u001b[39;00m e\u001b[38;5;241m.\u001b[39mrequested_args\n\u001b[1;32m    382\u001b[0m                        \u001b[38;5;28;01mif\u001b[39;00m \u001b[38;5;28misinstance\u001b[39m(args[i], types\u001b[38;5;241m.\u001b[39mLiteral)]\n",
      "File \u001b[0;32m~/anaconda3/envs/vit/lib/python3.10/site-packages/numba-0.61.0rc1-py3.10-linux-x86_64.egg/numba/core/dispatcher.py:904\u001b[0m, in \u001b[0;36mDispatcher.compile\u001b[0;34m(self, sig)\u001b[0m\n\u001b[1;32m    902\u001b[0m \u001b[38;5;28;01mwith\u001b[39;00m ev\u001b[38;5;241m.\u001b[39mtrigger_event(\u001b[38;5;124m\"\u001b[39m\u001b[38;5;124mnumba:compile\u001b[39m\u001b[38;5;124m\"\u001b[39m, data\u001b[38;5;241m=\u001b[39mev_details):\n\u001b[1;32m    903\u001b[0m     \u001b[38;5;28;01mtry\u001b[39;00m:\n\u001b[0;32m--> 904\u001b[0m         cres \u001b[38;5;241m=\u001b[39m \u001b[38;5;28;43mself\u001b[39;49m\u001b[38;5;241;43m.\u001b[39;49m\u001b[43m_compiler\u001b[49m\u001b[38;5;241;43m.\u001b[39;49m\u001b[43mcompile\u001b[49m\u001b[43m(\u001b[49m\u001b[43margs\u001b[49m\u001b[43m,\u001b[49m\u001b[43m \u001b[49m\u001b[43mreturn_type\u001b[49m\u001b[43m)\u001b[49m\n\u001b[1;32m    905\u001b[0m     \u001b[38;5;28;01mexcept\u001b[39;00m errors\u001b[38;5;241m.\u001b[39mForceLiteralArg \u001b[38;5;28;01mas\u001b[39;00m e:\n\u001b[1;32m    906\u001b[0m         \u001b[38;5;28;01mdef\u001b[39;00m \u001b[38;5;21mfolded\u001b[39m(args, kws):\n",
      "File \u001b[0;32m~/anaconda3/envs/vit/lib/python3.10/site-packages/numba-0.61.0rc1-py3.10-linux-x86_64.egg/numba/core/dispatcher.py:80\u001b[0m, in \u001b[0;36m_FunctionCompiler.compile\u001b[0;34m(self, args, return_type)\u001b[0m\n\u001b[1;32m     79\u001b[0m \u001b[38;5;28;01mdef\u001b[39;00m \u001b[38;5;21mcompile\u001b[39m(\u001b[38;5;28mself\u001b[39m, args, return_type):\n\u001b[0;32m---> 80\u001b[0m     status, retval \u001b[38;5;241m=\u001b[39m \u001b[38;5;28;43mself\u001b[39;49m\u001b[38;5;241;43m.\u001b[39;49m\u001b[43m_compile_cached\u001b[49m\u001b[43m(\u001b[49m\u001b[43margs\u001b[49m\u001b[43m,\u001b[49m\u001b[43m \u001b[49m\u001b[43mreturn_type\u001b[49m\u001b[43m)\u001b[49m\n\u001b[1;32m     81\u001b[0m     \u001b[38;5;28;01mif\u001b[39;00m status:\n\u001b[1;32m     82\u001b[0m         \u001b[38;5;28;01mreturn\u001b[39;00m retval\n",
      "File \u001b[0;32m~/anaconda3/envs/vit/lib/python3.10/site-packages/numba-0.61.0rc1-py3.10-linux-x86_64.egg/numba/core/dispatcher.py:94\u001b[0m, in \u001b[0;36m_FunctionCompiler._compile_cached\u001b[0;34m(self, args, return_type)\u001b[0m\n\u001b[1;32m     91\u001b[0m     \u001b[38;5;28;01mpass\u001b[39;00m\n\u001b[1;32m     93\u001b[0m \u001b[38;5;28;01mtry\u001b[39;00m:\n\u001b[0;32m---> 94\u001b[0m     retval \u001b[38;5;241m=\u001b[39m \u001b[38;5;28;43mself\u001b[39;49m\u001b[38;5;241;43m.\u001b[39;49m\u001b[43m_compile_core\u001b[49m\u001b[43m(\u001b[49m\u001b[43margs\u001b[49m\u001b[43m,\u001b[49m\u001b[43m \u001b[49m\u001b[43mreturn_type\u001b[49m\u001b[43m)\u001b[49m\n\u001b[1;32m     95\u001b[0m \u001b[38;5;28;01mexcept\u001b[39;00m errors\u001b[38;5;241m.\u001b[39mTypingError \u001b[38;5;28;01mas\u001b[39;00m e:\n\u001b[1;32m     96\u001b[0m     \u001b[38;5;28mself\u001b[39m\u001b[38;5;241m.\u001b[39m_failed_cache[key] \u001b[38;5;241m=\u001b[39m e\n",
      "File \u001b[0;32m~/anaconda3/envs/vit/lib/python3.10/site-packages/numba-0.61.0rc1-py3.10-linux-x86_64.egg/numba/core/dispatcher.py:107\u001b[0m, in \u001b[0;36m_FunctionCompiler._compile_core\u001b[0;34m(self, args, return_type)\u001b[0m\n\u001b[1;32m    104\u001b[0m flags \u001b[38;5;241m=\u001b[39m \u001b[38;5;28mself\u001b[39m\u001b[38;5;241m.\u001b[39m_customize_flags(flags)\n\u001b[1;32m    106\u001b[0m impl \u001b[38;5;241m=\u001b[39m \u001b[38;5;28mself\u001b[39m\u001b[38;5;241m.\u001b[39m_get_implementation(args, {})\n\u001b[0;32m--> 107\u001b[0m cres \u001b[38;5;241m=\u001b[39m \u001b[43mcompiler\u001b[49m\u001b[38;5;241;43m.\u001b[39;49m\u001b[43mcompile_extra\u001b[49m\u001b[43m(\u001b[49m\u001b[38;5;28;43mself\u001b[39;49m\u001b[38;5;241;43m.\u001b[39;49m\u001b[43mtargetdescr\u001b[49m\u001b[38;5;241;43m.\u001b[39;49m\u001b[43mtyping_context\u001b[49m\u001b[43m,\u001b[49m\n\u001b[1;32m    108\u001b[0m \u001b[43m                              \u001b[49m\u001b[38;5;28;43mself\u001b[39;49m\u001b[38;5;241;43m.\u001b[39;49m\u001b[43mtargetdescr\u001b[49m\u001b[38;5;241;43m.\u001b[39;49m\u001b[43mtarget_context\u001b[49m\u001b[43m,\u001b[49m\n\u001b[1;32m    109\u001b[0m \u001b[43m                              \u001b[49m\u001b[43mimpl\u001b[49m\u001b[43m,\u001b[49m\n\u001b[1;32m    110\u001b[0m \u001b[43m                              \u001b[49m\u001b[43margs\u001b[49m\u001b[38;5;241;43m=\u001b[39;49m\u001b[43margs\u001b[49m\u001b[43m,\u001b[49m\u001b[43m \u001b[49m\u001b[43mreturn_type\u001b[49m\u001b[38;5;241;43m=\u001b[39;49m\u001b[43mreturn_type\u001b[49m\u001b[43m,\u001b[49m\n\u001b[1;32m    111\u001b[0m \u001b[43m                              \u001b[49m\u001b[43mflags\u001b[49m\u001b[38;5;241;43m=\u001b[39;49m\u001b[43mflags\u001b[49m\u001b[43m,\u001b[49m\u001b[43m \u001b[49m\u001b[38;5;28;43mlocals\u001b[39;49m\u001b[38;5;241;43m=\u001b[39;49m\u001b[38;5;28;43mself\u001b[39;49m\u001b[38;5;241;43m.\u001b[39;49m\u001b[43mlocals\u001b[49m\u001b[43m,\u001b[49m\n\u001b[1;32m    112\u001b[0m \u001b[43m                              \u001b[49m\u001b[43mpipeline_class\u001b[49m\u001b[38;5;241;43m=\u001b[39;49m\u001b[38;5;28;43mself\u001b[39;49m\u001b[38;5;241;43m.\u001b[39;49m\u001b[43mpipeline_class\u001b[49m\u001b[43m)\u001b[49m\n\u001b[1;32m    113\u001b[0m \u001b[38;5;66;03m# Check typing error if object mode is used\u001b[39;00m\n\u001b[1;32m    114\u001b[0m \u001b[38;5;28;01mif\u001b[39;00m cres\u001b[38;5;241m.\u001b[39mtyping_error \u001b[38;5;129;01mis\u001b[39;00m \u001b[38;5;129;01mnot\u001b[39;00m \u001b[38;5;28;01mNone\u001b[39;00m \u001b[38;5;129;01mand\u001b[39;00m \u001b[38;5;129;01mnot\u001b[39;00m flags\u001b[38;5;241m.\u001b[39menable_pyobject:\n",
      "File \u001b[0;32m~/anaconda3/envs/vit/lib/python3.10/site-packages/numba-0.61.0rc1-py3.10-linux-x86_64.egg/numba/core/compiler.py:739\u001b[0m, in \u001b[0;36mcompile_extra\u001b[0;34m(typingctx, targetctx, func, args, return_type, flags, locals, library, pipeline_class)\u001b[0m\n\u001b[1;32m    715\u001b[0m \u001b[38;5;250m\u001b[39m\u001b[38;5;124;03m\"\"\"Compiler entry point\u001b[39;00m\n\u001b[1;32m    716\u001b[0m \n\u001b[1;32m    717\u001b[0m \u001b[38;5;124;03mParameter\u001b[39;00m\n\u001b[0;32m   (...)\u001b[0m\n\u001b[1;32m    735\u001b[0m \u001b[38;5;124;03m    compiler pipeline\u001b[39;00m\n\u001b[1;32m    736\u001b[0m \u001b[38;5;124;03m\"\"\"\u001b[39;00m\n\u001b[1;32m    737\u001b[0m pipeline \u001b[38;5;241m=\u001b[39m pipeline_class(typingctx, targetctx, library,\n\u001b[1;32m    738\u001b[0m                           args, return_type, flags, \u001b[38;5;28mlocals\u001b[39m)\n\u001b[0;32m--> 739\u001b[0m \u001b[38;5;28;01mreturn\u001b[39;00m \u001b[43mpipeline\u001b[49m\u001b[38;5;241;43m.\u001b[39;49m\u001b[43mcompile_extra\u001b[49m\u001b[43m(\u001b[49m\u001b[43mfunc\u001b[49m\u001b[43m)\u001b[49m\n",
      "File \u001b[0;32m~/anaconda3/envs/vit/lib/python3.10/site-packages/numba-0.61.0rc1-py3.10-linux-x86_64.egg/numba/core/compiler.py:439\u001b[0m, in \u001b[0;36mCompilerBase.compile_extra\u001b[0;34m(self, func)\u001b[0m\n\u001b[1;32m    437\u001b[0m \u001b[38;5;28mself\u001b[39m\u001b[38;5;241m.\u001b[39mstate\u001b[38;5;241m.\u001b[39mlifted \u001b[38;5;241m=\u001b[39m ()\n\u001b[1;32m    438\u001b[0m \u001b[38;5;28mself\u001b[39m\u001b[38;5;241m.\u001b[39mstate\u001b[38;5;241m.\u001b[39mlifted_from \u001b[38;5;241m=\u001b[39m \u001b[38;5;28;01mNone\u001b[39;00m\n\u001b[0;32m--> 439\u001b[0m \u001b[38;5;28;01mreturn\u001b[39;00m \u001b[38;5;28;43mself\u001b[39;49m\u001b[38;5;241;43m.\u001b[39;49m\u001b[43m_compile_bytecode\u001b[49m\u001b[43m(\u001b[49m\u001b[43m)\u001b[49m\n",
      "File \u001b[0;32m~/anaconda3/envs/vit/lib/python3.10/site-packages/numba-0.61.0rc1-py3.10-linux-x86_64.egg/numba/core/compiler.py:505\u001b[0m, in \u001b[0;36mCompilerBase._compile_bytecode\u001b[0;34m(self)\u001b[0m\n\u001b[1;32m    501\u001b[0m \u001b[38;5;250m\u001b[39m\u001b[38;5;124;03m\"\"\"\u001b[39;00m\n\u001b[1;32m    502\u001b[0m \u001b[38;5;124;03mPopulate and run pipeline for bytecode input\u001b[39;00m\n\u001b[1;32m    503\u001b[0m \u001b[38;5;124;03m\"\"\"\u001b[39;00m\n\u001b[1;32m    504\u001b[0m \u001b[38;5;28;01massert\u001b[39;00m \u001b[38;5;28mself\u001b[39m\u001b[38;5;241m.\u001b[39mstate\u001b[38;5;241m.\u001b[39mfunc_ir \u001b[38;5;129;01mis\u001b[39;00m \u001b[38;5;28;01mNone\u001b[39;00m\n\u001b[0;32m--> 505\u001b[0m \u001b[38;5;28;01mreturn\u001b[39;00m \u001b[38;5;28;43mself\u001b[39;49m\u001b[38;5;241;43m.\u001b[39;49m\u001b[43m_compile_core\u001b[49m\u001b[43m(\u001b[49m\u001b[43m)\u001b[49m\n",
      "File \u001b[0;32m~/anaconda3/envs/vit/lib/python3.10/site-packages/numba-0.61.0rc1-py3.10-linux-x86_64.egg/numba/core/compiler.py:473\u001b[0m, in \u001b[0;36mCompilerBase._compile_core\u001b[0;34m(self)\u001b[0m\n\u001b[1;32m    471\u001b[0m res \u001b[38;5;241m=\u001b[39m \u001b[38;5;28;01mNone\u001b[39;00m\n\u001b[1;32m    472\u001b[0m \u001b[38;5;28;01mtry\u001b[39;00m:\n\u001b[0;32m--> 473\u001b[0m     \u001b[43mpm\u001b[49m\u001b[38;5;241;43m.\u001b[39;49m\u001b[43mrun\u001b[49m\u001b[43m(\u001b[49m\u001b[38;5;28;43mself\u001b[39;49m\u001b[38;5;241;43m.\u001b[39;49m\u001b[43mstate\u001b[49m\u001b[43m)\u001b[49m\n\u001b[1;32m    474\u001b[0m     \u001b[38;5;28;01mif\u001b[39;00m \u001b[38;5;28mself\u001b[39m\u001b[38;5;241m.\u001b[39mstate\u001b[38;5;241m.\u001b[39mcr \u001b[38;5;129;01mis\u001b[39;00m \u001b[38;5;129;01mnot\u001b[39;00m \u001b[38;5;28;01mNone\u001b[39;00m:\n\u001b[1;32m    475\u001b[0m         \u001b[38;5;28;01mbreak\u001b[39;00m\n",
      "File \u001b[0;32m~/anaconda3/envs/vit/lib/python3.10/site-packages/numba-0.61.0rc1-py3.10-linux-x86_64.egg/numba/core/compiler_machinery.py:356\u001b[0m, in \u001b[0;36mPassManager.run\u001b[0;34m(self, state)\u001b[0m\n\u001b[1;32m    354\u001b[0m pass_inst \u001b[38;5;241m=\u001b[39m _pass_registry\u001b[38;5;241m.\u001b[39mget(pss)\u001b[38;5;241m.\u001b[39mpass_inst\n\u001b[1;32m    355\u001b[0m \u001b[38;5;28;01mif\u001b[39;00m \u001b[38;5;28misinstance\u001b[39m(pass_inst, CompilerPass):\n\u001b[0;32m--> 356\u001b[0m     \u001b[38;5;28;43mself\u001b[39;49m\u001b[38;5;241;43m.\u001b[39;49m\u001b[43m_runPass\u001b[49m\u001b[43m(\u001b[49m\u001b[43midx\u001b[49m\u001b[43m,\u001b[49m\u001b[43m \u001b[49m\u001b[43mpass_inst\u001b[49m\u001b[43m,\u001b[49m\u001b[43m \u001b[49m\u001b[43mstate\u001b[49m\u001b[43m)\u001b[49m\n\u001b[1;32m    357\u001b[0m \u001b[38;5;28;01melse\u001b[39;00m:\n\u001b[1;32m    358\u001b[0m     \u001b[38;5;28;01mraise\u001b[39;00m \u001b[38;5;167;01mBaseException\u001b[39;00m(\u001b[38;5;124m\"\u001b[39m\u001b[38;5;124mLegacy pass in use\u001b[39m\u001b[38;5;124m\"\u001b[39m)\n",
      "File \u001b[0;32m~/anaconda3/envs/vit/lib/python3.10/site-packages/numba-0.61.0rc1-py3.10-linux-x86_64.egg/numba/core/compiler_lock.py:35\u001b[0m, in \u001b[0;36m_CompilerLock.__call__.<locals>._acquire_compile_lock\u001b[0;34m(*args, **kwargs)\u001b[0m\n\u001b[1;32m     32\u001b[0m \u001b[38;5;129m@functools\u001b[39m\u001b[38;5;241m.\u001b[39mwraps(func)\n\u001b[1;32m     33\u001b[0m \u001b[38;5;28;01mdef\u001b[39;00m \u001b[38;5;21m_acquire_compile_lock\u001b[39m(\u001b[38;5;241m*\u001b[39margs, \u001b[38;5;241m*\u001b[39m\u001b[38;5;241m*\u001b[39mkwargs):\n\u001b[1;32m     34\u001b[0m     \u001b[38;5;28;01mwith\u001b[39;00m \u001b[38;5;28mself\u001b[39m:\n\u001b[0;32m---> 35\u001b[0m         \u001b[38;5;28;01mreturn\u001b[39;00m \u001b[43mfunc\u001b[49m\u001b[43m(\u001b[49m\u001b[38;5;241;43m*\u001b[39;49m\u001b[43margs\u001b[49m\u001b[43m,\u001b[49m\u001b[43m \u001b[49m\u001b[38;5;241;43m*\u001b[39;49m\u001b[38;5;241;43m*\u001b[39;49m\u001b[43mkwargs\u001b[49m\u001b[43m)\u001b[49m\n",
      "File \u001b[0;32m~/anaconda3/envs/vit/lib/python3.10/site-packages/numba-0.61.0rc1-py3.10-linux-x86_64.egg/numba/core/compiler_machinery.py:311\u001b[0m, in \u001b[0;36mPassManager._runPass\u001b[0;34m(self, index, pss, internal_state)\u001b[0m\n\u001b[1;32m    309\u001b[0m     mutated \u001b[38;5;241m|\u001b[39m\u001b[38;5;241m=\u001b[39m check(pss\u001b[38;5;241m.\u001b[39mrun_initialization, internal_state)\n\u001b[1;32m    310\u001b[0m \u001b[38;5;28;01mwith\u001b[39;00m SimpleTimer() \u001b[38;5;28;01mas\u001b[39;00m pass_time:\n\u001b[0;32m--> 311\u001b[0m     mutated \u001b[38;5;241m|\u001b[39m\u001b[38;5;241m=\u001b[39m \u001b[43mcheck\u001b[49m\u001b[43m(\u001b[49m\u001b[43mpss\u001b[49m\u001b[38;5;241;43m.\u001b[39;49m\u001b[43mrun_pass\u001b[49m\u001b[43m,\u001b[49m\u001b[43m \u001b[49m\u001b[43minternal_state\u001b[49m\u001b[43m)\u001b[49m\n\u001b[1;32m    312\u001b[0m \u001b[38;5;28;01mwith\u001b[39;00m SimpleTimer() \u001b[38;5;28;01mas\u001b[39;00m finalize_time:\n\u001b[1;32m    313\u001b[0m     mutated \u001b[38;5;241m|\u001b[39m\u001b[38;5;241m=\u001b[39m check(pss\u001b[38;5;241m.\u001b[39mrun_finalizer, internal_state)\n",
      "File \u001b[0;32m~/anaconda3/envs/vit/lib/python3.10/site-packages/numba-0.61.0rc1-py3.10-linux-x86_64.egg/numba/core/compiler_machinery.py:272\u001b[0m, in \u001b[0;36mPassManager._runPass.<locals>.check\u001b[0;34m(func, compiler_state)\u001b[0m\n\u001b[1;32m    271\u001b[0m \u001b[38;5;28;01mdef\u001b[39;00m \u001b[38;5;21mcheck\u001b[39m(func, compiler_state):\n\u001b[0;32m--> 272\u001b[0m     mangled \u001b[38;5;241m=\u001b[39m \u001b[43mfunc\u001b[49m\u001b[43m(\u001b[49m\u001b[43mcompiler_state\u001b[49m\u001b[43m)\u001b[49m\n\u001b[1;32m    273\u001b[0m     \u001b[38;5;28;01mif\u001b[39;00m mangled \u001b[38;5;129;01mnot\u001b[39;00m \u001b[38;5;129;01min\u001b[39;00m (\u001b[38;5;28;01mTrue\u001b[39;00m, \u001b[38;5;28;01mFalse\u001b[39;00m):\n\u001b[1;32m    274\u001b[0m         msg \u001b[38;5;241m=\u001b[39m (\u001b[38;5;124m\"\u001b[39m\u001b[38;5;124mCompilerPass implementations should return True/False. \u001b[39m\u001b[38;5;124m\"\u001b[39m\n\u001b[1;32m    275\u001b[0m                \u001b[38;5;124m\"\u001b[39m\u001b[38;5;124mCompilerPass with name \u001b[39m\u001b[38;5;124m'\u001b[39m\u001b[38;5;132;01m%s\u001b[39;00m\u001b[38;5;124m'\u001b[39m\u001b[38;5;124m did not.\u001b[39m\u001b[38;5;124m\"\u001b[39m)\n",
      "File \u001b[0;32m~/anaconda3/envs/vit/lib/python3.10/site-packages/numba-0.61.0rc1-py3.10-linux-x86_64.egg/numba/core/typed_passes.py:468\u001b[0m, in \u001b[0;36mBaseNativeLowering.run_pass\u001b[0;34m(self, state)\u001b[0m\n\u001b[1;32m    465\u001b[0m \u001b[38;5;28;01mwith\u001b[39;00m targetctx\u001b[38;5;241m.\u001b[39mpush_code_library(library):\n\u001b[1;32m    466\u001b[0m     lower \u001b[38;5;241m=\u001b[39m \u001b[38;5;28mself\u001b[39m\u001b[38;5;241m.\u001b[39mlowering_class(targetctx, library, fndesc, interp,\n\u001b[1;32m    467\u001b[0m                                 metadata\u001b[38;5;241m=\u001b[39mmetadata)\n\u001b[0;32m--> 468\u001b[0m     \u001b[43mlower\u001b[49m\u001b[38;5;241;43m.\u001b[39;49m\u001b[43mlower\u001b[49m\u001b[43m(\u001b[49m\u001b[43m)\u001b[49m\n\u001b[1;32m    469\u001b[0m     \u001b[38;5;28;01mif\u001b[39;00m \u001b[38;5;129;01mnot\u001b[39;00m flags\u001b[38;5;241m.\u001b[39mno_cpython_wrapper:\n\u001b[1;32m    470\u001b[0m         lower\u001b[38;5;241m.\u001b[39mcreate_cpython_wrapper(flags\u001b[38;5;241m.\u001b[39mrelease_gil)\n",
      "File \u001b[0;32m~/anaconda3/envs/vit/lib/python3.10/site-packages/numba-0.61.0rc1-py3.10-linux-x86_64.egg/numba/core/lowering.py:193\u001b[0m, in \u001b[0;36mBaseLower.lower\u001b[0;34m(self)\u001b[0m\n\u001b[1;32m    191\u001b[0m \u001b[38;5;28;01mif\u001b[39;00m \u001b[38;5;28mself\u001b[39m\u001b[38;5;241m.\u001b[39mgenerator_info \u001b[38;5;129;01mis\u001b[39;00m \u001b[38;5;28;01mNone\u001b[39;00m:\n\u001b[1;32m    192\u001b[0m     \u001b[38;5;28mself\u001b[39m\u001b[38;5;241m.\u001b[39mgenlower \u001b[38;5;241m=\u001b[39m \u001b[38;5;28;01mNone\u001b[39;00m\n\u001b[0;32m--> 193\u001b[0m     \u001b[38;5;28;43mself\u001b[39;49m\u001b[38;5;241;43m.\u001b[39;49m\u001b[43mlower_normal_function\u001b[49m\u001b[43m(\u001b[49m\u001b[38;5;28;43mself\u001b[39;49m\u001b[38;5;241;43m.\u001b[39;49m\u001b[43mfndesc\u001b[49m\u001b[43m)\u001b[49m\n\u001b[1;32m    194\u001b[0m \u001b[38;5;28;01melse\u001b[39;00m:\n\u001b[1;32m    195\u001b[0m     \u001b[38;5;28mself\u001b[39m\u001b[38;5;241m.\u001b[39mgenlower \u001b[38;5;241m=\u001b[39m \u001b[38;5;28mself\u001b[39m\u001b[38;5;241m.\u001b[39mGeneratorLower(\u001b[38;5;28mself\u001b[39m)\n",
      "File \u001b[0;32m~/anaconda3/envs/vit/lib/python3.10/site-packages/numba-0.61.0rc1-py3.10-linux-x86_64.egg/numba/core/lowering.py:232\u001b[0m, in \u001b[0;36mBaseLower.lower_normal_function\u001b[0;34m(self, fndesc)\u001b[0m\n\u001b[1;32m    230\u001b[0m \u001b[38;5;66;03m# Init argument values\u001b[39;00m\n\u001b[1;32m    231\u001b[0m \u001b[38;5;28mself\u001b[39m\u001b[38;5;241m.\u001b[39mextract_function_arguments()\n\u001b[0;32m--> 232\u001b[0m entry_block_tail \u001b[38;5;241m=\u001b[39m \u001b[38;5;28;43mself\u001b[39;49m\u001b[38;5;241;43m.\u001b[39;49m\u001b[43mlower_function_body\u001b[49m\u001b[43m(\u001b[49m\u001b[43m)\u001b[49m\n\u001b[1;32m    234\u001b[0m \u001b[38;5;66;03m# Close tail of entry block, do not emit debug metadata else the\u001b[39;00m\n\u001b[1;32m    235\u001b[0m \u001b[38;5;66;03m# unconditional jump gets associated with the metadata from the function\u001b[39;00m\n\u001b[1;32m    236\u001b[0m \u001b[38;5;66;03m# body end.\u001b[39;00m\n\u001b[1;32m    237\u001b[0m \u001b[38;5;28;01mwith\u001b[39;00m debuginfo\u001b[38;5;241m.\u001b[39msuspend_emission(\u001b[38;5;28mself\u001b[39m\u001b[38;5;241m.\u001b[39mbuilder):\n",
      "File \u001b[0;32m~/anaconda3/envs/vit/lib/python3.10/site-packages/numba-0.61.0rc1-py3.10-linux-x86_64.egg/numba/core/lowering.py:262\u001b[0m, in \u001b[0;36mBaseLower.lower_function_body\u001b[0;34m(self)\u001b[0m\n\u001b[1;32m    260\u001b[0m     \u001b[38;5;28mself\u001b[39m\u001b[38;5;241m.\u001b[39mbuilder\u001b[38;5;241m.\u001b[39mposition_at_end(bb)\n\u001b[1;32m    261\u001b[0m     \u001b[38;5;28mself\u001b[39m\u001b[38;5;241m.\u001b[39mdebug_print(\u001b[38;5;124mf\u001b[39m\u001b[38;5;124m\"\u001b[39m\u001b[38;5;124m# lower block: \u001b[39m\u001b[38;5;132;01m{\u001b[39;00moffset\u001b[38;5;132;01m}\u001b[39;00m\u001b[38;5;124m\"\u001b[39m)\n\u001b[0;32m--> 262\u001b[0m     \u001b[38;5;28;43mself\u001b[39;49m\u001b[38;5;241;43m.\u001b[39;49m\u001b[43mlower_block\u001b[49m\u001b[43m(\u001b[49m\u001b[43mblock\u001b[49m\u001b[43m)\u001b[49m\n\u001b[1;32m    263\u001b[0m \u001b[38;5;28mself\u001b[39m\u001b[38;5;241m.\u001b[39mpost_lower()\n\u001b[1;32m    264\u001b[0m \u001b[38;5;28;01mreturn\u001b[39;00m entry_block_tail\n",
      "File \u001b[0;32m~/anaconda3/envs/vit/lib/python3.10/site-packages/numba-0.61.0rc1-py3.10-linux-x86_64.egg/numba/core/lowering.py:276\u001b[0m, in \u001b[0;36mBaseLower.lower_block\u001b[0;34m(self, block)\u001b[0m\n\u001b[1;32m    273\u001b[0m     defaulterrcls \u001b[38;5;241m=\u001b[39m partial(LoweringError, loc\u001b[38;5;241m=\u001b[39m\u001b[38;5;28mself\u001b[39m\u001b[38;5;241m.\u001b[39mloc)\n\u001b[1;32m    274\u001b[0m     \u001b[38;5;28;01mwith\u001b[39;00m new_error_context(\u001b[38;5;124m'\u001b[39m\u001b[38;5;124mlowering \u001b[39m\u001b[38;5;124m\"\u001b[39m\u001b[38;5;132;01m{inst}\u001b[39;00m\u001b[38;5;124m\"\u001b[39m\u001b[38;5;124m at \u001b[39m\u001b[38;5;132;01m{loc}\u001b[39;00m\u001b[38;5;124m'\u001b[39m, inst\u001b[38;5;241m=\u001b[39minst,\n\u001b[1;32m    275\u001b[0m                            loc\u001b[38;5;241m=\u001b[39m\u001b[38;5;28mself\u001b[39m\u001b[38;5;241m.\u001b[39mloc, errcls_\u001b[38;5;241m=\u001b[39mdefaulterrcls):\n\u001b[0;32m--> 276\u001b[0m         \u001b[38;5;28;43mself\u001b[39;49m\u001b[38;5;241;43m.\u001b[39;49m\u001b[43mlower_inst\u001b[49m\u001b[43m(\u001b[49m\u001b[43minst\u001b[49m\u001b[43m)\u001b[49m\n\u001b[1;32m    277\u001b[0m \u001b[38;5;28mself\u001b[39m\u001b[38;5;241m.\u001b[39mpost_block(block)\n",
      "File \u001b[0;32m~/anaconda3/envs/vit/lib/python3.10/site-packages/numba-0.61.0rc1-py3.10-linux-x86_64.egg/numba/parfors/parfor_lowering.py:52\u001b[0m, in \u001b[0;36mParforLower.lower_inst\u001b[0;34m(self, inst)\u001b[0m\n\u001b[1;32m     50\u001b[0m \u001b[38;5;28;01mdef\u001b[39;00m \u001b[38;5;21mlower_inst\u001b[39m(\u001b[38;5;28mself\u001b[39m, inst):\n\u001b[1;32m     51\u001b[0m     \u001b[38;5;28;01mif\u001b[39;00m \u001b[38;5;28misinstance\u001b[39m(inst, parfor\u001b[38;5;241m.\u001b[39mParfor):\n\u001b[0;32m---> 52\u001b[0m         \u001b[43m_lower_parfor_parallel\u001b[49m\u001b[43m(\u001b[49m\u001b[38;5;28;43mself\u001b[39;49m\u001b[43m,\u001b[49m\u001b[43m \u001b[49m\u001b[43minst\u001b[49m\u001b[43m)\u001b[49m\n\u001b[1;32m     53\u001b[0m     \u001b[38;5;28;01melse\u001b[39;00m:\n\u001b[1;32m     54\u001b[0m         \u001b[38;5;28msuper\u001b[39m()\u001b[38;5;241m.\u001b[39mlower_inst(inst)\n",
      "File \u001b[0;32m~/anaconda3/envs/vit/lib/python3.10/site-packages/numba-0.61.0rc1-py3.10-linux-x86_64.egg/numba/parfors/parfor_lowering.py:68\u001b[0m, in \u001b[0;36m_lower_parfor_parallel\u001b[0;34m(lowerer, parfor)\u001b[0m\n\u001b[1;32m     66\u001b[0m \u001b[38;5;28;01mdef\u001b[39;00m \u001b[38;5;21m_lower_parfor_parallel\u001b[39m(lowerer, parfor):\n\u001b[1;32m     67\u001b[0m     \u001b[38;5;28;01mif\u001b[39;00m parfor\u001b[38;5;241m.\u001b[39mlowerer \u001b[38;5;129;01mis\u001b[39;00m \u001b[38;5;28;01mNone\u001b[39;00m:\n\u001b[0;32m---> 68\u001b[0m         \u001b[38;5;28;01mreturn\u001b[39;00m \u001b[43m_lower_parfor_parallel_std\u001b[49m\u001b[43m(\u001b[49m\u001b[43mlowerer\u001b[49m\u001b[43m,\u001b[49m\u001b[43m \u001b[49m\u001b[43mparfor\u001b[49m\u001b[43m)\u001b[49m\n\u001b[1;32m     69\u001b[0m     \u001b[38;5;28;01melse\u001b[39;00m:\n\u001b[1;32m     70\u001b[0m         \u001b[38;5;28;01mreturn\u001b[39;00m parfor\u001b[38;5;241m.\u001b[39mlowerer(lowerer, parfor)\n",
      "File \u001b[0;32m~/anaconda3/envs/vit/lib/python3.10/site-packages/numba-0.61.0rc1-py3.10-linux-x86_64.egg/numba/parfors/parfor_lowering.py:350\u001b[0m, in \u001b[0;36m_lower_parfor_parallel_std\u001b[0;34m(lowerer, parfor)\u001b[0m\n\u001b[1;32m    344\u001b[0m numba\u001b[38;5;241m.\u001b[39mparfors\u001b[38;5;241m.\u001b[39mparfor\u001b[38;5;241m.\u001b[39msequential_parfor_lowering \u001b[38;5;241m=\u001b[39m \u001b[38;5;28;01mTrue\u001b[39;00m\n\u001b[1;32m    345\u001b[0m \u001b[38;5;28;01mtry\u001b[39;00m:\n\u001b[1;32m    346\u001b[0m     (func,\n\u001b[1;32m    347\u001b[0m      func_args,\n\u001b[1;32m    348\u001b[0m      func_sig,\n\u001b[1;32m    349\u001b[0m      func_arg_types,\n\u001b[0;32m--> 350\u001b[0m      exp_name_to_tuple_var) \u001b[38;5;241m=\u001b[39m \u001b[43m_create_gufunc_for_parfor_body\u001b[49m\u001b[43m(\u001b[49m\n\u001b[1;32m    351\u001b[0m \u001b[43m        \u001b[49m\u001b[43mlowerer\u001b[49m\u001b[43m,\u001b[49m\u001b[43m \u001b[49m\u001b[43mparfor\u001b[49m\u001b[43m,\u001b[49m\u001b[43m \u001b[49m\u001b[43mtypemap\u001b[49m\u001b[43m,\u001b[49m\u001b[43m \u001b[49m\u001b[43mtypingctx\u001b[49m\u001b[43m,\u001b[49m\u001b[43m \u001b[49m\u001b[43mtargetctx\u001b[49m\u001b[43m,\u001b[49m\u001b[43m \u001b[49m\u001b[43mflags\u001b[49m\u001b[43m,\u001b[49m\u001b[43m \u001b[49m\u001b[43m{\u001b[49m\u001b[43m}\u001b[49m\u001b[43m,\u001b[49m\n\u001b[1;32m    352\u001b[0m \u001b[43m        \u001b[49m\u001b[38;5;28;43mbool\u001b[39;49m\u001b[43m(\u001b[49m\u001b[43malias_map\u001b[49m\u001b[43m)\u001b[49m\u001b[43m,\u001b[49m\u001b[43m \u001b[49m\u001b[43mindex_var_typ\u001b[49m\u001b[43m,\u001b[49m\u001b[43m \u001b[49m\u001b[43mparfor\u001b[49m\u001b[38;5;241;43m.\u001b[39;49m\u001b[43mraces\u001b[49m\u001b[43m)\u001b[49m\n\u001b[1;32m    353\u001b[0m \u001b[38;5;28;01mfinally\u001b[39;00m:\n\u001b[1;32m    354\u001b[0m     numba\u001b[38;5;241m.\u001b[39mparfors\u001b[38;5;241m.\u001b[39mparfor\u001b[38;5;241m.\u001b[39msequential_parfor_lowering \u001b[38;5;241m=\u001b[39m \u001b[38;5;28;01mFalse\u001b[39;00m\n",
      "File \u001b[0;32m~/anaconda3/envs/vit/lib/python3.10/site-packages/numba-0.61.0rc1-py3.10-linux-x86_64.egg/numba/parfors/parfor_lowering.py:1609\u001b[0m, in \u001b[0;36m_create_gufunc_for_parfor_body\u001b[0;34m(lowerer, parfor, typemap, typingctx, targetctx, flags, locals, has_aliases, index_var_typ, races)\u001b[0m\n\u001b[1;32m   1606\u001b[0m         pm\u001b[38;5;241m.\u001b[39mfinalize()\n\u001b[1;32m   1607\u001b[0m         \u001b[38;5;28;01mreturn\u001b[39;00m [pm]\n\u001b[0;32m-> 1609\u001b[0m kernel_func \u001b[38;5;241m=\u001b[39m \u001b[43mcompiler\u001b[49m\u001b[38;5;241;43m.\u001b[39;49m\u001b[43mcompile_ir\u001b[49m\u001b[43m(\u001b[49m\n\u001b[1;32m   1610\u001b[0m \u001b[43m    \u001b[49m\u001b[43mtypingctx\u001b[49m\u001b[43m,\u001b[49m\n\u001b[1;32m   1611\u001b[0m \u001b[43m    \u001b[49m\u001b[43mtargetctx\u001b[49m\u001b[43m,\u001b[49m\n\u001b[1;32m   1612\u001b[0m \u001b[43m    \u001b[49m\u001b[43mgufunc_ir\u001b[49m\u001b[43m,\u001b[49m\n\u001b[1;32m   1613\u001b[0m \u001b[43m    \u001b[49m\u001b[43mgufunc_param_types\u001b[49m\u001b[43m,\u001b[49m\n\u001b[1;32m   1614\u001b[0m \u001b[43m    \u001b[49m\u001b[43mtypes\u001b[49m\u001b[38;5;241;43m.\u001b[39;49m\u001b[43mnone\u001b[49m\u001b[43m,\u001b[49m\n\u001b[1;32m   1615\u001b[0m \u001b[43m    \u001b[49m\u001b[43mflags\u001b[49m\u001b[43m,\u001b[49m\n\u001b[1;32m   1616\u001b[0m \u001b[43m    \u001b[49m\u001b[38;5;28;43mlocals\u001b[39;49m\u001b[43m,\u001b[49m\n\u001b[1;32m   1617\u001b[0m \u001b[43m    \u001b[49m\u001b[43mpipeline_class\u001b[49m\u001b[38;5;241;43m=\u001b[39;49m\u001b[43mParforGufuncCompiler\u001b[49m\u001b[43m)\u001b[49m\n\u001b[1;32m   1619\u001b[0m flags\u001b[38;5;241m.\u001b[39mnoalias \u001b[38;5;241m=\u001b[39m old_alias\n\u001b[1;32m   1621\u001b[0m kernel_sig \u001b[38;5;241m=\u001b[39m signature(types\u001b[38;5;241m.\u001b[39mnone, \u001b[38;5;241m*\u001b[39mgufunc_param_types)\n",
      "File \u001b[0;32m~/anaconda3/envs/vit/lib/python3.10/site-packages/numba-0.61.0rc1-py3.10-linux-x86_64.egg/numba/core/compiler.py:802\u001b[0m, in \u001b[0;36mcompile_ir\u001b[0;34m(typingctx, targetctx, func_ir, args, return_type, flags, locals, lifted, lifted_from, is_lifted_loop, library, pipeline_class)\u001b[0m\n\u001b[1;32m    799\u001b[0m \u001b[38;5;28;01melse\u001b[39;00m:\n\u001b[1;32m    800\u001b[0m     pipeline \u001b[38;5;241m=\u001b[39m pipeline_class(typingctx, targetctx, library,\n\u001b[1;32m    801\u001b[0m                               args, return_type, flags, \u001b[38;5;28mlocals\u001b[39m)\n\u001b[0;32m--> 802\u001b[0m     \u001b[38;5;28;01mreturn\u001b[39;00m \u001b[43mpipeline\u001b[49m\u001b[38;5;241;43m.\u001b[39;49m\u001b[43mcompile_ir\u001b[49m\u001b[43m(\u001b[49m\u001b[43mfunc_ir\u001b[49m\u001b[38;5;241;43m=\u001b[39;49m\u001b[43mfunc_ir\u001b[49m\u001b[43m,\u001b[49m\u001b[43m \u001b[49m\u001b[43mlifted\u001b[49m\u001b[38;5;241;43m=\u001b[39;49m\u001b[43mlifted\u001b[49m\u001b[43m,\u001b[49m\n\u001b[1;32m    803\u001b[0m \u001b[43m                               \u001b[49m\u001b[43mlifted_from\u001b[49m\u001b[38;5;241;43m=\u001b[39;49m\u001b[43mlifted_from\u001b[49m\u001b[43m)\u001b[49m\n",
      "File \u001b[0;32m~/anaconda3/envs/vit/lib/python3.10/site-packages/numba-0.61.0rc1-py3.10-linux-x86_64.egg/numba/core/compiler.py:449\u001b[0m, in \u001b[0;36mCompilerBase.compile_ir\u001b[0;34m(self, func_ir, lifted, lifted_from)\u001b[0m\n\u001b[1;32m    446\u001b[0m \u001b[38;5;28mself\u001b[39m\u001b[38;5;241m.\u001b[39mstate\u001b[38;5;241m.\u001b[39mnargs \u001b[38;5;241m=\u001b[39m \u001b[38;5;28mself\u001b[39m\u001b[38;5;241m.\u001b[39mstate\u001b[38;5;241m.\u001b[39mfunc_ir\u001b[38;5;241m.\u001b[39marg_count\n\u001b[1;32m    448\u001b[0m FixupArgs()\u001b[38;5;241m.\u001b[39mrun_pass(\u001b[38;5;28mself\u001b[39m\u001b[38;5;241m.\u001b[39mstate)\n\u001b[0;32m--> 449\u001b[0m \u001b[38;5;28;01mreturn\u001b[39;00m \u001b[38;5;28;43mself\u001b[39;49m\u001b[38;5;241;43m.\u001b[39;49m\u001b[43m_compile_ir\u001b[49m\u001b[43m(\u001b[49m\u001b[43m)\u001b[49m\n",
      "File \u001b[0;32m~/anaconda3/envs/vit/lib/python3.10/site-packages/numba-0.61.0rc1-py3.10-linux-x86_64.egg/numba/core/compiler.py:512\u001b[0m, in \u001b[0;36mCompilerBase._compile_ir\u001b[0;34m(self)\u001b[0m\n\u001b[1;32m    508\u001b[0m \u001b[38;5;250m\u001b[39m\u001b[38;5;124;03m\"\"\"\u001b[39;00m\n\u001b[1;32m    509\u001b[0m \u001b[38;5;124;03mPopulate and run pipeline for IR input\u001b[39;00m\n\u001b[1;32m    510\u001b[0m \u001b[38;5;124;03m\"\"\"\u001b[39;00m\n\u001b[1;32m    511\u001b[0m \u001b[38;5;28;01massert\u001b[39;00m \u001b[38;5;28mself\u001b[39m\u001b[38;5;241m.\u001b[39mstate\u001b[38;5;241m.\u001b[39mfunc_ir \u001b[38;5;129;01mis\u001b[39;00m \u001b[38;5;129;01mnot\u001b[39;00m \u001b[38;5;28;01mNone\u001b[39;00m\n\u001b[0;32m--> 512\u001b[0m \u001b[38;5;28;01mreturn\u001b[39;00m \u001b[38;5;28;43mself\u001b[39;49m\u001b[38;5;241;43m.\u001b[39;49m\u001b[43m_compile_core\u001b[49m\u001b[43m(\u001b[49m\u001b[43m)\u001b[49m\n",
      "File \u001b[0;32m~/anaconda3/envs/vit/lib/python3.10/site-packages/numba-0.61.0rc1-py3.10-linux-x86_64.egg/numba/core/compiler.py:473\u001b[0m, in \u001b[0;36mCompilerBase._compile_core\u001b[0;34m(self)\u001b[0m\n\u001b[1;32m    471\u001b[0m res \u001b[38;5;241m=\u001b[39m \u001b[38;5;28;01mNone\u001b[39;00m\n\u001b[1;32m    472\u001b[0m \u001b[38;5;28;01mtry\u001b[39;00m:\n\u001b[0;32m--> 473\u001b[0m     \u001b[43mpm\u001b[49m\u001b[38;5;241;43m.\u001b[39;49m\u001b[43mrun\u001b[49m\u001b[43m(\u001b[49m\u001b[38;5;28;43mself\u001b[39;49m\u001b[38;5;241;43m.\u001b[39;49m\u001b[43mstate\u001b[49m\u001b[43m)\u001b[49m\n\u001b[1;32m    474\u001b[0m     \u001b[38;5;28;01mif\u001b[39;00m \u001b[38;5;28mself\u001b[39m\u001b[38;5;241m.\u001b[39mstate\u001b[38;5;241m.\u001b[39mcr \u001b[38;5;129;01mis\u001b[39;00m \u001b[38;5;129;01mnot\u001b[39;00m \u001b[38;5;28;01mNone\u001b[39;00m:\n\u001b[1;32m    475\u001b[0m         \u001b[38;5;28;01mbreak\u001b[39;00m\n",
      "File \u001b[0;32m~/anaconda3/envs/vit/lib/python3.10/site-packages/numba-0.61.0rc1-py3.10-linux-x86_64.egg/numba/core/compiler_machinery.py:356\u001b[0m, in \u001b[0;36mPassManager.run\u001b[0;34m(self, state)\u001b[0m\n\u001b[1;32m    354\u001b[0m pass_inst \u001b[38;5;241m=\u001b[39m _pass_registry\u001b[38;5;241m.\u001b[39mget(pss)\u001b[38;5;241m.\u001b[39mpass_inst\n\u001b[1;32m    355\u001b[0m \u001b[38;5;28;01mif\u001b[39;00m \u001b[38;5;28misinstance\u001b[39m(pass_inst, CompilerPass):\n\u001b[0;32m--> 356\u001b[0m     \u001b[38;5;28;43mself\u001b[39;49m\u001b[38;5;241;43m.\u001b[39;49m\u001b[43m_runPass\u001b[49m\u001b[43m(\u001b[49m\u001b[43midx\u001b[49m\u001b[43m,\u001b[49m\u001b[43m \u001b[49m\u001b[43mpass_inst\u001b[49m\u001b[43m,\u001b[49m\u001b[43m \u001b[49m\u001b[43mstate\u001b[49m\u001b[43m)\u001b[49m\n\u001b[1;32m    357\u001b[0m \u001b[38;5;28;01melse\u001b[39;00m:\n\u001b[1;32m    358\u001b[0m     \u001b[38;5;28;01mraise\u001b[39;00m \u001b[38;5;167;01mBaseException\u001b[39;00m(\u001b[38;5;124m\"\u001b[39m\u001b[38;5;124mLegacy pass in use\u001b[39m\u001b[38;5;124m\"\u001b[39m)\n",
      "File \u001b[0;32m~/anaconda3/envs/vit/lib/python3.10/site-packages/numba-0.61.0rc1-py3.10-linux-x86_64.egg/numba/core/compiler_lock.py:35\u001b[0m, in \u001b[0;36m_CompilerLock.__call__.<locals>._acquire_compile_lock\u001b[0;34m(*args, **kwargs)\u001b[0m\n\u001b[1;32m     32\u001b[0m \u001b[38;5;129m@functools\u001b[39m\u001b[38;5;241m.\u001b[39mwraps(func)\n\u001b[1;32m     33\u001b[0m \u001b[38;5;28;01mdef\u001b[39;00m \u001b[38;5;21m_acquire_compile_lock\u001b[39m(\u001b[38;5;241m*\u001b[39margs, \u001b[38;5;241m*\u001b[39m\u001b[38;5;241m*\u001b[39mkwargs):\n\u001b[1;32m     34\u001b[0m     \u001b[38;5;28;01mwith\u001b[39;00m \u001b[38;5;28mself\u001b[39m:\n\u001b[0;32m---> 35\u001b[0m         \u001b[38;5;28;01mreturn\u001b[39;00m \u001b[43mfunc\u001b[49m\u001b[43m(\u001b[49m\u001b[38;5;241;43m*\u001b[39;49m\u001b[43margs\u001b[49m\u001b[43m,\u001b[49m\u001b[43m \u001b[49m\u001b[38;5;241;43m*\u001b[39;49m\u001b[38;5;241;43m*\u001b[39;49m\u001b[43mkwargs\u001b[49m\u001b[43m)\u001b[49m\n",
      "File \u001b[0;32m~/anaconda3/envs/vit/lib/python3.10/site-packages/numba-0.61.0rc1-py3.10-linux-x86_64.egg/numba/core/compiler_machinery.py:311\u001b[0m, in \u001b[0;36mPassManager._runPass\u001b[0;34m(self, index, pss, internal_state)\u001b[0m\n\u001b[1;32m    309\u001b[0m     mutated \u001b[38;5;241m|\u001b[39m\u001b[38;5;241m=\u001b[39m check(pss\u001b[38;5;241m.\u001b[39mrun_initialization, internal_state)\n\u001b[1;32m    310\u001b[0m \u001b[38;5;28;01mwith\u001b[39;00m SimpleTimer() \u001b[38;5;28;01mas\u001b[39;00m pass_time:\n\u001b[0;32m--> 311\u001b[0m     mutated \u001b[38;5;241m|\u001b[39m\u001b[38;5;241m=\u001b[39m \u001b[43mcheck\u001b[49m\u001b[43m(\u001b[49m\u001b[43mpss\u001b[49m\u001b[38;5;241;43m.\u001b[39;49m\u001b[43mrun_pass\u001b[49m\u001b[43m,\u001b[49m\u001b[43m \u001b[49m\u001b[43minternal_state\u001b[49m\u001b[43m)\u001b[49m\n\u001b[1;32m    312\u001b[0m \u001b[38;5;28;01mwith\u001b[39;00m SimpleTimer() \u001b[38;5;28;01mas\u001b[39;00m finalize_time:\n\u001b[1;32m    313\u001b[0m     mutated \u001b[38;5;241m|\u001b[39m\u001b[38;5;241m=\u001b[39m check(pss\u001b[38;5;241m.\u001b[39mrun_finalizer, internal_state)\n",
      "File \u001b[0;32m~/anaconda3/envs/vit/lib/python3.10/site-packages/numba-0.61.0rc1-py3.10-linux-x86_64.egg/numba/core/compiler_machinery.py:272\u001b[0m, in \u001b[0;36mPassManager._runPass.<locals>.check\u001b[0;34m(func, compiler_state)\u001b[0m\n\u001b[1;32m    271\u001b[0m \u001b[38;5;28;01mdef\u001b[39;00m \u001b[38;5;21mcheck\u001b[39m(func, compiler_state):\n\u001b[0;32m--> 272\u001b[0m     mangled \u001b[38;5;241m=\u001b[39m \u001b[43mfunc\u001b[49m\u001b[43m(\u001b[49m\u001b[43mcompiler_state\u001b[49m\u001b[43m)\u001b[49m\n\u001b[1;32m    273\u001b[0m     \u001b[38;5;28;01mif\u001b[39;00m mangled \u001b[38;5;129;01mnot\u001b[39;00m \u001b[38;5;129;01min\u001b[39;00m (\u001b[38;5;28;01mTrue\u001b[39;00m, \u001b[38;5;28;01mFalse\u001b[39;00m):\n\u001b[1;32m    274\u001b[0m         msg \u001b[38;5;241m=\u001b[39m (\u001b[38;5;124m\"\u001b[39m\u001b[38;5;124mCompilerPass implementations should return True/False. \u001b[39m\u001b[38;5;124m\"\u001b[39m\n\u001b[1;32m    275\u001b[0m                \u001b[38;5;124m\"\u001b[39m\u001b[38;5;124mCompilerPass with name \u001b[39m\u001b[38;5;124m'\u001b[39m\u001b[38;5;132;01m%s\u001b[39;00m\u001b[38;5;124m'\u001b[39m\u001b[38;5;124m did not.\u001b[39m\u001b[38;5;124m\"\u001b[39m)\n",
      "File \u001b[0;32m~/anaconda3/envs/vit/lib/python3.10/site-packages/numba-0.61.0rc1-py3.10-linux-x86_64.egg/numba/core/typed_passes.py:112\u001b[0m, in \u001b[0;36mBaseTypeInference.run_pass\u001b[0;34m(self, state)\u001b[0m\n\u001b[1;32m    106\u001b[0m \u001b[38;5;250m\u001b[39m\u001b[38;5;124;03m\"\"\"\u001b[39;00m\n\u001b[1;32m    107\u001b[0m \u001b[38;5;124;03mType inference and legalization\u001b[39;00m\n\u001b[1;32m    108\u001b[0m \u001b[38;5;124;03m\"\"\"\u001b[39;00m\n\u001b[1;32m    109\u001b[0m \u001b[38;5;28;01mwith\u001b[39;00m fallback_context(state, \u001b[38;5;124m'\u001b[39m\u001b[38;5;124mFunction \u001b[39m\u001b[38;5;124m\"\u001b[39m\u001b[38;5;132;01m%s\u001b[39;00m\u001b[38;5;124m\"\u001b[39m\u001b[38;5;124m failed type inference\u001b[39m\u001b[38;5;124m'\u001b[39m\n\u001b[1;32m    110\u001b[0m                       \u001b[38;5;241m%\u001b[39m (state\u001b[38;5;241m.\u001b[39mfunc_id\u001b[38;5;241m.\u001b[39mfunc_name,)):\n\u001b[1;32m    111\u001b[0m     \u001b[38;5;66;03m# Type inference\u001b[39;00m\n\u001b[0;32m--> 112\u001b[0m     typemap, return_type, calltypes, errs \u001b[38;5;241m=\u001b[39m \u001b[43mtype_inference_stage\u001b[49m\u001b[43m(\u001b[49m\n\u001b[1;32m    113\u001b[0m \u001b[43m        \u001b[49m\u001b[43mstate\u001b[49m\u001b[38;5;241;43m.\u001b[39;49m\u001b[43mtypingctx\u001b[49m\u001b[43m,\u001b[49m\n\u001b[1;32m    114\u001b[0m \u001b[43m        \u001b[49m\u001b[43mstate\u001b[49m\u001b[38;5;241;43m.\u001b[39;49m\u001b[43mtargetctx\u001b[49m\u001b[43m,\u001b[49m\n\u001b[1;32m    115\u001b[0m \u001b[43m        \u001b[49m\u001b[43mstate\u001b[49m\u001b[38;5;241;43m.\u001b[39;49m\u001b[43mfunc_ir\u001b[49m\u001b[43m,\u001b[49m\n\u001b[1;32m    116\u001b[0m \u001b[43m        \u001b[49m\u001b[43mstate\u001b[49m\u001b[38;5;241;43m.\u001b[39;49m\u001b[43margs\u001b[49m\u001b[43m,\u001b[49m\n\u001b[1;32m    117\u001b[0m \u001b[43m        \u001b[49m\u001b[43mstate\u001b[49m\u001b[38;5;241;43m.\u001b[39;49m\u001b[43mreturn_type\u001b[49m\u001b[43m,\u001b[49m\n\u001b[1;32m    118\u001b[0m \u001b[43m        \u001b[49m\u001b[43mstate\u001b[49m\u001b[38;5;241;43m.\u001b[39;49m\u001b[43mlocals\u001b[49m\u001b[43m,\u001b[49m\n\u001b[1;32m    119\u001b[0m \u001b[43m        \u001b[49m\u001b[43mraise_errors\u001b[49m\u001b[38;5;241;43m=\u001b[39;49m\u001b[38;5;28;43mself\u001b[39;49m\u001b[38;5;241;43m.\u001b[39;49m\u001b[43m_raise_errors\u001b[49m\u001b[43m)\u001b[49m\n\u001b[1;32m    120\u001b[0m     state\u001b[38;5;241m.\u001b[39mtypemap \u001b[38;5;241m=\u001b[39m typemap\n\u001b[1;32m    121\u001b[0m     \u001b[38;5;66;03m# save errors in case of partial typing\u001b[39;00m\n",
      "File \u001b[0;32m~/anaconda3/envs/vit/lib/python3.10/site-packages/numba-0.61.0rc1-py3.10-linux-x86_64.egg/numba/core/typed_passes.py:93\u001b[0m, in \u001b[0;36mtype_inference_stage\u001b[0;34m(typingctx, targetctx, interp, args, return_type, locals, raise_errors)\u001b[0m\n\u001b[1;32m     91\u001b[0m     infer\u001b[38;5;241m.\u001b[39mbuild_constraint()\n\u001b[1;32m     92\u001b[0m     \u001b[38;5;66;03m# return errors in case of partial typing\u001b[39;00m\n\u001b[0;32m---> 93\u001b[0m     errs \u001b[38;5;241m=\u001b[39m \u001b[43minfer\u001b[49m\u001b[38;5;241;43m.\u001b[39;49m\u001b[43mpropagate\u001b[49m\u001b[43m(\u001b[49m\u001b[43mraise_errors\u001b[49m\u001b[38;5;241;43m=\u001b[39;49m\u001b[43mraise_errors\u001b[49m\u001b[43m)\u001b[49m\n\u001b[1;32m     94\u001b[0m     typemap, restype, calltypes \u001b[38;5;241m=\u001b[39m infer\u001b[38;5;241m.\u001b[39munify(raise_errors\u001b[38;5;241m=\u001b[39mraise_errors)\n\u001b[1;32m     96\u001b[0m \u001b[38;5;28;01mreturn\u001b[39;00m _TypingResults(typemap, restype, calltypes, errs)\n",
      "File \u001b[0;32m~/anaconda3/envs/vit/lib/python3.10/site-packages/numba-0.61.0rc1-py3.10-linux-x86_64.egg/numba/core/typeinfer.py:1066\u001b[0m, in \u001b[0;36mTypeInferer.propagate\u001b[0;34m(self, raise_errors)\u001b[0m\n\u001b[1;32m   1063\u001b[0m oldtoken \u001b[38;5;241m=\u001b[39m newtoken\n\u001b[1;32m   1064\u001b[0m \u001b[38;5;66;03m# Errors can appear when the type set is incomplete; only\u001b[39;00m\n\u001b[1;32m   1065\u001b[0m \u001b[38;5;66;03m# raise them when there is no progress anymore.\u001b[39;00m\n\u001b[0;32m-> 1066\u001b[0m errors \u001b[38;5;241m=\u001b[39m \u001b[38;5;28;43mself\u001b[39;49m\u001b[38;5;241;43m.\u001b[39;49m\u001b[43mconstraints\u001b[49m\u001b[38;5;241;43m.\u001b[39;49m\u001b[43mpropagate\u001b[49m\u001b[43m(\u001b[49m\u001b[38;5;28;43mself\u001b[39;49m\u001b[43m)\u001b[49m\n\u001b[1;32m   1067\u001b[0m newtoken \u001b[38;5;241m=\u001b[39m \u001b[38;5;28mself\u001b[39m\u001b[38;5;241m.\u001b[39mget_state_token()\n\u001b[1;32m   1068\u001b[0m \u001b[38;5;28mself\u001b[39m\u001b[38;5;241m.\u001b[39mdebug\u001b[38;5;241m.\u001b[39mpropagate_finished()\n",
      "File \u001b[0;32m~/anaconda3/envs/vit/lib/python3.10/site-packages/numba-0.61.0rc1-py3.10-linux-x86_64.egg/numba/core/typeinfer.py:160\u001b[0m, in \u001b[0;36mConstraintNetwork.propagate\u001b[0;34m(self, typeinfer)\u001b[0m\n\u001b[1;32m    157\u001b[0m \u001b[38;5;28;01mwith\u001b[39;00m typeinfer\u001b[38;5;241m.\u001b[39mwarnings\u001b[38;5;241m.\u001b[39mcatch_warnings(filename\u001b[38;5;241m=\u001b[39mloc\u001b[38;5;241m.\u001b[39mfilename,\n\u001b[1;32m    158\u001b[0m                                        lineno\u001b[38;5;241m=\u001b[39mloc\u001b[38;5;241m.\u001b[39mline):\n\u001b[1;32m    159\u001b[0m     \u001b[38;5;28;01mtry\u001b[39;00m:\n\u001b[0;32m--> 160\u001b[0m         \u001b[43mconstraint\u001b[49m\u001b[43m(\u001b[49m\u001b[43mtypeinfer\u001b[49m\u001b[43m)\u001b[49m\n\u001b[1;32m    161\u001b[0m     \u001b[38;5;28;01mexcept\u001b[39;00m ForceLiteralArg \u001b[38;5;28;01mas\u001b[39;00m e:\n\u001b[1;32m    162\u001b[0m         errors\u001b[38;5;241m.\u001b[39mappend(e)\n",
      "File \u001b[0;32m~/anaconda3/envs/vit/lib/python3.10/site-packages/numba-0.61.0rc1-py3.10-linux-x86_64.egg/numba/core/typeinfer.py:691\u001b[0m, in \u001b[0;36mIntrinsicCallConstraint.__call__\u001b[0;34m(self, typeinfer)\u001b[0m\n\u001b[1;32m    689\u001b[0m fnty \u001b[38;5;241m=\u001b[39m \u001b[38;5;28mself\u001b[39m\u001b[38;5;241m.\u001b[39mfunc\n\u001b[1;32m    690\u001b[0m \u001b[38;5;28;01mif\u001b[39;00m fnty \u001b[38;5;129;01min\u001b[39;00m utils\u001b[38;5;241m.\u001b[39mOPERATORS_TO_BUILTINS:\n\u001b[0;32m--> 691\u001b[0m     fnty \u001b[38;5;241m=\u001b[39m \u001b[43mtypeinfer\u001b[49m\u001b[38;5;241;43m.\u001b[39;49m\u001b[43mresolve_value_type\u001b[49m\u001b[43m(\u001b[49m\u001b[38;5;28;43;01mNone\u001b[39;49;00m\u001b[43m,\u001b[49m\u001b[43m \u001b[49m\u001b[43mfnty\u001b[49m\u001b[43m)\u001b[49m\n\u001b[1;32m    692\u001b[0m \u001b[38;5;28mself\u001b[39m\u001b[38;5;241m.\u001b[39mresolve(typeinfer, typeinfer\u001b[38;5;241m.\u001b[39mtypevars, fnty\u001b[38;5;241m=\u001b[39mfnty)\n",
      "File \u001b[0;32m~/anaconda3/envs/vit/lib/python3.10/site-packages/numba-0.61.0rc1-py3.10-linux-x86_64.egg/numba/core/typeinfer.py:1482\u001b[0m, in \u001b[0;36mTypeInferer.resolve_value_type\u001b[0;34m(self, inst, val)\u001b[0m\n\u001b[1;32m   1477\u001b[0m \u001b[38;5;250m\u001b[39m\u001b[38;5;124;03m\"\"\"\u001b[39;00m\n\u001b[1;32m   1478\u001b[0m \u001b[38;5;124;03mResolve the type of a simple Python value, such as can be\u001b[39;00m\n\u001b[1;32m   1479\u001b[0m \u001b[38;5;124;03mrepresented by literals.\u001b[39;00m\n\u001b[1;32m   1480\u001b[0m \u001b[38;5;124;03m\"\"\"\u001b[39;00m\n\u001b[1;32m   1481\u001b[0m \u001b[38;5;28;01mtry\u001b[39;00m:\n\u001b[0;32m-> 1482\u001b[0m     \u001b[38;5;28;01mreturn\u001b[39;00m \u001b[38;5;28;43mself\u001b[39;49m\u001b[38;5;241;43m.\u001b[39;49m\u001b[43mcontext\u001b[49m\u001b[38;5;241;43m.\u001b[39;49m\u001b[43mresolve_value_type\u001b[49m\u001b[43m(\u001b[49m\u001b[43mval\u001b[49m\u001b[43m)\u001b[49m\n\u001b[1;32m   1483\u001b[0m \u001b[38;5;28;01mexcept\u001b[39;00m \u001b[38;5;167;01mValueError\u001b[39;00m \u001b[38;5;28;01mas\u001b[39;00m e:\n\u001b[1;32m   1484\u001b[0m     msg \u001b[38;5;241m=\u001b[39m \u001b[38;5;28mstr\u001b[39m(e)\n",
      "File \u001b[0;32m~/anaconda3/envs/vit/lib/python3.10/site-packages/numba-0.61.0rc1-py3.10-linux-x86_64.egg/numba/core/typing/context.py:360\u001b[0m, in \u001b[0;36mBaseContext.resolve_value_type\u001b[0;34m(self, val)\u001b[0m\n\u001b[1;32m    354\u001b[0m \u001b[38;5;250m\u001b[39m\u001b[38;5;124;03m\"\"\"\u001b[39;00m\n\u001b[1;32m    355\u001b[0m \u001b[38;5;124;03mReturn the numba type of a Python value that is being used\u001b[39;00m\n\u001b[1;32m    356\u001b[0m \u001b[38;5;124;03mas a runtime constant.\u001b[39;00m\n\u001b[1;32m    357\u001b[0m \u001b[38;5;124;03mValueError is raised for unsupported types.\u001b[39;00m\n\u001b[1;32m    358\u001b[0m \u001b[38;5;124;03m\"\"\"\u001b[39;00m\n\u001b[1;32m    359\u001b[0m \u001b[38;5;28;01mtry\u001b[39;00m:\n\u001b[0;32m--> 360\u001b[0m     ty \u001b[38;5;241m=\u001b[39m \u001b[43mtypeof\u001b[49m\u001b[43m(\u001b[49m\u001b[43mval\u001b[49m\u001b[43m,\u001b[49m\u001b[43m \u001b[49m\u001b[43mPurpose\u001b[49m\u001b[38;5;241;43m.\u001b[39;49m\u001b[43mconstant\u001b[49m\u001b[43m)\u001b[49m\n\u001b[1;32m    361\u001b[0m \u001b[38;5;28;01mexcept\u001b[39;00m \u001b[38;5;167;01mValueError\u001b[39;00m \u001b[38;5;28;01mas\u001b[39;00m e:\n\u001b[1;32m    362\u001b[0m     \u001b[38;5;66;03m# Make sure the exception doesn't hold a reference to the user\u001b[39;00m\n\u001b[1;32m    363\u001b[0m     \u001b[38;5;66;03m# value.\u001b[39;00m\n\u001b[1;32m    364\u001b[0m     typeof_exc \u001b[38;5;241m=\u001b[39m utils\u001b[38;5;241m.\u001b[39merase_traceback(e)\n",
      "File \u001b[0;32m~/anaconda3/envs/vit/lib/python3.10/site-packages/numba-0.61.0rc1-py3.10-linux-x86_64.egg/numba/core/typing/typeof.py:27\u001b[0m, in \u001b[0;36mtypeof\u001b[0;34m(val, purpose)\u001b[0m\n\u001b[1;32m     21\u001b[0m     constant \u001b[38;5;241m=\u001b[39m \u001b[38;5;241m2\u001b[39m\n\u001b[1;32m     24\u001b[0m _TypeofContext \u001b[38;5;241m=\u001b[39m namedtuple(\u001b[38;5;124m\"\u001b[39m\u001b[38;5;124m_TypeofContext\u001b[39m\u001b[38;5;124m\"\u001b[39m, (\u001b[38;5;124m\"\u001b[39m\u001b[38;5;124mpurpose\u001b[39m\u001b[38;5;124m\"\u001b[39m,))\n\u001b[0;32m---> 27\u001b[0m \u001b[38;5;28;01mdef\u001b[39;00m \u001b[38;5;21mtypeof\u001b[39m(val, purpose\u001b[38;5;241m=\u001b[39mPurpose\u001b[38;5;241m.\u001b[39margument):\n\u001b[1;32m     28\u001b[0m \u001b[38;5;250m    \u001b[39m\u001b[38;5;124;03m\"\"\"\u001b[39;00m\n\u001b[1;32m     29\u001b[0m \u001b[38;5;124;03m    Get the Numba type of a Python value for the given purpose.\u001b[39;00m\n\u001b[1;32m     30\u001b[0m \u001b[38;5;124;03m    \"\"\"\u001b[39;00m\n\u001b[1;32m     31\u001b[0m     \u001b[38;5;66;03m# Note the behaviour for Purpose.argument must match _typeof.c.\u001b[39;00m\n",
      "\u001b[0;31mKeyboardInterrupt\u001b[0m: "
     ]
    }
   ],
   "source": [
    "# settings for random circuit sampling\n",
    "random_samples = int(1e1)                 # how many rnd qcs we sample, here small number to speed up example\n",
    "num_of_qubits  = 9\n",
    "min_gates      = 2\n",
    "max_gates      = 20\n",
    "gate_pool      = [instruction_name_to_gate(gate) for gate in pipeline.gate_pool] \n",
    "optimized      = True                     # if qiskit optimizer is used\n",
    "\n",
    "x, y = data_const.gen_qc_dataset(samples=random_samples, num_of_qubits=num_of_qubits, min_gates=min_gates, max_gates=max_gates, \n",
    "                                gate_pool=gate_pool, optimized=optimized, silent=False)"
   ]
  },
  {
   "cell_type": "code",
   "execution_count": 10,
   "id": "9731bf85-3748-4c6d-a072-228818890069",
   "metadata": {},
   "outputs": [
    {
     "name": "stdout",
     "output_type": "stream",
     "text": [
      "tensor([1, 2, 1, 1, 1, 1, 1, 1, 2], dtype=torch.int32)\n"
     ]
    }
   ],
   "source": [
    "print(y[0])"
   ]
  },
  {
   "cell_type": "code",
   "execution_count": 11,
   "id": "854640a2-f2f8-4bbc-9e07-c099784d6af9",
   "metadata": {},
   "outputs": [
    {
     "name": "stdout",
     "output_type": "stream",
     "text": [
      "Generate SRV: [1, 2, 1, 1, 1, 1, 1, 1, 2]\n"
     ]
    }
   ],
   "source": [
    "y = np.array([f\"Generate SRV: {srv.tolist()}\" for srv in y]) # convert SRV to the trained prompt\n",
    "print(y[0])"
   ]
  },
  {
   "cell_type": "markdown",
   "id": "4baff23b-723b-425f-bf21-5d348d2fffc8",
   "metadata": {},
   "source": [
    "We get tokenized circuits with SRV:"
   ]
  },
  {
   "cell_type": "code",
   "execution_count": 12,
   "id": "f4a35005-0953-404d-bb47-c40fd31c6501",
   "metadata": {},
   "outputs": [
    {
     "name": "stdout",
     "output_type": "stream",
     "text": [
      "Example circuit with prompt: \n",
      "Generate SRV: [1, 1, 1, 1, 1, 1, 1, 1, 1] \n",
      "tensor([[ 2,  0,  0,  0,  0,  0,  0,  0,  0,  0,  0,  0,  0,  0,  0,  0,  0,  0,  0,  0],\n",
      "        [ 0,  1,  1,  0,  0,  0,  0,  0,  0,  0,  0,  0,  0,  0,  0,  0,  0,  0,  0,  0],\n",
      "        [-2,  0,  0,  0,  0,  0,  0,  0,  0,  0,  0,  0,  0,  0,  0,  0,  0,  0,  0,  0],\n",
      "        [ 0,  0,  0,  0,  1,  0,  0,  0,  0,  0,  0,  0,  0,  0,  0,  0,  0,  0,  0,  0],\n",
      "        [ 0,  0,  0,  0,  0,  0,  0,  0,  0,  0,  0,  0,  0,  0,  0,  0,  0,  0,  0,  0],\n",
      "        [ 0,  0,  0,  0,  0,  0,  0,  0,  0,  0,  0,  0,  0,  0,  0,  0,  0,  0,  0,  0],\n",
      "        [ 0,  0,  0,  0,  0,  0,  0,  0,  0,  0,  0,  0,  0,  0,  0,  0,  0,  0,  0,  0],\n",
      "        [ 0,  0,  0,  2,  0,  0,  0,  0,  0,  0,  0,  0,  0,  0,  0,  0,  0,  0,  0,  0],\n",
      "        [ 0,  0,  0, -2,  0,  0,  0,  0,  0,  0,  0,  0,  0,  0,  0,  0,  0,  0,  0,  0]], dtype=torch.int32)\n"
     ]
    }
   ],
   "source": [
    "print(f\"Example circuit with prompt: \\n{y[-1]} \\n{x[-1]}\")"
   ]
  },
  {
   "cell_type": "markdown",
   "id": "b8585979-0aff-4c78-aedc-fc6dbbef0614",
   "metadata": {},
   "source": [
    "### Create a basic dataset"
   ]
  },
  {
   "cell_type": "markdown",
   "id": "3703b7b6-771f-4073-9b6d-faa7aab9a0c4",
   "metadata": {},
   "source": [
    "Direct fine-tuning is the same as you would train a new model from scratch. First, we create a `Qc_Config_Dataset` object that handles our dataset."
   ]
  },
  {
   "cell_type": "code",
   "execution_count": 6,
   "id": "0c91ed32-5f03-4aa8-85ac-506ae2c77ef1",
   "metadata": {},
   "outputs": [
    {
     "ename": "NameError",
     "evalue": "name 'optimized' is not defined",
     "output_type": "error",
     "traceback": [
      "\u001b[0;31m---------------------------------------------------------------------------\u001b[0m",
      "\u001b[0;31mNameError\u001b[0m                                 Traceback (most recent call last)",
      "Cell \u001b[0;32mIn[6], line 4\u001b[0m\n\u001b[1;32m      2\u001b[0m paras \u001b[38;5;241m=\u001b[39m {}\n\u001b[1;32m      3\u001b[0m paras[\u001b[38;5;124m\"\u001b[39m\u001b[38;5;124mstore_dict\u001b[39m\u001b[38;5;124m\"\u001b[39m]     \u001b[38;5;241m=\u001b[39m {\u001b[38;5;124m'\u001b[39m\u001b[38;5;124mx\u001b[39m\u001b[38;5;124m'\u001b[39m:\u001b[38;5;124m'\u001b[39m\u001b[38;5;124mtensor\u001b[39m\u001b[38;5;124m'\u001b[39m, \u001b[38;5;124m'\u001b[39m\u001b[38;5;124my\u001b[39m\u001b[38;5;124m'\u001b[39m:\u001b[38;5;124m'\u001b[39m\u001b[38;5;124mnumpy\u001b[39m\u001b[38;5;124m'\u001b[39m}   \u001b[38;5;66;03m#what is in the datset, with type\u001b[39;00m\n\u001b[0;32m----> 4\u001b[0m paras[\u001b[38;5;124m\"\u001b[39m\u001b[38;5;124moptimized\u001b[39m\u001b[38;5;124m\"\u001b[39m]      \u001b[38;5;241m=\u001b[39m \u001b[43moptimized\u001b[49m    \n\u001b[1;32m      5\u001b[0m paras[\u001b[38;5;124m\"\u001b[39m\u001b[38;5;124mdataset_to_gpu\u001b[39m\u001b[38;5;124m\"\u001b[39m] \u001b[38;5;241m=\u001b[39m \u001b[38;5;28;01mTrue\u001b[39;00m \u001b[38;5;28;01mif\u001b[39;00m device\u001b[38;5;241m==\u001b[39m\u001b[38;5;124m\"\u001b[39m\u001b[38;5;124mcuda\u001b[39m\u001b[38;5;124m\"\u001b[39m \u001b[38;5;28;01melse\u001b[39;00m \u001b[38;5;28;01mFalse\u001b[39;00m\n\u001b[1;32m      6\u001b[0m paras[\u001b[38;5;124m\"\u001b[39m\u001b[38;5;124mrandom_samples\u001b[39m\u001b[38;5;124m\"\u001b[39m] \u001b[38;5;241m=\u001b[39m random_samples\n",
      "\u001b[0;31mNameError\u001b[0m: name 'optimized' is not defined"
     ]
    }
   ],
   "source": [
    "# meta-data of dataset\n",
    "paras = {}\n",
    "paras[\"store_dict\"]     = {'x':'tensor', 'y':'numpy'}   #what is in the datset, with type\n",
    "paras[\"optimized\"]      = optimized    \n",
    "paras[\"dataset_to_gpu\"] = True if device==\"cuda\" else False\n",
    "paras[\"random_samples\"] = random_samples\n",
    "paras[\"num_of_qubits\"]  = num_of_qubits\n",
    "paras[\"min_gates\"]      = min_gates\n",
    "paras[\"max_gates\"]      = max_gates\n",
    "paras[\"gate_pool\"]      = pipeline.gate_pool"
   ]
  },
  {
   "cell_type": "markdown",
   "id": "3e10ab8f-6908-4953-80b3-94791527030a",
   "metadata": {},
   "source": [
    "Make sure our dataset has no duplicates and shuffle it:"
   ]
  },
  {
   "cell_type": "code",
   "execution_count": 14,
   "id": "9d506816-cbe0-4c6b-ba82-03f07f9a22c9",
   "metadata": {},
   "outputs": [],
   "source": [
    "x, y = dahe.uniquify_tensor_dataset(x, y)\n",
    "assert x.shape[0] == x.unique(dim=0).shape[0]    # check if no duplicates\n",
    "\n",
    "x, y = dahe.shuffle_tensor_dataset(x, y)"
   ]
  },
  {
   "cell_type": "markdown",
   "id": "9b213646-4340-4135-979a-592c58b0a102",
   "metadata": {},
   "source": [
    "Now create the `Qc_Config_Dataset` object:"
   ]
  },
  {
   "cell_type": "code",
   "execution_count": 19,
   "id": "d787dc71-1450-4489-adf0-ae5edf7e27b0",
   "metadata": {},
   "outputs": [
    {
     "name": "stderr",
     "output_type": "stream",
     "text": [
      "DEBUG:Circuit:Initial Quantum Circuit None with 9 qubits.\n"
     ]
    },
    {
     "name": "stdout",
     "output_type": "stream",
     "text": [
      "Label: ``Generate SRV: [1, 1, 1, 1, 1, 1, 1, 1, 1]``    SRV is: [1, 1, 1, 1, 1, 1, 1, 1, 1]\n"
     ]
    },
    {
     "data": {
      "text/plain": [
       "<Figure size 2699.44x1122.78 with 1 Axes>"
      ]
     },
     "metadata": {},
     "output_type": "display_data"
    },
    {
     "data": {
      "text/plain": [
       "None"
      ]
     },
     "metadata": {},
     "output_type": "display_data"
    }
   ],
   "source": [
    "qc_Config_Dataset = Qc_Config_Dataset(store_device=device, **paras)\n",
    "qc_Config_Dataset.x = x\n",
    "qc_Config_Dataset.y = y\n",
    "qc_Config_Dataset.dataset_to_gpu = True if device.type==\"cuda\" else False \n",
    "qc_Config_Dataset.plot_example()"
   ]
  },
  {
   "cell_type": "markdown",
   "id": "d426a6e6-3812-4d1b-a83f-ed936bd1ae1a",
   "metadata": {},
   "source": [
    "If you want to save the dataset to disk, you could use:\n",
    "\n",
    "```python\n",
    "config_path = \"YOUR_CONFIG_FILE\"  \n",
    "save_path   = \"YOUR_SAVE_PATH\"    \n",
    "qc_Config_Dataset.save_dataset(config_path, save_path)\n",
    "```\n",
    "where `config_path` file-path to the meta-data file, e.g. `\"../../configs/dataset/qc_9bit_fine_tune.yaml`\n",
    "\n",
    "and `save_path` file-path prefix where the raw dataset files are stored, e.g. `\"../../datasets/q-circuits/qc_9bit_fine_tune\"`."
   ]
  },
  {
   "cell_type": "markdown",
   "id": "f5ec742f-cd84-4b3e-972d-6dd89e25ce9d",
   "metadata": {},
   "source": [
    "A saved dataset can be loaded with:\n",
    "```python\n",
    "qc_Config_Dataset = Qc_Config_Dataset.from_config_file(config_path, device=device) \n",
    "```"
   ]
  },
  {
   "cell_type": "markdown",
   "id": "9ab7e8c2-2512-4edb-a3f2-9ac96b13f2aa",
   "metadata": {},
   "source": [
    "### Create a cached (mixed) dataset"
   ]
  },
  {
   "cell_type": "markdown",
   "id": "bcac06b4-abfa-4b1a-bf71-f50d21dde653",
   "metadata": {},
   "source": [
    "To speed up training we can cache the CLIP embeddings of the `y` dataset labels before we start fitting. We provide the `Cached_OpenClip_Dataset` object for this. Here we use a further extension, the `Mixed_Cached_OpenClip_Dataset`. It has advanced methods to handle padding and combining different task (e.g. compile and SRV) or different number of qubit datasets together (as explained in the appendix of the paper). We use it here to automatically cut and pad our 9 qubit circuits to the longest circuit within one batch."
   ]
  },
  {
   "cell_type": "markdown",
   "id": "dedacaf3-fee4-437e-8d4c-6f976ebe1542",
   "metadata": {},
   "source": [
    "See if the pipeline has already a padding token specified, else define one."
   ]
  },
  {
   "cell_type": "code",
   "execution_count": null,
   "id": "05c1cc09-8a9e-465d-be52-841ea400348b",
   "metadata": {},
   "outputs": [],
   "source": [
    "try:    pad_constant = pipeline.params_config(\"\")[\"add_config\"][\"dataset\"][\"params\"][\"pad_constant\"]  #can NOT be 0 (empty token)! and not any other gate!\n",
    "except: pad_constant = len(qc_Config_Dataset.gate_pool)+1\n",
    "    \n",
    "print(f\"{pad_constant=}\")"
   ]
  },
  {
   "cell_type": "code",
   "execution_count": null,
   "id": "6102f426-51a7-4989-badd-2805596d4767",
   "metadata": {},
   "outputs": [],
   "source": [
    "dataset_list = [qc_Config_Dataset]                  # what datasets to combine\n",
    "\n",
    "parameters   = asdict(qc_Config_Dataset.params_config)\n",
    "parameters[\"num_down_scales\"] = 3                   # defined by the down-scale layers of the UNet\n",
    "\n",
    "mixed_dataset = Mixed_Cached_OpenClip_Dataset.from_datasets(dataset_list,                 \n",
    "                 balance_maxes=[1e8],          # what the maximum prompt (y) balance limit is, can be used to balance SRVs for different qubit numbers                                      \n",
    "                 pad_constant=pad_constant,\n",
    "                 device=device, \n",
    "                 bucket_batch_size=-1,         # if we use bucket padding\n",
    "                 max_samples=[1e8],            # if we want to limit the sizes of the dataset_list \n",
    "                 **parameters)"
   ]
  },
  {
   "cell_type": "markdown",
   "id": "5e8ad51c-a2ec-44a6-b30e-3233738e2074",
   "metadata": {},
   "source": [
    "Let's see what we are training on:"
   ]
  },
  {
   "cell_type": "code",
   "execution_count": null,
   "id": "8c63d097-98cd-4c08-819c-814bd090b81c",
   "metadata": {},
   "outputs": [],
   "source": [
    "fig, axs = plt.subplots(1, 2, figsize=(12, 3.6), squeeze=False, constrained_layout=True)  \n",
    "plt.sca(axs[0, 0])\n",
    "plt.xlabel(r\"$s$\")\n",
    "plt.title(\"Dist of space\")\n",
    "min_q, max_q = min(d.num_of_qubits for d in dataset_list), max(d.num_of_qubits for d in dataset_list)\n",
    "data = mixed_dataset.z[:, 0].cpu() \n",
    "plt.hist(data, bins=np.arange(min_q, max_q+2) - 0.5, rwidth=0.9)\n",
    "\n",
    "plt.sca(axs[0, 1])\n",
    "plt.xlabel(r\"$t$\")\n",
    "plt.title(\"Dist of time\")\n",
    "min_g, max_g = min(d.min_gates for d in dataset_list), max(d.max_gates for d in dataset_list)\n",
    "data = mixed_dataset.z[:, 1].cpu()\n",
    "plt.hist(data, bins=np.arange(min_g, max_g+2) - 0.5, rwidth=0.9)\n",
    "\n",
    "plt.show()"
   ]
  },
  {
   "cell_type": "markdown",
   "id": "0cda8408-1aa7-49a4-8628-0dfc8cf35b1d",
   "metadata": {},
   "source": [
    "Finally, we can create the dataloader used by the `DiffusionPipeline.fit()` funtion. This also caches all our prompts."
   ]
  },
  {
   "cell_type": "code",
   "execution_count": null,
   "id": "ec9b63c0-a92d-416f-994b-ea1ef6fae0c7",
   "metadata": {},
   "outputs": [],
   "source": [
    "tuned_pipeline = get_pretrained_pipeline()  # load a fresh pre-trained model we want to train\n",
    "\n",
    "dataloaders = mixed_dataset.get_dataloaders(batch_size=16, text_encoder=tuned_pipeline.text_encoder.to(device), y_on_cpu=False)  # you can set y_on_cpu=True if you run out of device mem"
   ]
  },
  {
   "cell_type": "markdown",
   "id": "63ab9562-ea8a-478b-9590-077536393041",
   "metadata": {},
   "source": [
    "## Fine-tune"
   ]
  },
  {
   "cell_type": "markdown",
   "id": "65123d1d-e8e5-4b54-9eea-f84161b149c0",
   "metadata": {},
   "source": [
    "We have the dataloader object created and can start fine-tuning. Note, we just use all the diffusion scheduler parameters from the pre-trained config we loaded. "
   ]
  },
  {
   "cell_type": "code",
   "execution_count": null,
   "id": "ddb86cfc-d632-412c-817d-69f2225a071b",
   "metadata": {},
   "outputs": [],
   "source": [
    "tuned_pipeline.add_config[\"dataset\"] = mixed_dataset.get_config()   # add meta-data of dataset to save it with pipeline\n",
    "tuned_pipeline.compile(torch.optim.Adam, nn.MSELoss)"
   ]
  },
  {
   "cell_type": "code",
   "execution_count": null,
   "id": "11fd72ce-67ea-4741-bcfb-efbd108dd351",
   "metadata": {},
   "outputs": [],
   "source": [
    "epochs = 25      # how many epochs we train on our 9bit dataset\n",
    "lr     = 5e-5    # learn rate\n",
    "\n",
    "sched = functools.partial(torch.optim.lr_scheduler.OneCycleLR, max_lr=lr, total_steps=epochs*len(dataloaders.train))\n",
    "tuned_pipeline.fit(epochs, dataloaders, lr=lr, lr_sched=sched)"
   ]
  },
  {
   "cell_type": "markdown",
   "id": "6920a9c9-0038-4d3c-a061-26cb9235a4fe",
   "metadata": {},
   "source": [
    "If you want you can save the tuned pipeline with:\n",
    "\n",
    "```python\n",
    "store_dir = f\"../../saves/fine_tuned_on_9bits/\"\n",
    "\n",
    "tuned_pipeline.store_pipeline(config_path=store_dir, save_path=store_dir)\n",
    "```\n",
    "\n",
    "and load it again with the usual:\n",
    "\n",
    "```python\n",
    "tuned_pipeline = DiffusionPipeline.from_config_file(model_path, device)  \n",
    "```"
   ]
  },
  {
   "cell_type": "markdown",
   "id": "65acff8f-8486-42c9-8e78-b44f31de568b",
   "metadata": {},
   "source": [
    "## Generate 9 qubit circuits fine-tuned"
   ]
  },
  {
   "cell_type": "markdown",
   "id": "6e2d0aa4-343d-4f78-81de-f114b0a8333e",
   "metadata": {},
   "source": [
    "Test again to create a 9 qubit SRV as we did at the start but with the tuned model:"
   ]
  },
  {
   "cell_type": "code",
   "execution_count": null,
   "id": "c6879131-3e29-4f5e-a5da-9e43d33cddcc",
   "metadata": {},
   "outputs": [],
   "source": [
    "prompt"
   ]
  },
  {
   "cell_type": "code",
   "execution_count": null,
   "id": "f1c82de5-3645-403b-a54e-5185860b0f7c",
   "metadata": {},
   "outputs": [],
   "source": [
    "g         = 10      # guidance scale\n",
    "max_gates = 16      # how many time steps the tensor encoding has\n",
    "samples   = 512     # how many circuits to generate\n",
    "\n",
    "tuned_pipeline.guidance_sample_mode = \"rescaled\"\n",
    "tuned_pipeline.scheduler.set_timesteps(20) \n",
    "\n",
    "out_tensor                   = infer_srv.generate_srv_tensors(tuned_pipeline, prompt, samples, num_of_qubits, num_of_qubits, max_gates, g, no_bar=False) \n",
    "qc_list, error_cnt, srv_list = infer_srv.convert_tensors_to_srvs(out_tensor, tuned_pipeline.gate_pool) # may take a moment, has to compute partial traces over (2^9)x(2^9) density matrices\n",
    "print(f\"Not valid error circuits: {error_cnt} out of {samples}\")"
   ]
  },
  {
   "cell_type": "code",
   "execution_count": null,
   "id": "1cf638ca-0513-4d82-8fa3-cac6deaaeb8f",
   "metadata": {},
   "outputs": [],
   "source": [
    "tuned_acc = infer_srv.get_srv_accuracy(srv_list, srv)\n",
    "print(f\"Accuracy on requested {len(srv)} qubit SRV = {srv}\")\n",
    "print(f\" - with a model trained only on 3 to 8 qubits qcs: {acc:.2f}\")\n",
    "print(f\" - and with fine-tuning on 9 qubit qcs: {tuned_acc:.2f}\")"
   ]
  },
  {
   "cell_type": "code",
   "execution_count": null,
   "id": "0ff55537-157f-4508-ad51-b2450b40e534",
   "metadata": {},
   "outputs": [],
   "source": []
  },
  {
   "cell_type": "code",
   "execution_count": null,
   "id": "a13b3bcc-b957-4d25-9090-df469c5f6d42",
   "metadata": {},
   "outputs": [],
   "source": [
    "import genQC\n",
    "print(\"genQC Version\", genQC.__version__)"
   ]
  }
 ],
 "metadata": {
  "kernelspec": {
   "display_name": "vit",
   "language": "python",
   "name": "python3"
  },
  "language_info": {
   "codemirror_mode": {
    "name": "ipython",
    "version": 3
   },
   "file_extension": ".py",
   "mimetype": "text/x-python",
   "name": "python",
   "nbconvert_exporter": "python",
   "pygments_lexer": "ipython3",
   "version": "3.10.16"
  },
  "widgets": {
   "application/vnd.jupyter.widget-state+json": {
    "state": {},
    "version_major": 2,
    "version_minor": 0
   }
  }
 },
 "nbformat": 4,
 "nbformat_minor": 5
}
