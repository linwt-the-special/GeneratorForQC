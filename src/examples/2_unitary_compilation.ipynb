{
 "cells": [
  {
   "cell_type": "markdown",
   "id": "69a855f1-55dd-482e-94f2-9ad02804be4d",
   "metadata": {},
   "source": [
    "# Compile unitaries"
   ]
  },
  {
   "cell_type": "markdown",
   "id": "e41e2465-49d8-46b8-b046-6ae1becfb268",
   "metadata": {},
   "source": [
    "In this notebook we want use the unitary compilation model."
   ]
  },
  {
   "cell_type": "code",
   "execution_count": null,
   "id": "3bde494e-9091-41a4-a601-bbcf9712c564",
   "metadata": {},
   "outputs": [],
   "source": [
    "from generator.imports import *\n",
    "from generator.pipeline.diffusion_pipeline import DiffusionPipeline\n",
    "from QuICT.core import Circuit\n",
    "from generator.inference.infer_compilation import generate_comp_tensors, get_gate_and_U_acc\n",
    "from generator.printing import display_colums\n",
    "from generator.platform.simulation.qcircuit_sim import instruction_name_to_gate\n",
    "import generator.platform.qcircuit_dataset_construction as data_const\n",
    "import generator.util as util\n",
    "import ast"
   ]
  },
  {
   "cell_type": "code",
   "execution_count": null,
   "id": "029be4f3-0d9a-4d0a-93d9-2338fda7a983",
   "metadata": {},
   "outputs": [],
   "source": [
    "device = util.infer_torch_device()  # use cuda if we can\n",
    "util.MemoryCleaner.purge_mem()      # clean existing memory alloc"
   ]
  },
  {
   "cell_type": "code",
   "execution_count": null,
   "id": "3d4ad484-835f-45fd-8772-212ec7ff00c5",
   "metadata": {},
   "outputs": [],
   "source": [
    "def str_cond_to_gate_indices(y):   # helper function, used to check if only allowed gates were used by the model!\n",
    "    assert y[:15] == \"Compile using: \"\n",
    "    c            = ast.literal_eval(y[15:]) \n",
    "    gate_classes = data_const.gate_pool_to_gate_classes([instruction_name_to_gate(gate) for gate in pipeline.gate_pool])\n",
    "    gate_clrs    = [0] + [gate_classes[ic] for ic in c]  # 0 is empty, always allowed!\n",
    "    return gate_clrs"
   ]
  },
  {
   "cell_type": "markdown",
   "id": "f77a3020-247c-4ac0-aaf1-ee5c371b5f06",
   "metadata": {},
   "source": [
    "## Setup and load"
   ]
  },
  {
   "cell_type": "markdown",
   "id": "742ae430-46f2-4099-ac8f-f422a4ddc1dc",
   "metadata": {},
   "source": [
    "Load the pre-trained model directly from [Hugging Face: Floki00/qc_unitary_3qubit](https://huggingface.co/Floki00/qc_unitary_3qubit)."
   ]
  },
  {
   "cell_type": "code",
   "execution_count": null,
   "id": "e5d60c23-9514-4432-bc82-622c088fced6",
   "metadata": {},
   "outputs": [],
   "source": [
    "pipeline = DiffusionPipeline.from_pretrained(\"Floki00/qc_unitary_3qubit\", device)"
   ]
  },
  {
   "cell_type": "markdown",
   "id": "431d3e29-f121-4c61-95bc-bfd7960a4870",
   "metadata": {},
   "source": [
    "Set 20 sample steps and use rescaled guidance-formula."
   ]
  },
  {
   "cell_type": "code",
   "execution_count": null,
   "id": "96702fba-5a10-44e6-bef9-634d9e41a1af",
   "metadata": {},
   "outputs": [],
   "source": [
    "pipeline.guidance_sample_mode = \"rescaled\"\n",
    "pipeline.scheduler.set_timesteps(20) \n",
    "g = 10"
   ]
  },
  {
   "cell_type": "markdown",
   "id": "2b557151-ba81-423e-8f28-8e35a781b92b",
   "metadata": {},
   "source": [
    "The model was trained with a gate pool of:"
   ]
  },
  {
   "cell_type": "code",
   "execution_count": null,
   "id": "e6a15d3a-b658-429f-99d5-2bcbdcb955cf",
   "metadata": {},
   "outputs": [],
   "source": [
    "pipeline.gate_pool"
   ]
  },
  {
   "cell_type": "markdown",
   "id": "65acff8f-8486-42c9-8e78-b44f31de568b",
   "metadata": {},
   "source": [
    "## Compile a unitary"
   ]
  },
  {
   "cell_type": "markdown",
   "id": "37444b73-0b79-4fd3-9e91-2dd521f428d3",
   "metadata": {},
   "source": [
    "Compile a given unitary $U$. Note, there has to be a solution with the `pipeline.gate_pool` in order to find the exact solution."
   ]
  },
  {
   "cell_type": "code",
   "execution_count": null,
   "id": "0a78b750-181c-4060-bbce-d829c190ffbb",
   "metadata": {},
   "outputs": [],
   "source": [
    "def compile_and_plot(U, prompt):\n",
    "    U_r, U_i = torch.Tensor(np.real(U)), torch.Tensor(np.imag(U))\n",
    "    U_tensor = torch.stack([U_r, U_i], dim=0)\n",
    "    \n",
    "    out_tensor                           = generate_comp_tensors(pipeline, prompt, U_tensor, samples, num_of_qubits, num_of_qubits, max_gates, g, unique=True)\n",
    "    _, _, _, _, _, comb_corr_qc, _, _, _ = get_gate_and_U_acc(out_tensor, str_cond_to_gate_indices(prompt), U_tensor, pipeline.gate_pool, num_of_qubits, max_gates)\n",
    "    comb_corr_qc                         = sorted(comb_corr_qc, key=lambda x: len(x.data)) #sort to get the shortest solutions\n",
    "\n",
    "    fig, axs = plt.subplots(1,4, figsize=(18,5), constrained_layout=True)\n",
    "    axs[0].set_title(f\"{prompt}\")\n",
    "    for qc,ax in zip(comb_corr_qc, axs.flatten()): \n",
    "        qc.draw(\"mpl\", plot_barriers=False, ax=ax)\n",
    "    plt.show()"
   ]
  },
  {
   "cell_type": "code",
   "execution_count": null,
   "id": "b49dc061-6ad1-4e64-ab63-3c2a6b7c092e",
   "metadata": {},
   "outputs": [],
   "source": [
    "samples       = 512\n",
    "num_of_qubits = 3\n",
    "max_gates     = 12"
   ]
  },
  {
   "cell_type": "code",
   "execution_count": null,
   "id": "7f3744d1-fa19-4403-bd0c-d0dadac805a3",
   "metadata": {},
   "outputs": [],
   "source": [
    "prompt = \"Compile using: ['h', 'cx', 'z', 'x', 'ccx', 'swap']\" # model was trained with phrases like this, allow full gate set\n",
    "prompt"
   ]
  },
  {
   "cell_type": "markdown",
   "id": "6f38e035-f39c-4abd-bdc9-6386305cd4ca",
   "metadata": {},
   "source": [
    "#### Exercise 1"
   ]
  },
  {
   "cell_type": "markdown",
   "id": "204dbc2d-b69f-45bd-9a48-d10e4d6bde84",
   "metadata": {},
   "source": [
    "Inspired from [(quantumcomputing.stackexchange.com/questions/13821/generate-a-3-qubit-swap-unitary-in-terms-of-elementary-gates/13826)](https://quantumcomputing.stackexchange.com/questions/13821/generate-a-3-qubit-swap-unitary-in-terms-of-elementary-gates/13826). Note, this unitary WAS in the training set."
   ]
  },
  {
   "cell_type": "code",
   "execution_count": null,
   "id": "5b826437-bcc8-40fd-9c99-f69082fe2efe",
   "metadata": {},
   "outputs": [],
   "source": [
    "U = np.matrix([[1,0,0,0,0,0,0,0],\n",
    "               [0,1,0,0,0,0,0,0],\n",
    "               [0,0,1,0,0,0,0,0],\n",
    "               [0,0,0,0,1,0,0,0],\n",
    "               [0,0,0,1,0,0,0,0],\n",
    "               [0,0,0,0,0,1,0,0],\n",
    "               [0,0,0,0,0,0,1,0],\n",
    "               [0,0,0,0,0,0,0,1]], dtype=np.complex128) \n",
    "\n",
    "assert np.allclose(U.H@U, np.identity(2**num_of_qubits)) and np.allclose(U@U.H, np.identity(2**num_of_qubits)) #check if unitary"
   ]
  },
  {
   "cell_type": "markdown",
   "id": "16dd2cd2-2ff5-4e7f-94d2-be51713fa322",
   "metadata": {},
   "source": [
    "Plot correct (exact) compiled circuits:"
   ]
  },
  {
   "cell_type": "code",
   "execution_count": null,
   "id": "e7b35524-f303-4744-b948-1c7dac4fa2e7",
   "metadata": {},
   "outputs": [],
   "source": [
    "compile_and_plot(U, prompt)"
   ]
  },
  {
   "cell_type": "markdown",
   "id": "8914651c-a30e-4a5b-aaa4-d98debd7147a",
   "metadata": {},
   "source": [
    "#### Exercise 2"
   ]
  },
  {
   "cell_type": "markdown",
   "id": "3d0c618b-2e8d-4037-a1ec-482324112fb8",
   "metadata": {},
   "source": [
    "Inspired from [(quantumcomputing.stackexchange.com/questions/12439/procedures-and-intuition-for-designing-simple-quantum-circuits/12440)](https://quantumcomputing.stackexchange.com/questions/12439/procedures-and-intuition-for-designing-simple-quantum-circuits/12440). Note, this unitary WAS in the training set."
   ]
  },
  {
   "cell_type": "code",
   "execution_count": null,
   "id": "1b170062-d7aa-4bef-b1d1-a68e85e682ba",
   "metadata": {},
   "outputs": [],
   "source": [
    "U = np.matrix([[1,0,0,0,0,0,0,0],\n",
    "               [0,0,0,0,0,0,0,1],\n",
    "               [0,1,0,0,0,0,0,0],\n",
    "               [0,0,1,0,0,0,0,0],\n",
    "               [0,0,0,1,0,0,0,0],\n",
    "               [0,0,0,0,1,0,0,0],\n",
    "               [0,0,0,0,0,1,0,0],\n",
    "               [0,0,0,0,0,0,1,0]], dtype=np.complex128) \n",
    "\n",
    "assert np.allclose(U.H@U, np.identity(2**num_of_qubits)) and np.allclose(U@U.H, np.identity(2**num_of_qubits)) #check if unitary"
   ]
  },
  {
   "cell_type": "markdown",
   "id": "dc81558e-a227-4490-94bc-044ba6dcd502",
   "metadata": {},
   "source": [
    "Plot correct (exact) compiled circuits:"
   ]
  },
  {
   "cell_type": "code",
   "execution_count": null,
   "id": "3886fbf5-3f6f-4a44-89b7-d0a332a69334",
   "metadata": {},
   "outputs": [],
   "source": [
    "compile_and_plot(U, prompt)"
   ]
  },
  {
   "cell_type": "markdown",
   "id": "46d42b16-2fcf-422a-a206-3eee667f4d4b",
   "metadata": {},
   "source": [
    "#### Exercise 3"
   ]
  },
  {
   "cell_type": "markdown",
   "id": "c9824ae0-f3c6-4755-8a5b-aacb22678ec9",
   "metadata": {},
   "source": [
    "A randomly generated unitary (from a random circuit). This unitary WAS NOT in the training set, it is new to the model!"
   ]
  },
  {
   "cell_type": "code",
   "execution_count": null,
   "id": "63c51c9b-638a-42c4-8029-9add147d2255",
   "metadata": {},
   "outputs": [],
   "source": [
    "U = np.matrix([[ 0.70710678,  0.        ,  0.        , 0.        ,  0.70710678,  0.        , 0.        ,  0.        ],\n",
    "               [ 0.        , -0.70710678,  0.        , 0.        ,  0.        , -0.70710678, 0.        ,  0.        ],\n",
    "               [-0.70710678,  0.        ,  0.        , 0.        ,  0.70710678,  0.        , 0.        ,  0.        ],\n",
    "               [ 0.        ,  0.70710678,  0.        , 0.        ,  0.        , -0.70710678, 0.        ,  0.        ],\n",
    "               [ 0.        ,  0.        ,  0.70710678, 0.        ,  0.        ,  0.        , 0.        ,  0.70710678],\n",
    "               [ 0.        ,  0.        ,  0.        , 0.70710678,  0.        ,  0.        , 0.70710678,  0.        ],\n",
    "               [ 0.        ,  0.        , -0.70710678, 0.        ,  0.        ,  0.        , 0.        ,  0.70710678],\n",
    "               [ 0.        ,  0.        ,  0.        ,-0.70710678,  0.        ,  0.        , 0.70710678,  0.        ]], dtype=np.complex128)\n",
    "\n",
    "assert np.allclose(U.H@U, np.identity(2**num_of_qubits)) and np.allclose(U@U.H, np.identity(2**num_of_qubits)) #check if unitary"
   ]
  },
  {
   "cell_type": "markdown",
   "id": "5b5e50fd-da8d-47fb-aabb-92044aaba2ce",
   "metadata": {},
   "source": [
    "Plot correct (exact) compiled circuits:"
   ]
  },
  {
   "cell_type": "code",
   "execution_count": null,
   "id": "d6d5023f-b3f4-4cc6-81cb-eead8ffee190",
   "metadata": {},
   "outputs": [],
   "source": [
    "compile_and_plot(U, prompt)"
   ]
  },
  {
   "cell_type": "markdown",
   "id": "60d35449-67b2-4ce0-9b5f-ac60670538e5",
   "metadata": {},
   "source": [
    "## Transpile and discover"
   ]
  },
  {
   "cell_type": "markdown",
   "id": "41449006-9c42-4109-bb54-95581f90679a",
   "metadata": {},
   "source": [
    "Set an initial circuit we want to transpile, optimize or use for discovering sub-arrangements:"
   ]
  },
  {
   "cell_type": "code",
   "execution_count": null,
   "id": "f1c82de5-3645-403b-a54e-5185860b0f7c",
   "metadata": {},
   "outputs": [],
   "source": [
    "qc = Circuit(3)\n",
    "H | qc([2])\n",
    "CX | qc([0,1])\n",
    "CX | qc([2,1])\n",
    "H | qc([1])\n",
    "X | qc([1])\n",
    "H | qc([1])\n",
    "X | qc([2])\n",
    "\n",
    "U = qc.matrix() # the unitary of the circuit\n",
    "\n",
    "#-----------------------------------------\n",
    "\n",
    "fig = qc.draw()\n",
    "fig"
   ]
  },
  {
   "cell_type": "markdown",
   "id": "db8fb061-d950-4727-a1b1-56ea46e48f1b",
   "metadata": {},
   "source": [
    "We set different gate pool targets to see what the model gives us:"
   ]
  },
  {
   "cell_type": "code",
   "execution_count": null,
   "id": "8a35405a-d98d-460b-9b0c-92d167266ad0",
   "metadata": {},
   "outputs": [],
   "source": [
    "cs_1 = f\"Compile using: {[x for x in pipeline.gate_pool]}\", \"all\"\n",
    "\n",
    "cs_2 = \"Compile using: ['h', 'cx', 'z', 'ccx']\" , \"no x, no swap\"    \n",
    "cs_3 = \"Compile using: ['h', 'cx', 'x', 'ccx']\" , \"no z, no swap\"    \n",
    "cs_4 = \"Compile using: ['h', 'x', 'ccx']\"       , \"no cx, no z, no swap\" \n",
    "cs_5 = \"Compile using: ['h', 'z', 'x', 'ccx']\"  , \"no cx, no swap\"  \n",
    "\n",
    "cs = [cs_1, cs_2, cs_3, cs_4, cs_5]\n",
    "cs"
   ]
  },
  {
   "cell_type": "code",
   "execution_count": null,
   "id": "67e3aa4e-e7e0-4f7a-9a5c-14a70dd6b77b",
   "metadata": {},
   "outputs": [],
   "source": [
    "samples       = 512\n",
    "num_of_qubits = 3\n",
    "max_gates     = 12"
   ]
  },
  {
   "cell_type": "markdown",
   "id": "adfbef8e-d91a-4ed3-b756-0e76c33674fa",
   "metadata": {},
   "source": [
    "Compile with the different gate-sets and plot correct (exact) compiled circuits. Note, some of the circuits might look the same but the gate time-sequences are distinct. Qiskit reorders \"parallel\" gates to make smaller plots."
   ]
  },
  {
   "cell_type": "code",
   "execution_count": null,
   "id": "6268abb3-1965-4a0e-b5dc-0f3c8db8264a",
   "metadata": {},
   "outputs": [],
   "source": [
    "for c, note in cs: compile_and_plot(U, c)"
   ]
  },
  {
   "cell_type": "code",
   "execution_count": null,
   "id": "ef5f0dc2-ad3a-467a-89dd-36d296d458ac",
   "metadata": {},
   "outputs": [],
   "source": [
    "import generator\n",
    "print(\"generator Version\", generator.__version__)"
   ]
  }
 ],
 "metadata": {
  "kernelspec": {
   "display_name": "python3",
   "language": "python",
   "name": "python3"
  },
  "widgets": {
   "application/vnd.jupyter.widget-state+json": {
    "state": {},
    "version_major": 2,
    "version_minor": 0
   }
  }
 },
 "nbformat": 4,
 "nbformat_minor": 5
}
