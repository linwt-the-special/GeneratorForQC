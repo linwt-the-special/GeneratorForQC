{
 "cells": [
  {
   "cell_type": "code",
   "execution_count": null,
   "metadata": {},
   "outputs": [],
   "source": [
    "import os\n",
    "\n",
    "# 获取当前工作目录\n",
    "current_dir = os.getcwd()\n",
    "\n",
    "# # 改变工作目录到上一级目录\n",
    "# os.chdir(os.path.join(current_dir, '..'))\n",
    "\n",
    "# 切换到上上级目录\n",
    "os.chdir(os.path.join(current_dir, \"..\", \"..\"))"
   ]
  },
  {
   "cell_type": "code",
   "execution_count": null,
   "metadata": {},
   "outputs": [],
   "source": [
    "from QuICT.simulation.density_matrix import DensityMatrixSimulator\n",
    "simulator = DensityMatrixSimulator(\n",
    "    device=\"CPU\",\n",
    "    precision=\"double\"\n",
    "    )   \n",
    "svr = schmidt_rank_vector(simulator.run(qc))"
   ]
  }
 ],
 "metadata": {
  "kernelspec": {
   "display_name": "vit",
   "language": "python",
   "name": "python3"
  },
  "language_info": {
   "name": "python",
   "version": "3.9.20"
  }
 },
 "nbformat": 4,
 "nbformat_minor": 2
}
