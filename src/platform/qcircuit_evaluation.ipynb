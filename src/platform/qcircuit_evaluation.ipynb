{
 "cells": [
  {
   "cell_type": "markdown",
   "id": "a8980c24-d62e-462b-ba89-3195cfdcc374",
   "metadata": {},
   "source": [
    "# Quantum circuit evaluation"
   ]
  },
  {
   "cell_type": "code",
   "execution_count": 1,
   "id": "a8832bdd-f61c-44e1-8619-a9cb352ba768",
   "metadata": {},
   "outputs": [],
   "source": [
    "#| default_exp platform.qcircuit_evaluation"
   ]
  },
  {
   "cell_type": "code",
   "execution_count": 2,
   "id": "cc528cdb",
   "metadata": {},
   "outputs": [],
   "source": [
    "import os\n",
    "\n",
    "# 获取当前工作目录\n",
    "current_dir = os.getcwd()\n",
    "\n",
    "# # 改变工作目录到上一级目录\n",
    "# os.chdir(os.path.join(current_dir, '..'))\n",
    "\n",
    "# 切换到上上级目录\n",
    "os.chdir(os.path.join(current_dir, \"..\", \"..\"))"
   ]
  },
  {
   "cell_type": "code",
   "execution_count": 3,
   "id": "06272f6f-b4e3-4504-a90a-feebbf6ad821",
   "metadata": {},
   "outputs": [
    {
     "name": "stdout",
     "output_type": "stream",
     "text": [
      "Please install quict_sim first, you can use 'pip install quict_sim' to install. \n"
     ]
    }
   ],
   "source": [
    "#| export\n",
    "from generator.imports import *\n",
    "from generator.platform.qcircuit_dataset_construction import *\n",
    "from generator.platform.simulation.qcircuit_sim import schmidt_rank_vector, optimize_circuit\n",
    "\n",
    "from QuICT.core import Circuit\n",
    "from QuICT.core.operator import *"
   ]
  },
  {
   "cell_type": "markdown",
   "id": "c19c4594-4749-4e91-bfc5-27cf95508de0",
   "metadata": {},
   "source": [
    "## Gate count"
   ]
  },
  {
   "cell_type": "code",
   "execution_count": 4,
   "id": "5df02715-8767-43ff-871d-8075871f1edf",
   "metadata": {},
   "outputs": [],
   "source": [
    "#| export\n",
    "def sort_into_bins(x, y, y_uniques):\n",
    "    \n",
    "    x_binned = []\n",
    "    y_binned = []\n",
    "    \n",
    "    for y_unique in y_uniques:\n",
    "    \n",
    "        comp    = torch.all(y==y_unique, dim=-1)\n",
    "        indices = comp.nonzero().squeeze()\n",
    "        \n",
    "        x_binned.append(x[indices])\n",
    "        y_binned.append(y[indices])\n",
    "    \n",
    "    y_bins = [y[0] for y in y_binned]\n",
    "    \n",
    "    return x_binned, y_binned, y_bins"
   ]
  },
  {
   "cell_type": "code",
   "execution_count": 5,
   "id": "e2357103-f41c-4caa-ae05-0f90bc26ebcf",
   "metadata": {},
   "outputs": [],
   "source": [
    "#| export\n",
    "def extract_gate_number(qc: Circuit, gate_pool, max_gates):    \n",
    "    gate_classes = {\"empty\":0} | {x().type.name:i+1 for i,x in enumerate(gate_pool)}\n",
    "       \n",
    "    gate_cnt = np.zeros(len(gate_classes), dtype=int)   \n",
    "    \n",
    "    if hasattr(qc, \"data\"):    \n",
    "        for t, gate in enumerate(qc.gates):   \n",
    "            gate_id = gate_classes[gate.type.name]       \n",
    "            gate_cnt[gate_id] += 1\n",
    "                \n",
    "    gate_cnt[0] = max_gates - sum(gate_cnt[1:])\n",
    "        \n",
    "    return gate_cnt, gate_classes"
   ]
  },
  {
   "cell_type": "code",
   "execution_count": 6,
   "id": "882cd1bd-2c14-4739-9bd4-cb5a42f450d2",
   "metadata": {},
   "outputs": [],
   "source": [
    "#| export\n",
    "def get_gate_stat_from_tensors(tensors, gate_pool):\n",
    "    for i,tensor in tqdm(enumerate(tensors), total=tensors.shape[0]):       \n",
    "        qc = decode_circuit(tensor, gate_pool)\n",
    "        \n",
    "        t_gate_cnts, gate_dict = extract_gate_number(qc, gate_pool, max_gates=tensor.shape[1])\n",
    "  \n",
    "        if i > 0: gate_cnts = np.vstack([gate_cnts, t_gate_cnts])\n",
    "        else:     gate_cnts = t_gate_cnts\n",
    "\n",
    "    return gate_cnts, gate_dict"
   ]
  },
  {
   "cell_type": "code",
   "execution_count": 7,
   "id": "0b67ae98-5d20-4e5c-bad9-498a078b6b4c",
   "metadata": {},
   "outputs": [],
   "source": [
    "#| export\n",
    "def get_gate_stat_from_circuits(qcs: list, gate_pool, max_gates):\n",
    "    for i,qc in tqdm(enumerate(qcs), total=len(qcs)):\n",
    "        \n",
    "        t_gate_cnts, gate_dict = extract_gate_number(qc, gate_pool, max_gates)\n",
    "  \n",
    "        if i > 0: gate_cnts = np.vstack([gate_cnts, t_gate_cnts])\n",
    "        else:     gate_cnts = t_gate_cnts\n",
    "\n",
    "    return gate_cnts, gate_dict"
   ]
  },
  {
   "cell_type": "markdown",
   "id": "f41f26a8-ac40-4e91-8c0e-1ef07a0fd4f4",
   "metadata": {},
   "source": [
    "# Export -"
   ]
  },
  {
   "cell_type": "code",
   "execution_count": 9,
   "id": "a0474216-8e0c-4ba7-9a37-571ac7d8e82c",
   "metadata": {},
   "outputs": [],
   "source": [
    "#| hide\n",
    "import nbdev; nbdev.nbdev_export()"
   ]
  }
 ],
 "metadata": {
  "kernelspec": {
   "display_name": "vit",
   "language": "python",
   "name": "python3"
  },
  "language_info": {
   "codemirror_mode": {
    "name": "ipython",
    "version": 3
   },
   "file_extension": ".py",
   "mimetype": "text/x-python",
   "name": "python",
   "nbconvert_exporter": "python",
   "pygments_lexer": "ipython3",
   "version": "3.10.16"
  }
 },
 "nbformat": 4,
 "nbformat_minor": 5
}
